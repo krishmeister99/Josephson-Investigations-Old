{
 "cells": [
  {
   "attachments": {},
   "cell_type": "markdown",
   "metadata": {},
   "source": [
    "### Alternative equation for CPR:\n",
    "*\"Anomalous temperature dependence of the supercurrent through a chaotic Josephson junction\"*\n",
    "$$ I = \\frac{e}{\\hbar}2k_{B}T\\frac{\\partial}{\\partial \\phi}\\sum_{n = 0}^{\\infty} \\ln\\left[ \\textrm{det}\\left(\\hat{1} - \\hat{s}_{A}(i\\omega_{n})\\hat{s}_{N}(i\\omega_{n}) \\right)\\right] $$\n",
    "where $\\omega_{n} = (2n + 1)\\pi k_{B} T$."
   ]
  },
  {
   "cell_type": "code",
   "execution_count": 1,
   "metadata": {},
   "outputs": [
    {
     "name": "stderr",
     "output_type": "stream",
     "text": [
      "/Users/krishnanganesh/anaconda3/lib/python3.8/site-packages/kwant/solvers/default.py:16: RuntimeWarning: MUMPS is not available, SciPy built-in solver will be used as a fallback. Performance can be very poor in this case.\n",
      "  warnings.warn(\"MUMPS is not available, \"\n"
     ]
    }
   ],
   "source": [
    "%load_ext autoreload\n",
    "\n",
    "import kwant\n",
    "import numpy as np\n",
    "import matplotlib.pyplot as plt \n",
    "import kwant.continuum\n",
    "import scipy.sparse.linalg as sla\n",
    "import tinyarray as tiny\n",
    "import matplotlib as mpl\n",
    "import warnings\n",
    "warnings.filterwarnings(\"ignore\", category=np.VisibleDeprecationWarning) \n",
    "warnings.filterwarnings(\"ignore\", category=RuntimeWarning) \n",
    "\n",
    "%matplotlib widget\n",
    "mpl.rcParams.update({'font.size': 20, 'text.usetex': True,  'font.family': 'serif', 'font.serif': ['Computer Modern']})\n",
    "\n",
    "sx = tiny.array([[0 , 1] , [1 , 0]])\n",
    "sy = tiny.array([[0 , -1j] , [1j , 0]])\n",
    "sz = tiny.array([[1 , 0] , [0 , -1]])\n",
    "\n",
    "\n",
    "I = tiny.array([[1 , 0] , [0 , 1]])\n",
    "t_plus = 0.5*(np.kron(sx , I) + 1j*np.kron(sy , I))\n",
    "t_minus = t_plus.T\n",
    "phs = np.kron(sy , sy)\n",
    "\n",
    "from dataclasses import dataclass\n",
    "import RGF_single_orbital as so\n",
    "import RGFtools as rg\n",
    "@dataclass\n",
    "class JosephsonParameters:\n",
    "    W : int # Width of junction in the y direction\n",
    "    L : int # Length of junction in x-direction.\n",
    "    a : float\n",
    "    t: float\n",
    "    flux : float\n",
    "    energy: float\n",
    "    Delta: float\n",
    "    phase: float\n",
    "    mu: float\n",
    "    tol: float\n",
    "    V_0: float # Tip potential\n",
    "    d: float # Width of tip potential \n",
    "    x_tip: float # x_coordinate of tip\n",
    "    y_tip: float # y_coordinate of tip\n",
    "    v :float # Potential barrier at NS interface.\n",
    "from scipy.linalg import orth"
   ]
  },
  {
   "cell_type": "code",
   "execution_count": 81,
   "metadata": {},
   "outputs": [],
   "source": [
    "# Computing normal and Andreev reflection matrices between the two superconducting leads:\n",
    "def compute_normal_s_matrix(params):\n",
    "    B = params.flux/((params.W)*(params.L ))\n",
    "    peierlphase = B*params.a*2*np.pi\n",
    "    syst = kwant.Builder()\n",
    "    lat = kwant.lattice.square(a = params.a , norbs = 1)\n",
    "\n",
    "    def tip_potential(V_0 , d ,x , y, x_tip , y_tip):\n",
    "        return V_0 / ( 1 + ((x - x_tip)**2  + (y - y_tip)**2)/(d**2))\n",
    "    \n",
    "    for i in range(int(params.W / params.a)):\n",
    "        for j in range(int(params.L / params.a)):\n",
    "            syst[lat(i , j)] = 4*params.t/(params.a**2) - params.mu + tip_potential(params.V_0 , params.d , i*params.a ,\n",
    "                                                                                    j*params.a , params.x_tip , params.y_tip)\n",
    "            if i > 0:\n",
    "                syst[lat(i , j) , lat(i-1 , j)] = -(params.t/(params.a**2))*np.exp(1j*(j*params.a)*peierlphase)/(params.a**2)\n",
    "            if j > 0:\n",
    "                syst[lat(i , j) , lat(i , j-1)] = -(params.t/(params.a**2))\n",
    "\n",
    "    \n",
    "    # Construct normal leads, with no magnetic field to account for screening.\n",
    "    lead = kwant.Builder(kwant.TranslationalSymmetry((-params.a , 0)))\n",
    "    for j in range(int(params.L / params.a)):\n",
    "        lead[lat(0 , j)] = 4*params.t/(params.a**2) - params.mu\n",
    "        if j > 0:\n",
    "            lead[lat(0 , j) , lat(0 , j-1)] = -(params.t/(params.a**2))\n",
    "        lead[lat(1 , j) , lat(0 , j)] = -(params.t/(params.a**2))\n",
    "    \n",
    "    syst.attach_lead(lead)\n",
    "    syst.attach_lead(lead.reversed())\n",
    "    syst = syst.finalized()\n",
    "    # Compute S-matrix of the normal region between leads. In the short junction regime , we can calcualte it at E = 0.\n",
    "    s_matrix = kwant.smatrix(syst , params.energy , check_hermiticity=False)\n",
    "    wf = kwant.wave_function(syst , energy = params.energy , check_hermiticity=False)\n",
    "    return s_matrix , wf , syst\n",
    "\n",
    "def compute_Andreev_reflection_matrix(params):\n",
    "    # Set-up:\n",
    "    #-N-N-N-N-N-V-S-S-S-S-\n",
    "    # Where N= normal metal , S = superconducting lead , V = single slice with an optional potential shift.\n",
    "    syst = kwant.Builder()\n",
    "    lat = kwant.lattice.square(a = params.a , norbs = 2) #<- 2 orbitals for electrons and holes.\n",
    "    \n",
    "    for i in range(2):\n",
    "        for j in range(int(params.L/params.a)):\n",
    "            if i == 0:\n",
    "                syst[lat(i , j)] =  4*params.t/(params.a**2)*sz - params.mu*sz + params.v*sz\n",
    "            if i == 1:\n",
    "                syst[lat(i , j)] =  4*params.t/(params.a**2)*sz - params.mu*sz + params.v*sz + params.Delta*sx                \n",
    "            if i>0:\n",
    "                syst[lat(i , j) , lat(i-1 , j)] = -(params.t/(params.a**2))*sz\n",
    "            if j>0:\n",
    "                syst[lat(i , j), lat(i , j-1)] = -(params.t/(params.a**2))*sz\n",
    "    \n",
    "    normal_lead = kwant.Builder(kwant.TranslationalSymmetry(( -params.a , 0 )) , conservation_law = -sz , particle_hole = sy)\n",
    "    for j in range(int(params.L / params.a)):\n",
    "        normal_lead[lat(0 , j)] = 4*params.t/(params.a**2)*sz - params.mu*sz\n",
    "        if j > 0:\n",
    "            normal_lead[lat(0 , j), lat(0 , j-1)] =  -(params.t/(params.a**2))*sz\n",
    "        normal_lead[lat(1 , j) , lat(0 , j)] =  -(params.t/(params.a**2))*sz\n",
    "\n",
    "    sc_lead = kwant.Builder(kwant.TranslationalSymmetry((-params.a , 0)))\n",
    "    for j in range(int(params.L / params.a)):\n",
    "        sc_lead[lat(0 , j)] =  4*params.t/(params.a**2)*sz - params.mu*sz + params.Delta*sx\n",
    "        if j > 0:\n",
    "            sc_lead[lat(0 , j), lat(0 , j-1)] =  -(params.t/(params.a**2))*sz\n",
    "        sc_lead[lat(1 , j) , lat(0 , j)] =  -(params.t/(params.a**2))*sz\n",
    "    \n",
    "    syst.attach_lead(normal_lead)\n",
    "    syst.attach_lead(sc_lead.reversed())\n",
    "    syst = syst.finalized()\n",
    "\n",
    "    smatrix = kwant.smatrix(syst , energy = params.energy , check_hermiticity= False)\n",
    "    return smatrix"
   ]
  },
  {
   "cell_type": "code",
   "execution_count": 87,
   "metadata": {},
   "outputs": [
    {
     "name": "stdout",
     "output_type": "stream",
     "text": [
      "(0, 0)\n",
      "(0, 0)\n"
     ]
    },
    {
     "name": "stderr",
     "output_type": "stream",
     "text": [
      "/var/folders/q7/mt24cx7d41b3712vq5fcskd80000gn/T/ipykernel_3930/4080782282.py:27: UserWarning: Attempting to set identical left == right == -0.5 results in singular transformations; automatically expanding.\n",
      "  ax[0].imshow(np.abs(normal_smatrix.data))\n",
      "/var/folders/q7/mt24cx7d41b3712vq5fcskd80000gn/T/ipykernel_3930/4080782282.py:27: UserWarning: Attempting to set identical bottom == top == -0.5 results in singular transformations; automatically expanding.\n",
      "  ax[0].imshow(np.abs(normal_smatrix.data))\n",
      "/var/folders/q7/mt24cx7d41b3712vq5fcskd80000gn/T/ipykernel_3930/4080782282.py:28: UserWarning: Attempting to set identical left == right == -0.5 results in singular transformations; automatically expanding.\n",
      "  ax[1].imshow(np.abs(ns.data))\n",
      "/var/folders/q7/mt24cx7d41b3712vq5fcskd80000gn/T/ipykernel_3930/4080782282.py:28: UserWarning: Attempting to set identical bottom == top == -0.5 results in singular transformations; automatically expanding.\n",
      "  ax[1].imshow(np.abs(ns.data))\n",
      "/var/folders/q7/mt24cx7d41b3712vq5fcskd80000gn/T/ipykernel_3930/4080782282.py:44: UserWarning: Attempting to set identical left == right == -0.5 results in singular transformations; automatically expanding.\n",
      "  ax[2].imshow(np.abs(ns_andreev_highlighted))\n",
      "/var/folders/q7/mt24cx7d41b3712vq5fcskd80000gn/T/ipykernel_3930/4080782282.py:44: UserWarning: Attempting to set identical bottom == top == -0.5 results in singular transformations; automatically expanding.\n",
      "  ax[2].imshow(np.abs(ns_andreev_highlighted))\n"
     ]
    },
    {
     "data": {
      "application/vnd.jupyter.widget-view+json": {
       "model_id": "4c2e1b4ca57d434a8014a889170e9af9",
       "version_major": 2,
       "version_minor": 0
      },
      "image/png": "[encoded data removed]",
      "text/html": [
       "\n",
       "            <div style=\"display: inline-block;\">\n",
       "                <div class=\"jupyter-widgets widget-label\" style=\"text-align: center;\">\n",
       "                    Figure\n",
       "                </div>\n",
       "                <img src='data:image/png;base64,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' width=900.0/>\n",
       "            </div>\n",
       "        "
      ],
      "text/plain": [
       "Canvas(toolbar=Toolbar(toolitems=[('Home', 'Reset original view', 'home', 'home'), ('Back', 'Back to previous …"
      ]
     },
     "metadata": {},
     "output_type": "display_data"
    }
   ],
   "source": [
    "# Parameters:\n",
    "params = JosephsonParameters(W = 10, # Width of junction in the x direction\n",
    "                            L = 10 , # Length of junction in y-direction.\n",
    "                            a = 1 ,\n",
    "                            t  = 1 ,\n",
    "                            flux = 0 ,\n",
    "                            energy = 1j*np.pi*0.01*(2*1 + 1),\n",
    "                            Delta = 1e-4 ,\n",
    "                            phase = 0 ,\n",
    "                            mu = 0.5 ,\n",
    "                            tol = 0 ,\n",
    "                            V_0 = 0 ,# Tip potential\n",
    "                            d= 0.1 , # Width of tip potential \n",
    "                            x_tip = 0 ,# x_coordinate of tip\n",
    "                            y_tip = 0 , # y_coordinate of tip\n",
    "                            v = 0, # Potential barrier at NS interface.                  \n",
    ")\n",
    "# Quick checks:\n",
    "normal_smatrix , wf , syst = compute_normal_s_matrix(params)\n",
    "ns = compute_Andreev_reflection_matrix(params)\n",
    "\n",
    "\n",
    "# Plotting Normal and Andreev reflection matrices:\n",
    "fig , ax = plt.subplots(nrows = 1 , ncols=3 )\n",
    "fig.set_figheight(3)\n",
    "fig.set_figwidth(9)\n",
    "ax[0].imshow(np.abs(normal_smatrix.data))\n",
    "ax[1].imshow(np.abs(ns.data))\n",
    "ax[0].set_title(r'normal')\n",
    "ax[1].set_title(r'NS')\n",
    "\n",
    "# Shapes of matrices - do number of propagating modes match up?\n",
    "print(np.shape(normal_smatrix.data))\n",
    "print(np.shape(ns.data))\n",
    "\n",
    "# Marking the Andreev block:\n",
    "hole_to_electron_slices = ns.block_coords((0 , 0 ) , (0 , 1))\n",
    "electron_to_hole_slices = ns.block_coords((0 , 1 ) , (0 , 0))\n",
    "ns_andreev_highlighted = ns.data\n",
    "ns_andreev_highlighted[hole_to_electron_slices] = 2\n",
    "ns_andreev_highlighted[electron_to_hole_slices] = 2\n",
    "\n",
    "\n",
    "ax[2].imshow(np.abs(ns_andreev_highlighted))\n",
    "# plt.colorbar(mappable = im)\n",
    "ax[2].set_title('Andreev highlighted')\n",
    "plt.tight_layout()\n",
    "\n",
    "\n",
    "\n"
   ]
  },
  {
   "cell_type": "code",
   "execution_count": 76,
   "metadata": {},
   "outputs": [
    {
     "name": "stdout",
     "output_type": "stream",
     "text": [
      "2\n",
      "4\n"
     ]
    }
   ],
   "source": [
    "print(normal_smatrix.num_propagating(1))\n",
    "print(ns.num_propagating(0))"
   ]
  },
  {
   "cell_type": "code",
   "execution_count": null,
   "metadata": {},
   "outputs": [],
   "source": []
  },
  {
   "cell_type": "code",
   "execution_count": null,
   "metadata": {},
   "outputs": [],
   "source": [
    "# # Let's just see if we can get the proper andreev conductance:\n",
    "# def plot_conductance(energies):\n",
    "#     # Compute conductance\n",
    "#     data = np.zeros(shape = energies.shape[0])\n",
    "#     i = 0\n",
    "#     for energy in energies:\n",
    "#         params.energy = energy\n",
    "#         smatrix = compute_Andreev_reflection_matrix(params)\n",
    "#         # Conductance is N - R_ee + R_he\n",
    "#         data[i] = (smatrix.submatrix((0, 0), (0, 0)).shape[0] -\n",
    "#                     smatrix.transmission((0, 0), (0, 0)) +\n",
    "#                     smatrix.transmission((0, 1), 0, 0)))\n",
    "#         i+=1\n",
    "#     return data\n",
    "\n",
    "# energies = np.linspace(0 , 0.2 , 101)\n",
    "# data = plot_conductance(energies)\n",
    "# plt.figure(figsize = (4 , 4))\n",
    "# plt.plot(energies , data)"
   ]
  }
 ],
 "metadata": {
  "kernelspec": {
   "display_name": "base",
   "language": "python",
   "name": "python3"
  },
  "language_info": {
   "codemirror_mode": {
    "name": "ipython",
    "version": 3
   },
   "file_extension": ".py",
   "mimetype": "text/x-python",
   "name": "python",
   "nbconvert_exporter": "python",
   "pygments_lexer": "ipython3",
   "version": "3.8.13"
  },
  "orig_nbformat": 4
 },
 "nbformat": 4,
 "nbformat_minor": 2
}
