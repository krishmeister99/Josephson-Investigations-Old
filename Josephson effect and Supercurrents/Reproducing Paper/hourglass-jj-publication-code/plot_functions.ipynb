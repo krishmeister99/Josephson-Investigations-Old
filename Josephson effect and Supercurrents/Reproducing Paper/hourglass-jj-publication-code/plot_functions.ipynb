{
 "cells": [
  {
   "cell_type": "markdown",
   "metadata": {},
   "source": [
    "## Plotting data "
   ]
  },
  {
   "cell_type": "code",
   "execution_count": null,
   "metadata": {},
   "outputs": [],
   "source": [
    "%matplotlib inline\n",
    "import functions as func\n",
    "import kwant\n",
    "import numpy as np\n",
    "import matplotlib.pyplot as plt\n",
    "import deepdish as dd\n",
    "from matplotlib import rc\n",
    "rc('text', usetex=True)\n",
    "rc('xtick', labelsize=10) \n",
    "rc('ytick', labelsize=10)"
   ]
  },
  {
   "cell_type": "code",
   "execution_count": null,
   "metadata": {},
   "outputs": [],
   "source": [
    "def quasiclassical_plots(filenames, fig_name=None):\n",
    "    plt.figure(figsize=(3.40457, 2.4))\n",
    "    labels = list(['$\\delta L=%1.0f$'%(0), '$\\delta L=L/25$', '$\\delta L=L/10$', '$\\delta L=L/5$'])\n",
    "    for i, file in enumerate(filenames):\n",
    "        f = dd.io.load(file)\n",
    "        par = f['parameters']\n",
    "        I_c= f['Ic'] # critical current\n",
    "        I_c = I_c / np.max(I_c)\n",
    "        flux = f['Flux']\n",
    "        dL = f['x_pos']\n",
    "        label = labels[i]\n",
    "        plt.plot(flux, I_c, label=label)\n",
    "    plt.xlabel('$\\Phi/\\Phi_0$').set_fontsize(10)\n",
    "    plt.ylabel('$I_c/I_o$').set_fontsize(10)\n",
    "    plt.ylim([0, 1])\n",
    "    plt.xlim([0, 20])\n",
    "    plt.legend(handlelength=0.8)\n",
    "    plt.tight_layout()\n",
    "    if fig_name:\n",
    "        plt.savefig(fig_name, format = \"pdf\")\n",
    "    plt.show()\n",
    "    return \n",
    "f1 = './data/Quasiclassics_dL=0.h5'\n",
    "f2 = './data/Quasiclassics_dL=20.0.h5'\n",
    "f3 = './data/Quasiclassics_dL=50.0.h5'\n",
    "f4 = './data/Quasiclassics_dL=100.0.h5'\n",
    "fnames = np.array([f1, f2, f3, f4])\n",
    "quasiclassical_plots(fnames, 'Fig2.pdf')"
   ]
  },
  {
   "cell_type": "code",
   "execution_count": null,
   "metadata": {},
   "outputs": [],
   "source": [
    "def quasiclassical_tuneabledensity_plots(filenames, fig_name=None):\n",
    "    plt.figure(figsize=(3.40457, 2.4))\n",
    "    for file in filenames:\n",
    "        f = dd.io.load(file)\n",
    "        par = f['parameters']\n",
    "        I_c= f['Ic'] # critical current\n",
    "        I_c = I_c / np.max(I_c)\n",
    "        flux = f['Flux']\n",
    "        k1 = f['k1']\n",
    "        k2 = f['k2']\n",
    "        label = '$k_{FL}/k_{FR}=%1.1f$' %(k1/k2)\n",
    "        plt.plot(flux, I_c, label=label)\n",
    "    plt.xlabel('$\\Phi/\\Phi_0$').set_fontsize(10)\n",
    "    plt.ylabel('$I_c/I_o$').set_fontsize(10)\n",
    "    plt.ylim([0, 1])\n",
    "    plt.xlim([0, 20])\n",
    "    plt.legend(handlelength=0.8)\n",
    "    plt.tight_layout()\n",
    "    if fig_name:\n",
    "        plt.savefig(fig_name, format = \"pdf\")\n",
    "    plt.show()\n",
    "    return "
   ]
  },
  {
   "cell_type": "code",
   "execution_count": null,
   "metadata": {},
   "outputs": [],
   "source": [
    "f1 = './data/Quasiclassics_tuneable_k_Fr=1.0.h5'\n",
    "f2 = './data/Quasiclassics_tuneable_k_Fr=0.9.h5'\n",
    "f3 = './data/Quasiclassics_tuneable_k_Fr=0.67.h5'\n",
    "f4 = './data/Quasiclassics_tuneable_k_Fr=0.5.h5'\n",
    "f5 = './data/Quasiclassics_tuneable_k_Fr=0.2.h5'\n",
    "files = np.array([f1, f2, f3, f4, f5])\n",
    "quasiclassical_tuneabledensity_plots(files, 'Fig3.pdf')"
   ]
  },
  {
   "cell_type": "code",
   "execution_count": null,
   "metadata": {},
   "outputs": [],
   "source": [
    "def FP_map_B_and_asymmetry(filename, fig_name=None):\n",
    "    f = dd.io.load(filename)\n",
    "    data = f['data']\n",
    "    I = f['I']\n",
    "    I = I.T\n",
    "    I_c = I/np.max(I)\n",
    "    par = f['parameters']\n",
    "    dLs = f['x_pos']\n",
    "    B = f['B_field']\n",
    "    Delta = f['Delta']\n",
    "    W = f['W']\n",
    "    L = f['L']\n",
    "    Wb = f['width']\n",
    "    flux = B * (W * L / 2 + Wb * L /2)\n",
    "    plt.figure(figsize=(3.40457, 2.4))\n",
    "    plt.imshow(I_c, aspect='auto', origin='lower', extent=(flux[0], flux[-1], dLs[0], dLs[-1]))\n",
    "    plt.xlabel('$\\Phi/\\Phi_0$').set_fontsize(15)\n",
    "    plt.ylabel('$\\delta L/a$').set_fontsize(15)\n",
    "    cbar = plt.colorbar()\n",
    "    cbar.set_label('$I_c/I_0$', fontsize=15)\n",
    "    plt.tight_layout()\n",
    "    plt.xticks([-15, -10, -5, 0, 5, 10, 15])\n",
    "    plt.xlim(-15, 15)\n",
    "    if fig_name:\n",
    "        plt.savefig(fig_name, format=\"pdf\")\n",
    "    return\n",
    "    "
   ]
  },
  {
   "cell_type": "code",
   "execution_count": null,
   "metadata": {},
   "outputs": [],
   "source": [
    "filename = './data/2D_TB_numerics_vs_asymmetry_vs_flux_U=0.h5'\n",
    "FP_map_B_and_asymmetry(filename, 'Fig4.pdf')"
   ]
  },
  {
   "cell_type": "code",
   "execution_count": null,
   "metadata": {},
   "outputs": [],
   "source": [
    "def Fraunhofer_pattern_disorder(filenames, fig_name=None):\n",
    "    labels = list(['$l_0=\\infty$', '$l_0=L$', '$l_0=L/2$', '$l_0=L/3$'])\n",
    "    plt.figure(figsize=(3.40457, 2.4))\n",
    "    for i, file in enumerate(filenames):\n",
    "        f = dd.io.load(file)\n",
    "        current = f['data']\n",
    "        flux = f['Flux']\n",
    "        par = f['parameters']\n",
    "        plt.plot(flux, current/np.max(current), label=labels[i])\n",
    "    plt.xlabel('$\\Phi/\\Phi_0$').set_fontsize(10)\n",
    "    plt.ylabel('$I_c/I_o$').set_fontsize(10)\n",
    "    plt.legend(handlelength=0.8)\n",
    "    plt.ylim([0, 1])\n",
    "    plt.xlim([-20, 20])\n",
    "    plt.tight_layout()\n",
    "    if fig_name:\n",
    "        plt.savefig(fig_name, format=\"pdf\")\n",
    "    return"
   ]
  },
  {
   "cell_type": "code",
   "execution_count": null,
   "metadata": {},
   "outputs": [],
   "source": [
    "f1 = './data/TB_numerics_symmetric_U=0.0.h5'\n",
    "f2 = './data/TB_numerics_symmetric_U=0.31.h5'\n",
    "f3 = './data/TB_numerics_symmetric_U=0.44.h5'\n",
    "f4 = './data/TB_numerics_symmetric_U=0.54.h5'\n",
    "\n",
    "filenames = np.array([f1, f2, f3, f4])\n",
    "Fraunhofer_pattern_disorder(filenames, 'Fig5.pdf')"
   ]
  },
  {
   "cell_type": "code",
   "execution_count": null,
   "metadata": {},
   "outputs": [],
   "source": [
    "def supercurrent_density_maps(filenames, fig_name=None):\n",
    "    fig, axes = plt.subplots(1, 3, sharex=False, sharey=True)\n",
    "    axes = axes.flatten()\n",
    "    for k, d in enumerate(filenames):\n",
    "        f = dd.io.load(d)\n",
    "        box = f['region']\n",
    "        field = f['field']\n",
    "        par = f['parameters']\n",
    "        phase = f['phase']\n",
    "        flux = f['flux_quanta']\n",
    "        W = f['W']\n",
    "        L = f['L']\n",
    "        width = f['width']\n",
    "        syst = func.make_system(a=1, W=W, L=L, dL=0, Wb=width)\n",
    "        kwant.plotter.streamplot(field=field, box=box, max_linewidth=1.0, min_linewidth=0.2, density=0.22,\n",
    "                                 ax=axes[k])\n",
    "        label ='$\\Phi/\\Phi_0=%1.0f$'  %(flux)\n",
    "        axes[k].text(0.35, 0.9, label, transform=axes[k].transAxes, fontsize=12, fontweight='bold', va='top')#         axes[k].legend()\n",
    "        axes[k].set_xlabel('$x/a$', fontsize=12)\n",
    "        if k==0:\n",
    "            axes[k].set_ylabel('$y/a$', fontsize=12)\n",
    "        fig.add_subplot(axes[k])\n",
    "    fig.tight_layout()\n",
    "    fig.subplots_adjust(wspace=0.05)\n",
    "    if fig_name:\n",
    "        plt.savefig(fig_name, format='pdf')\n",
    "    \n",
    "    return fig\n"
   ]
  },
  {
   "cell_type": "code",
   "execution_count": null,
   "metadata": {},
   "outputs": [],
   "source": [
    "d1 = './data/Supercurrent_Density_map_phi=1.57-flux=0.h5'\n",
    "d2 = './data/Supercurrent_Density_map_phi=1.57-flux=3.h5'\n",
    "d3 = './data/Supercurrent_Density_map_phi=1.57-flux=15.h5'\n",
    "filenames = np.array([d1, d2, d3])\n",
    "supercurrent_density_maps(filenames, 'Fig6.pdf');"
   ]
  },
  {
   "cell_type": "code",
   "execution_count": null,
   "metadata": {},
   "outputs": [],
   "source": []
  }
 ],
 "metadata": {
  "kernelspec": {
   "display_name": "Python 3",
   "language": "python",
   "name": "python3"
  },
  "language_info": {
   "codemirror_mode": {
    "name": "ipython",
    "version": 3
   },
   "file_extension": ".py",
   "mimetype": "text/x-python",
   "name": "python",
   "nbconvert_exporter": "python",
   "pygments_lexer": "ipython3",
   "version": "3.6.5"
  }
 },
 "nbformat": 4,
 "nbformat_minor": 1
}
