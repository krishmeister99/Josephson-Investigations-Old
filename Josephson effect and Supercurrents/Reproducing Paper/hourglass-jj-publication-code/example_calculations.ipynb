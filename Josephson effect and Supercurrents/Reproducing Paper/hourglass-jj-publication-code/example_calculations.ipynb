{
 "cells": [
  {
   "cell_type": "code",
   "execution_count": null,
   "metadata": {},
   "outputs": [],
   "source": [
    "%matplotlib inline\n",
    "import matplotlib.pyplot as plt\n",
    "import kwant\n",
    "import functions as func\n",
    "from types import SimpleNamespace\n",
    "import numpy as np"
   ]
  },
  {
   "cell_type": "markdown",
   "metadata": {},
   "source": [
    "## Kwant Simulations"
   ]
  },
  {
   "cell_type": "code",
   "execution_count": null,
   "metadata": {},
   "outputs": [],
   "source": [
    "syst = func.make_system(a=1, W=100, L=100, dL=0, Wb=10)\n",
    "kwant.plot(syst);"
   ]
  },
  {
   "cell_type": "code",
   "execution_count": null,
   "metadata": {},
   "outputs": [],
   "source": [
    "par = SimpleNamespace(t=1, mu=1.01, U0=0, flux=0)\n",
    "smatrix = kwant.smatrix(syst, energy=0, args=[par])\n",
    "supercurrent = func.supercurrent_tight_binding(smatrix=smatrix, phi=np.pi/2, Delta=0.1)"
   ]
  },
  {
   "cell_type": "code",
   "execution_count": null,
   "metadata": {},
   "outputs": [],
   "source": [
    "eigvals, eigvecs = func.andreev_states(syst=syst, par=par, phi=np.pi/2, Delta=0.1)\n",
    "kwant_wf = kwant.wave_function(syst, energy=0, args=[par])\n",
    "Andreev_bs = func.andreev_wf(eigvecs, kwant_wf)"
   ]
  },
  {
   "cell_type": "code",
   "execution_count": null,
   "metadata": {},
   "outputs": [],
   "source": [
    "current = func.intensity(syst=syst, psi=Andreev_bs, par=par)"
   ]
  },
  {
   "cell_type": "code",
   "execution_count": null,
   "metadata": {},
   "outputs": [],
   "source": [
    "kwant.plotter.current(syst, current);"
   ]
  },
  {
   "cell_type": "markdown",
   "metadata": {},
   "source": [
    "## Quasiclassical Calculations"
   ]
  },
  {
   "cell_type": "code",
   "execution_count": null,
   "metadata": {},
   "outputs": [],
   "source": [
    "par = SimpleNamespace(W=500, L=500, dL=0, Wb=20, phi=np.pi/2, lm=1e10)\n",
    "\n",
    "supercurrent_quasiclassic = func.quasiclassical_supercurrent_asymmetric(par)[0]"
   ]
  },
  {
   "cell_type": "code",
   "execution_count": null,
   "metadata": {},
   "outputs": [],
   "source": [
    "supercurrent_quasiclassic"
   ]
  },
  {
   "cell_type": "code",
   "execution_count": null,
   "metadata": {},
   "outputs": [],
   "source": [
    "par1 = SimpleNamespace(W=500, L=500, Wb=20, phi=np.pi/2, lm=202, k1=1, k2=1.5)\n",
    "supercurreny_tunable = func.quasiclassical_supercurrent_tunable_densities(par1)[0]"
   ]
  },
  {
   "cell_type": "code",
   "execution_count": null,
   "metadata": {},
   "outputs": [],
   "source": [
    "supercurreny_tunable"
   ]
  },
  {
   "cell_type": "code",
   "execution_count": null,
   "metadata": {},
   "outputs": [],
   "source": []
  }
 ],
 "metadata": {
  "kernelspec": {
   "display_name": "Python 3",
   "language": "python",
   "name": "python3"
  },
  "language_info": {
   "codemirror_mode": {
    "name": "ipython",
    "version": 3
   },
   "file_extension": ".py",
   "mimetype": "text/x-python",
   "name": "python",
   "nbconvert_exporter": "python",
   "pygments_lexer": "ipython3",
   "version": "3.6.5"
  }
 },
 "nbformat": 4,
 "nbformat_minor": 2
}
