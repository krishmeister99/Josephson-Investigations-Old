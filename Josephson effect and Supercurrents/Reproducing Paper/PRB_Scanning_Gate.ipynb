{
 "cells": [
  {
   "attachments": {},
   "cell_type": "markdown",
   "metadata": {},
   "source": [
    "## Physical Review B , 106, 035432 (2022)\n",
    "Reproducing results presented in https://journals.aps.org/prb/pdf/10.1103/PhysRevB.106.035432"
   ]
  },
  {
   "cell_type": "code",
   "execution_count": 4,
   "metadata": {},
   "outputs": [
    {
     "name": "stderr",
     "output_type": "stream",
     "text": [
      "/Users/krishnanganesh/anaconda3/lib/python3.8/site-packages/kwant/solvers/default.py:16: RuntimeWarning: MUMPS is not available, SciPy built-in solver will be used as a fallback. Performance can be very poor in this case.\n",
      "  warnings.warn(\"MUMPS is not available, \"\n"
     ]
    }
   ],
   "source": [
    "%load_ext autoreload\n",
    "\n",
    "import kwant\n",
    "import numpy as np\n",
    "import matplotlib.pyplot as plt \n",
    "import kwant.continuum\n",
    "import scipy.sparse.linalg as sla\n",
    "import tinyarray as tiny\n",
    "import matplotlib as mpl\n",
    "import warnings\n",
    "warnings.filterwarnings(\"ignore\", category=np.VisibleDeprecationWarning) \n",
    "warnings.filterwarnings(\"ignore\", category=RuntimeWarning) \n",
    "\n",
    "%matplotlib widget\n",
    "mpl.rcParams.update({'font.size': 20, 'text.usetex': True,  'font.family': 'serif', 'font.serif': ['Computer Modern']})\n",
    "\n",
    "sx = tiny.array([[0 , 1] , [1 , 0]])\n",
    "sy = tiny.array([[0 , -1j] , [1j , 0]])\n",
    "sz = tiny.array([[1 , 0] , [0 , -1]])\n",
    "\n",
    "\n",
    "I = tiny.array([[1 , 0] , [0 , 1]])\n",
    "t_plus = 0.5*(np.kron(sx , I) + 1j*np.kron(sy , I))\n",
    "t_minus = t_plus.T\n",
    "phs = np.kron(sy , sy)"
   ]
  },
  {
   "cell_type": "code",
   "execution_count": 27,
   "metadata": {},
   "outputs": [],
   "source": [
    "from dataclasses import dataclass\n",
    "@dataclass\n",
    "class system_parameters:\n",
    "    t : float # Hopping integral\n",
    "    W: float # Width of normal region\n",
    "    L: float # Length of normal region\n",
    "    a : float # Lattice constant\n",
    "    mu : float # Chemical potential\n",
    "    Delta: float # SUperconducting gap.\n",
    "    flux: float # Flux throught the normal region.\n",
    "    phase: float  # Josephson phase difference. \n",
    "\n",
    "params = system_parameters(t =1 , W = 20 , L = 5 , a = 1 , Delta = 1 , mu = 0.5, flux= 0 , phase = 0)\n",
    "\n",
    "# In my units e = h = 1. So Phi_0 , the elementary flux quantum is 1 and the superconducting flux quantum is 1/2.\n",
    "# Function for computing normal S-matrix. \n",
    "def compute_normal_s_matrix(params):\n",
    "    B = params.flux/((params.W -1 )*(params.L - 1))\n",
    "    peierlphase = B*params.a*np.pi\n",
    "    syst = kwant.Builder()\n",
    "    lat = kwant.lattice.square(a = params.a)\n",
    "    for i in range(params.W):\n",
    "        for j in range(params.L):\n",
    "            syst[lat(i , j)] = 4*params.t - params.mu\n",
    "            if i > 0:\n",
    "                syst[lat(i , j) , lat(i-1 , j)] = -params.t\n",
    "            if j > 0:\n",
    "                syst[lat(i , j) , lat(i , j-1)] = -params.t*np.exp(1j*i*peierlphase)\n",
    "    \n",
    "    # Construct normal leads, with no magnetic field to account for screening.\n",
    "    lead = kwant.Builder(kwant.TranslationalSymmetry((0 , -params.a)))\n",
    "    for i in range(params.W):\n",
    "        lead[lat(i , 0)] = 4*params.t - params.mu\n",
    "        if i > 0:\n",
    "            lead[lat(i , 0) , lat(i-1 , 0)] = -params.t\n",
    "        lead[lat(i , 1) , lat(i , 0)] = -params.t\n",
    "    \n",
    "    syst.attach_lead(lead)\n",
    "    syst.attach_lead(lead.reversed())\n",
    "    syst = syst.finalized()\n",
    "    # Compute S-matrix of the normal region between leads. In the short junction regime , we can calcualte it at E = 0.\n",
    "    s_matrix = kwant.smatrix(syst , 0)\n",
    "    return s_matrix"
   ]
  },
  {
   "cell_type": "code",
   "execution_count": 29,
   "metadata": {},
   "outputs": [],
   "source": [
    "s_matrix_test  = compute_normal_s_matrix(params)"
   ]
  },
  {
   "cell_type": "code",
   "execution_count": null,
   "metadata": {},
   "outputs": [],
   "source": [
    "# Compute Andreev reflection matrix:\n",
    "\n"
   ]
  }
 ],
 "metadata": {
  "kernelspec": {
   "display_name": "base",
   "language": "python",
   "name": "python3"
  },
  "language_info": {
   "codemirror_mode": {
    "name": "ipython",
    "version": 3
   },
   "file_extension": ".py",
   "mimetype": "text/x-python",
   "name": "python",
   "nbconvert_exporter": "python",
   "pygments_lexer": "ipython3",
   "version": "3.8.13"
  },
  "orig_nbformat": 4
 },
 "nbformat": 4,
 "nbformat_minor": 2
}
