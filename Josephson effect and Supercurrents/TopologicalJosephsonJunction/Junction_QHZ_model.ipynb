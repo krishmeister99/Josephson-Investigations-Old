{
 "cells": [
  {
   "cell_type": "code",
   "execution_count": 1,
   "metadata": {},
   "outputs": [
    {
     "name": "stderr",
     "output_type": "stream",
     "text": [
      "/Users/krishnanganesh/anaconda3/lib/python3.8/site-packages/kwant/solvers/default.py:16: RuntimeWarning: MUMPS is not available, SciPy built-in solver will be used as a fallback. Performance can be very poor in this case.\n",
      "  warnings.warn(\"MUMPS is not available, \"\n"
     ]
    }
   ],
   "source": [
    "import kwant \n",
    "import numpy as np\n",
    "import matplotlib.pyplot as plt\n",
    "from kwant.continuum import discretize\n",
    "import matplotlib as mpl\n",
    "import jospehson_current_tools as jct\n",
    "mpl.rcParams.update({'font.size': 20, 'text.usetex': True,  'font.family': 'serif', 'font.serif': ['Computer Modern']})\n",
    "%matplotlib widget "
   ]
  },
  {
   "cell_type": "code",
   "execution_count": 9,
   "metadata": {},
   "outputs": [],
   "source": [
    "from dataclasses import dataclass, asdict\n",
    "\n",
    "@dataclass\n",
    "class System_parameters:\n",
    "    a : float\n",
    "    A : float\n",
    "    B : float\n",
    "    C : float\n",
    "    Delta : float\n",
    "    mu : float\n",
    "    d_y : float # Width of the normal QAH region (see overleaf notes for axis convention)\n",
    "    d_x : float # Length of the normal QAH region (see overleaf notes for axis convention)\n",
    "    flux : float # Total flux penetrating the normal QAH region.\n",
    "\n",
    "params = System_parameters(a = 1 , A = 1, B = 1 , C = -0.5 , Delta = 1 , mu = 0 , d_y = 10 , d_x = 10 , flux = 0)\n",
    "params_dictionary = asdict(params)"
   ]
  },
  {
   "cell_type": "code",
   "execution_count": 8,
   "metadata": {},
   "outputs": [
    {
     "data": {
      "text/plain": [
       "{'a': 1,\n",
       " 'A': 1,\n",
       " 'B': 1,\n",
       " 'C': -0.5,\n",
       " 'Delta': 1,\n",
       " 'mu': 0,\n",
       " 'd_y': 10,\n",
       " 'd_x': 10,\n",
       " 'flux': 0}"
      ]
     },
     "execution_count": 8,
     "metadata": {},
     "output_type": "execute_result"
    }
   ],
   "source": [
    "def make_josephson_junction(params , L_sc):\n",
    "    syst = kwant.Builder()\n",
    "    lat = kwant.lattice.square(a = params.a , norbs = 4)\n",
    "\n",
    "    # Scaled dimensions:\n",
    "    d_x = params.d_x // params.a\n",
    "    d_y = params.d_y // params.A\n",
    "\n",
    "    for i in range()\n"
   ]
  },
  {
   "cell_type": "code",
   "execution_count": null,
   "metadata": {},
   "outputs": [],
   "source": []
  }
 ],
 "metadata": {
  "kernelspec": {
   "display_name": "base",
   "language": "python",
   "name": "python3"
  },
  "language_info": {
   "codemirror_mode": {
    "name": "ipython",
    "version": 3
   },
   "file_extension": ".py",
   "mimetype": "text/x-python",
   "name": "python",
   "nbconvert_exporter": "python",
   "pygments_lexer": "ipython3",
   "version": "3.8.13"
  },
  "orig_nbformat": 4
 },
 "nbformat": 4,
 "nbformat_minor": 2
}
