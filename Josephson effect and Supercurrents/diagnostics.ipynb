{
 "cells": [
  {
   "cell_type": "code",
   "execution_count": 1,
   "metadata": {},
   "outputs": [
    {
     "name": "stderr",
     "output_type": "stream",
     "text": [
      "/Users/krishnanganesh/anaconda3/lib/python3.8/site-packages/kwant/solvers/default.py:16: RuntimeWarning: MUMPS is not available, SciPy built-in solver will be used as a fallback. Performance can be very poor in this case.\n",
      "  warnings.warn(\"MUMPS is not available, \"\n"
     ]
    }
   ],
   "source": [
    "%load_ext autoreload\n",
    "\n",
    "import kwant\n",
    "import numpy as np\n",
    "import matplotlib.pyplot as plt \n",
    "import kwant.continuum\n",
    "import scipy.sparse.linalg as sla\n",
    "import tinyarray as tiny\n",
    "import matplotlib as mpl\n",
    "import warnings\n",
    "warnings.filterwarnings(\"ignore\", category=np.VisibleDeprecationWarning) \n",
    "warnings.filterwarnings(\"ignore\", category=RuntimeWarning) \n",
    "\n",
    "%matplotlib widget\n",
    "mpl.rcParams.update({'font.size': 20, 'text.usetex': True,  'font.family': 'serif', 'font.serif': ['Computer Modern']})\n",
    "\n",
    "sx = tiny.array([[0 , 1] , [1 , 0]])\n",
    "sy = tiny.array([[0 , -1j] , [1j , 0]])\n",
    "sz = tiny.array([[1 , 0] , [0 , -1]])\n",
    "\n",
    "\n",
    "I = tiny.array([[1 , 0] , [0 , 1]])\n",
    "t_plus = 0.5*(np.kron(sx , I) + 1j*np.kron(sy , I))\n",
    "t_minus = t_plus.T\n",
    "phs = np.kron(sy , sy)"
   ]
  },
  {
   "cell_type": "code",
   "execution_count": 2,
   "metadata": {},
   "outputs": [],
   "source": [
    "from dataclasses import dataclass\n",
    "import RGF_single_orbital as so\n",
    "import RGFtools as rg\n",
    "@dataclass\n",
    "class JosephsonParameters:\n",
    "    W : float\n",
    "    L : float\n",
    "    t: float\n",
    "    flux : float\n",
    "    energy: float\n",
    "    Delta: float\n",
    "    phase: float\n",
    "    mu: float\n",
    "    tol: float\n",
    "    a: float\n",
    "from scipy.linalg import orth"
   ]
  },
  {
   "cell_type": "code",
   "execution_count": 3,
   "metadata": {},
   "outputs": [],
   "source": [
    "params = JosephsonParameters(W = 5 , \n",
    "                             L = 10,\n",
    "                             t = 1,\n",
    "                             flux = 0,\n",
    "                             energy = 1.0,\n",
    "                             Delta = 0,\n",
    "                             phase = 0,\n",
    "                             mu = 0.5,\n",
    "                             a = 1,\n",
    "                            tol = 1e-4)"
   ]
  },
  {
   "cell_type": "code",
   "execution_count": 7,
   "metadata": {},
   "outputs": [
    {
     "data": {
      "text/plain": [
       "<matplotlib.colorbar.Colorbar at 0x7fb644a109a0>"
      ]
     },
     "execution_count": 7,
     "metadata": {},
     "output_type": "execute_result"
    },
    {
     "data": {
      "application/vnd.jupyter.widget-view+json": {
       "model_id": "4a5d668b94b44cc0a16969d41cb0c47f",
       "version_major": 2,
       "version_minor": 0
      },
      "image/png": "[encoded data removed]",
      "text/html": [
       "\n",
       "            <div style=\"display: inline-block;\">\n",
       "                <div class=\"jupyter-widgets widget-label\" style=\"text-align: center;\">\n",
       "                    Figure\n",
       "                </div>\n",
       "                <img src='data:image/png;base64,iVBORw0KGgoAAAANSUhEUgAAAoAAAAHgCAYAAAA10dzkAAAAOXRFWHRTb2Z0d2FyZQBNYXRwbG90bGliIHZlcnNpb24zLjUuMSwgaHR0cHM6Ly9tYXRwbG90bGliLm9yZy/YYfK9AAAACXBIWXMAAA9hAAAPYQGoP6dpAAAnTklEQVR4nO3dwU5jWZon8I9Qd5HSVEdcgk2p1VE1A9LsemMynqDsRS9HwvAEife5sBWrrFwheAM7nyBkr3sTzsVIvQP8BnapOzatkQKc0WqpIrsDz4IwlSQGG65t4Nzfr+RF2HkPNy634B/fd865K6PRaBQAABTGs4c+AQAAlksABAAoGAEQAKBgBEAAgIIRAAEACkYABAAoGAEQAKBgBEAAgIIRAAEACkYABAAoGAEQAKBgBEAAgIIRAAEACkYABAAoGAEQAKBgBEAAgIIRAAEACkYABAAoGAEQAKBgBEAAgIIRAAEACkYABAAoGAEQAKBgBEAAgIIRAAEACkYABAAoGAEQAKBgBEAAgIIRAAEACkYABAAoGAEQAKBgBEAAgIIRAAEACkYABAAoGAEQAKBgBEAAgIIRAAEACkYABAAoGAEQAKBgBEAAgIIRAAEACkYABAAoGAEQAKBgBEAAgIIRAAEACkYABAAoGAEQAKBgBEAAgIL5m4c+gcdiOBzG/v5+RESsr69Hv9+PSqUS29vbdx6r1WpFu92OWq0W5XI5siyLwWAQvV4v3r59G2/evIlSqTTvvwIAwEwEwLgIf1tbW9Fut68Es1qtFkdHR3FwcHDn8brdbnS73SvvZ1l27WsAACzbymg0Gj30STy0SqUSpVJpYtBbW1uLdrsd5XJ55vEODw8jy7Lo9/sxGAzi5cuXsbW1FXt7e/M8bQCAeyl8BXAwGES3241msznx852dnTg4OLhTABwfl2XZHM4QAGC+Cr8IZBz8NjY2Jn6+ubkZ3W43hsPhEs8KAGBxCh8Ae73erZW6cTA8Pj5e0hkBACxW4QPgeI7eTcbhcDAY3Gv8Xq8XrVYrer3evY4HAJi3wgfA09PTWyuA43B41xZwt9uNw8PDiIjLxR+VSuXaymAAgGUr/CKQWYPdhw8fZh5z3Dau1+uX75VKpWi327G2thYnJydTt4L59OlTfPr06fLP5+fncXp6Guvr67GysjLzuQDwOIxGo/iP//iP+Pu///t49mxx9Ze//OUv8fPPP+ce5ze/+U189dVXczgjHqPCB8BFuGnz6CzLYnt7O6rVavT7/VvH2N/fj++//34RpwfAA3r//n38wz/8w0LG/stf/hL/6w+/jX//f59zj/W73/0u/vznPwuBiXpyATDPatxJrd4sy2Yac319/d5f95dev34dnU4nBoPBjSuPIyLevHkT33777eWff/rpp/j9738f/9r7n/H8t4Xv3JOo//O///GhTwEW5r/jv+Jf4p/j7/7u7xb2NX7++ef49//3Of588od4/nf3/13x8T/O439t/Wv8/PPPAmCinlQAbDQal/Pq7uvX+17ftgAk4mKOYMTk8Hgf43F6vd6tAXB1dTVWV1evvf/8t89y/Z8aHrO/Wfnbhz4FWJwvv36WMY3nf/z24nVfnwv/iIj0PakkcXBwEKPRKNfr1zY2Ni5D3iTj6uBtYe2XarVabG5u3uvvBwCwDE8qAC5CqVS6tQU83v5l1ieBHB8fzxQoPQ8YgEU5j1HuF2krfADc3d2NiLhxn76jo6M7PQauXC7H2dnZjZ8fHR1FlmUzVxQB4K7O5/A/0lb4AFgqlaJcLsfbt28nft7pdKLRaFx7fzgcRqPRuLav3+7ubrRarYljDQaD6HQ68cMPP+Q/cQCAeyp8AIyIaLfb0el0rlUBa7Va1Ov1iRXAVqsVh4eHUa1Wr7w/bin/erHKYDCIra2tqNfrN24TAwDz8Hk0yv0ibU9qFfCiZFkWJycn0Wg0IsuyWF9fj36/H5VK5cawVi6XI8uy2NnZufZZvV6PbrcbtVotTk9PYzgcRpZl8eOPP5r7B8DC5Z3HZw5g+gTAL7Isi2azOfN/XyqVbp3rVy6X7zR3EABgWQRAAEjMeYziswogtxAAASAxWsBMYxEIAEDBqAACQGLyruS1Cjh9AiAAJOb8yyvP8aRNAASAxHzOuQgkz7E8DeYAAgAUjAogACTm8+jiled40iYAAkBizAFkGi1gAICCUQEEgMScx0p8jpVcx5M2ARAAEnM+unjlOZ60aQEDABSMCiAAJOZzzhZwnmN5GgRAAEiMAMg0WsAAAAWjAggAiTkfrcT5KMcq4BzH8jQIgACQGC1gphEAASAxn+NZfM4xy+vzHM+Fx8kcQACAglEBBIDEjHLOARyZA5g8ARAAEmMOINNoAQMAFIwKIAAk5vPoWXwe5VgE4lnAyRMAASAx57ES5zmafOchAaZOCxgAoGBUAAEgMRaBMI0ACACJyT8HUAs4dVrAAAAFowIIAIm5WARy/zZunmN5GgRAAEjMec5nAVsFnD4BEAASYw4g05gDCABQMCqAAJCY83hmI2huJQACQGI+j1bi8yjHPoA5juVp0AIGACgYFUAASMznnKuAP2sBJ08ABIDEnI+exXmOVcDnVgEnTwsYAKBgVAABIDFawEwjAAJAYs4j30re8/mdCo+UFjAAQMGoAAJAYvJvBK0+lDoBEAASk/9ZwAJg6gRAAEjMeazEeeSZA+hJIKkT8QEACkYFEAASowXMNAIgACQm/z6AAmDqfIcBAApGBRAAEnM+WonzPBtB5ziWp0EABIDEnOdsAdsHMH2+wwDA3NRqteh2u7nGaLVaUalUotPpxHA4jIiIwWAQnU4nqtVq9Hq9OZxpsakAAkBizkfP4jzHSt67HjsYDKLb7Uaz2YxerxfVavXeXzsiYjgcRrfbvRYksyyLdrsdpVIp1/gIgACQnM+xEp9zbOZ8l2NbrVa8e/cuKpVKHBwcRKVSuffX/aVmsxn9fj8Gg0G8fPkytra2Ym9vby5jIwACADns7e1dBrN5tmZ3dnYiy7K5jcdVAiAAJGbZLWCeHgEQABLzOe7Wxp10PGkTAAEgMSlVAHu9XhwfH8fXX39t8cccPZ7vMADwqHz8+PHK69OnT0v72t1uNw4PDyMiLucYViqV3FvMcEEABIDEfB49y/2KiHj16lW8ePHi8rW/v7+U89/Y2IiIiHq9fln1K5VK0W63o1Kp2AdwDrSAASAxo1iJ8xxzAEdfjn3//n08f/788v3V1dXc5zaL7e3tie9nWRbb29tRrVaj3+8v5VxSpQIIAEz0/PnzK69lBcDbvH79OgaDQQwGg4c+lSdNAASAxMyrBfwYjfcG1AbO5/F+hwGAezkfreR+PZRarRabm5sP9vWLQgAEAB6N4+PjOD09vfHz4XAYEWFLmJwEQABIzOd4lvv1UMrlcpydnd34+dHRUWRZdrlSmPsRAAEgMY+9BTwcDqPRaEzc0293dzdardbE4waDQXQ6nfjhhx8Wen5FIAACAHMxXpk7btPepNVqxeHhYVSr1WuflUqlGA6Hl5tA/3Lsra2tqNfrN24Tw+zsAwgAiTmPZ3Geo8Zzl2M7nU40m82IuJi/FxHxzTffXL5XrVYvn+QxVi6XI8uy2NnZmThmvV6PbrcbtVotTk9PYzgcRpZl8eOPP5r7NycCIAAk5vNoJT7naOPe5djt7e07V+RKpdKt8/wiLkJiuVy+07jMTgAEgMTkncf3kNvAsBzmAAIAFIwKIAAkZjR6Fuc5nuYxesRPAmE+BEAASMznWInPkWMOYI5jeRoEwF8YDoexv78fERHr6+vR7/ejUqnkWm6+iDEBAPIQAL8YDoextbUV7Xb7yhLzWq0WR0dHcXBw8CjGBIBpzkf5FnKcj+Z4MjxKAuAX1Wo1tre3r+0v1Gw2Y21tLSqVyp2Xoy9iTACY5jznHMA8x/I0+A7Hxe7i4w0nJ9nZ2blztW4RYwIAzIMAGHG5W/lND5be3NyMbrc79dE2ix4TAGZxHiu5X6RNAIyIXq8XWZbd+Pk4xI0fcfNQYwLALMZPAsnzIm0CYFy0a1++fHnj5+MgN37I9UONCQAwDxaBRMTp6emNrdqIuAxyd2nX5h3z06dP8enTp8s/f/z4ceavDUCxWQTCNL7DMXuw+/Dhw9LG3N/fjxcvXly+Xr16NfPXBqDYzmPl8nnA93qZA5g8AfCRevPmTfz000+Xr/fv3z/0KQHwRIxyLgAZCYDJ0wKOi/l4s1Ts1tfXlzbm6upqrK6uzvz1AABmJQBG3LpYI+JiPl9E3LqqdxljAsAsxq3cPMeTNi3guNiSZRzIJhlX8m5b1LGMMQFgFuNFIHlepM13OCJKpdKt7drxVi13eWzbIsYEAJgHATAidnd3I+Ji8+ZJjo6O7hzUFjEmAMwi1wrgnO1jngYBMC6qdeVyOd6+fTvx806nE41G49r7w+EwGo1GdLvduY0JAHl5FBzTCIBftNvt6HQ61yp2tVot6vX6xGpdq9WKw8PDqFarcxsTAGDRrAL+IsuyODk5iUajEVmWxfr6evT7/ahUKrG9vT3xmHK5HFmWxc7OztzGBIC8rAJmGgHwF7Isi2azOfN/XyqV4uzsbK5jAkBeAiDTaAEDABSMCiAAJEYFkGkEQABIjADINAIgACRmFJFrK5fR/E6FR8ocQACAglEBBIDEaAEzjQAIAIkRAJlGCxgAoGBUAAEgMSqATCMAAkBiBECm0QIGACgYFUAASMxotBKjHFW8PMfyNAiAAJCY81jJtRF0nmN5GrSAAQAKRgUQABJjEQjTCIAAkBhzAJlGAASAxKgAMo05gAAABaMCCACJ0QJmGgEQABIzytkCFgDTpwUMAFAwKoAAkJhRRIxG+Y4nbQIgACTmPFZixZNAuIUWMABAwagAAkBirAJmGgEQABJzPlqJFRtBcwstYACAglEBBIDEjEY5VwFbBpw8ARAAEmMOINMIgACQGAGQacwBBAAoGBVAAEiMVcBMIwACQGIsAmEaLWAAgIJRAQSAxFxUAPMsApnjyfAoCYAAkBirgJlGCxgAoGBUAAEgMaMvrzzHkzYBEAASowXMNFrAAAAFowIIAKnRA2YKARAAUpOzBRxawMkTAAEgMZ4EwjTmAAIAFIwKIAAkxipgphEAASA1o5V88/gEwORpAQMAFIwKIAAkxiIQphEAASA19gFkCi1gAICCUQEEgMRYBcw0AiAApEgbl1toAQMAFIwKIAAkRguYaQRAAEiNVcBMIQACQHJWvrzyHE/KzAEEACgYFUAASI0WMFMIgACQmgcMgLVaLarVapTL5RwnEDEcDmN/fz8iItbX16Pf70elUont7e1c43JBAAQAchkMBtHtdqPZbEav14tqtZprvOFwGFtbW9Fut6NUKl2+X6vV4ujoKA4ODvKecuGZAwgAqRmt5H/NqNVqRaPRiIiYWzCrVquxvb19JfxFRDSbzWi1WtHtdufydYpMAASAxIxG+V+z2tvbi3a7HXt7e/Hy5cvc5z6uJtZqtYmf7+zsqADOgQAIADwazWYzIiI2NjYmfr65uRndbjeGw+ESzyo9AiAApGY0h9cD6fV6kWXZjZ+Pg+Hx8fGSzihNFoEAQGruOI9v4vEPZDAY3NpKHofDwWCwpDNKkwAIAEz08ePHK39eXV2N1dXVhX7N09PTG9u/EXEZDrWA89ECBoDErIzyvyIiXr16FS9evLh8jfflW6RZg92HDx8WeyKJUwEEgNTMaSPo9+/fx/Pnzy/fXnT1j+URAAEgNXOaA/j8+fMrAXAZsiybqQq4vr6++JNJmBYwAPBoTNtL8PT0NCLi1pXCTCcAAkBqnvA2MBsbG5chb5JxdfC2hSJMJwACQGqecAAslUq3toDH27+Uy+UlnVGaBEAA4NHY3d2NiIsNoSc5OjoS/uZAAPyF4XAYjUYjGo1GHB4eRq1Wi06nc+/xWq1WVCqV6HQ6l/+aGQwG0el0olqt3nhzA0Auj7wCOP592+12r31WKpWiXC7H27dvJx7b6XSi0Wgs9gQLwCrgL4bDYWxtbUW73Y5SqXT5fq1Wi6Ojo3s9eHo4HEa32712g2dZdu3rAMDcPNCTQMbt2WmreFutVhweHkar1Yqzs7Nrn7fb7dja2ord3d1rv5Pr9boK4BwIgF9Uq9XY3t6+FsqazWasra1FpVK51w3XbDaj3+9fPtpma2sr9vb25nXaAPCgOp1ONJvNiPjr83m/+eaby/eq1eq133vlcjmyLIudnZ2JY2ZZFicnJ9FoNCLLslhfX49+vx+VSiW2t7cX+LcpDgEwLv7F0u12L2/WX9vZ2YmDg4N7BcCdnR1L1QFYql8+zeO+x89qe3v7zqGsVCpNrPz9UpZlN/5eJj9zACMub7CblpRvbm5Gt9v13EEAnoZHPgeQhycAxsVKo9uqdONgOC5tAwA8ZQJgxOX8vJuMw+F4cut99Hq9aLVaVv4CAA9OAIyLx8rcVgEch8P7tIC73W4cHh5GRFxOgq1UKhOXvv/Sp0+f4uPHj1deADCLlfjrPMB7vR76L8DCWQQSswe7Dx8+3Gncceu4Xq9fvlcqlaLdbsfa2lqcnJzcuBXM/v5+fP/999fe/z//+x/jb1b+9k7nAU/F6v/93UOfAizMs//8OeKflvTFHmgbGJ4OFcAFumllVJZlsb29HdVq9cZj37x5Ez/99NPl6/3794s8VQCgQATAuAhks1QB19fX5/Y1X79+HYPB4MZ5haurq/H8+fMrLwCYiVXATCEARty6ACTiYo5gRMx1P7/xWBaFADB3AiBTCIBxMVdvHPImGVcHb9oncJJarRabm5t5Tw0AYO4EwLhYmHFbC3jcpr3Lk0COj49nCpWeBwzAvOVaAZzzKSI8DQJgROzu7kbEze3Yo6OjOz8Grlwu3/qYm6Ojo8iy7E5VRQCYiRYwUwiAcVGFK5fL8fbt24mfdzqdaDQa194fDofRaDQm7um3u7sbrVZr4niDwSA6nU788MMP+U4cAOAeBMAv2u12dDqda1XAWq0W9Xp9YgWw1WrF4eHhxO1cxm3l8SbQY4PBILa2tqJer9/54dkAMBMVQKawEfQXWZbFyclJNBqNyLIs1tfXo9/vR6VSuTGolcvlyLIsdnZ2Jn5er9ej2+1GrVaL09PTGA6HkWVZ/Pjjj+b+AbAweefxmQOYPgHwF7Isi2azOfN/XyqVbp3nF3EREu86fxAAYJEEQABIjUfBMYUACACpyTuPTws4eQIgACTGHECmsQoYAKBgVAABIDVawEwhAAJAavI+zk0ATJ4WMABAwagAAkBqtICZQgAEgNQIgEyhBQwAUDAqgACQGPsAMo0KIABAwQiAAAAFowUMAKmxCIQpBEAASIw5gEwjAAJAioQ4bmEOIABAwagAAkBqzAFkCgEQABJjDiDTaAEDABSMCiAApEYLmCkEQABIjBYw02gBAwAUjAogAKRGC5gpBEAASI0AyBQCIAAkxhxApjEHEACgYFQAASA1WsBMIQACQGoEQKbQAgYAKBgVQABIjEUgTCMAAkBqtICZQgsYAKBgVAABIDFawEwjAAJAarSAmUILGACgYFQAASA1KoBMIQACQGJWvrzyHE/aBEAASI0KIFOYAwgAUDAqgACQGNvAMI0ACACp0QJmCi1gAICCUQEEgBSp4nELARAAEmMOINNoAQMAFIwKIACkxiIQphAAASAxWsBMowUMAFAwKoAAkBotYKYQAAEgMVrATCMAAkBqVACZwhxAAICCUQEEgNSoADKFAAgAiTEHkGm0gAEACkYFEABSowXMFAIgACRmZTSKldH9U1yeY3katIABAApGBRAAUqMFzBQCIAAkxipgptECBgAoGBVAAEiNFjBTCIAAkBgtYKYRAAEgNSqATGEOIABAwagAAkBiHqIFPBwOY39/PyIi1tfXo9/vR6VSie3t7XudQ6vVina7HbVaLcrlcmRZFoPBIHq9Xrx9+zbevHkTpVLpXmMjAAJAepbcAh4Oh7G1tRXtdvtKKKvVanF0dBQHBwd3PoXhcBjdbje63e6V97Msu/Z1uDsBEADIpVqtxvb29rVQ1mw2Y21tLSqVSpTL5TuP22w2o9/vx2AwiJcvX8bW1lbs7e3N67QLTQAEgAQtayXvYDCIbrcbzWZz4uc7OztxcHBwrwC4s7MTWZblPEMmsQgEAFIzGuV/zWgc/DY2NiZ+vrm5Gd1uN4bD4Tz+ZsyJAAgA3Fuv17u1SjcOhsfHx0s6I2ahBQwAiVnmKuDx/LybjMPhYDC49/n0er04Pj6Or7/+2uKPOVEBnKBWq11bdXQfw+EwGo1GNBqNODw8jFqtFp1OZw5nCAC3GM3hFREfP3688vr06dO1L3V6enprBXAcDu/TAu52u3F4eBgRcbn4o1KpzOV3dNGpAH7xy0msvV4vqtVqrvEWsSQeAJbp1atXV/783XffxZ/+9Kcr780a7D58+HCnrz1uHdfr9cv3SqVStNvtWFtbi5OTE9XAHATAuNhs8t27d1GpVOLg4CAqlUruMRe1JB4Aplk5v3jlOT4i4v379/H8+fPL91dXV3Oe2exu2kA6y7LY3t6OarUa/X5/aeeTGi3guCgrt9vt2Nvbu3Uew6zG1cRarTbx8/GSeABYiDm1gJ8/f37lNSkAZlk2UxVwfX0951/qr16/fh2DwSDXvMKiEwAXwJJ4AB7SeBFIntesphVOTk9PIyLmup/feKxerze3MYtGAFwAS+IBKIqNjY3LkDfJuNhxU1FkklqtFpubm3lPjVsIgAuwjCXxAHCjJW4EXSqVbu1ojX/X3WXe+/Hx8Uyh0iKQ+xMAF2CRS+IBYJpltoB3d3cj4uZ27NHR0Z0XPZbL5Tg7O7vx86Ojo8iy7E5VRa4SABdgHkviP336dG3/JQB4bEqlUpTL5Xj79u3EzzudTjQajWvvj/fKnbSn3+7ubrRarYnjDQaD6HQ68cMPP+Q78YITAB+p/f39ePHixeXr13sxAcCN5rQKeFbtdjs6nc61KmCtVot6vT6xAthqteLw8HDivrvjtvJ4E+ixwWAQW1tbUa/Xb9wmhtnYB3AB5rEk/s2bN/Htt99e/vnjx49CIAAzWeaj4CIufu+dnJxEo9GILMtifX09+v1+VCqVG4NauVyOLMtiZ2dn4uf1ev1yS7XT09MYDoeRZVn8+OOP5v7NgQC4APNYEr+6urrUDTcBII8syy63QZtFqVS6dZ5fxEVI9NCExdACXoBFLIkHgJktcRUwT5MAuACLWBIPALNa5ipgniYBcAEWsSQeAGBeBMB7um35+n2XxAPAXCx5FTBPjwD4K+P27LRVvLctX4+435J4AJgHLWCmsQo4Lipy45VL4+fzfvPNN5fvVavV2Nvbu3LMtOXr91kSDwBzcT66eOU5nqQJgBGxvb1951A2y/L1uy6JBwBYBgEQAFKTdx6fAmDyBEAASMxK5HwSyNzOhMfKIhAAgIJRAQSA1OR9mocngSRPAASAxOTdysU2MOnTAgYAKBgVQABIjVXATCEAAkBiVkajWMkxjy/PsTwNWsAAAAWjAggAqTn/8spzPEkTAAEgMVrATCMAAkBqLAJhCnMAAQAKRgUQAFLjSSBMIQACQGI8CYRptIABAApGBRAAUqMFzBQCIAAkZuX84pXneNKmBQwAUDAqgACQGi1gphAAASA1NoJmCi1gAICCUQEEgMR4FjDTCIAAkBpzAJlCAASA1IwiIs9WLvJf8swBBAAoGBVAAEiMOYBMIwACQGpGkXMO4NzOhEdKCxgAoGBUAAEgNVYBM4UACACpOY+IlZzHkzQtYACAglEBBIDEWAXMNAIgAKTGHECm0AIGACgYFUAASI0KIFMIgACQGgGQKQRAAEiNbWCYwhxAAICCUQEEgMTYBoZpBEAASI05gEyhBQwAUDAqgACQmvNRxEqOKt65CmDqBEAASI0WMFNoAQMAFIwKIAAkJ2cFMFQAUycAAkBqtICZQgsYAKBgVAABIDXno8jVxrUKOHkCIACkZnR+8cpzPEkTAAEgNeYAMoU5gAAABaMCCACpMQeQKQRAAEiNFjBTaAEDABSMCiAApGYUOSuAczsTHikBEABSowXMFFrAAAAFowIIAKk5P4+IHJs5n9sIOnUCIACkRguYKbSAAQAKRgUQAFKjAsgUAiAApMaTQJhCAASAxIxG5zEa3X8hR55jeRrMAQQAKBgVQABIzWiUr41rDmDyBEAASM0o5xxAATB5WsAAAAWjAggAqTk/j1jJsZDDIpDkCYAAkBotYKbQAgYAKBgVQABIzOj8PEY5WsD2AUyfAAgAqdECZgotYACAglEBnKBWq0W1Wo1yuXzvMVqtVrTb7ajValEulyPLshgMBtHr9eLt27fx5s2bKJVKczxrAPjifBSxstwK4HA4jP39/YiIWF9fj36/H5VKJba3t+99GosYkwsC4BeDwSC63W40m83o9XpRrVZzjTccDqPb7Ua3273yfpZl0W63hT8AFmc0iog828DcLQAOh8PY2tq69vutVqvF0dFRHBwc3PkUFjEmfyUAxkW17t27d1GpVOLg4CAqlcpcxm02m9Hv92MwGMTLly9ja2sr9vb25jI2ANxkdD6KUY4K4OiOAbBarcb29va14kaz2Yy1tbWoVCp37qotYkz+SgCMiL29vctg1uv15jbuzs5OZFk2t/EA4LH5ZQdtkp2dnTg4OLhTWFvEmFxlEQgApGZ0nv81o3FI29jYmPj55uZmdLvdGA6HDzomVwmAAJCY0fko92tWvV7v1m7XOMQdHx8/6JhcJQAuQa/Xi1arNdf2MgA8BuN57jcZB7nBYPCgY3KVOYAL1O12YzAYRLlcjr29vej1elGpVKLRaEydt/Dp06f49OnT5Z9/+umniIj47/ivXHt7wmP27D9/fuhTgIX57y/3910XWNzra40+3amNe+34+K+IiPj48eOV91dXV2N1dfXKe6enpze2aiPiMsjdpV27iDG5SgBckPGNW6/XL98rlUrRbrdjbW0tTk5Obt0KZn9/P77//vtr7/9L/PP8TxYei3966BOAxfvw4UO8ePFiIWP/5je/id/97nfxL/+e/3fFb3/723j16tWV97777rv405/+dOW9WUPYhw8fZv7aixiTqwTABblpk8osy2J7ezuq1Wr0+/0bj3/z5k18++23l38eDofxhz/8If7t3/5tYT84uOrjx4/x6tWreP/+fTx//vyhTyd5rvdyud7L99NPP8Xvf//7W1ubeX311Vfx5z//OX7+OX81fTQaxcrKypX3fl394+kSAB/A69evo9PpxGAwuLHEPanMHhHx4sULP6yX7Pnz5675Erney+V6L9+zZ4udfv/VV1/FV199tdCv8UtZls1UsVtfX3/QMbnKIpAHMJ68alEIAE/dtIrm6elpRMSd9sVdxJhcJQAuQK1Wi83NzYc+DQBYuI2NjctANsm4knfboo5ljMlVAuACHB8fz3Tj3uV5wKurq/Hdd9+Zf7FErvlyud7L5XovX6rXvFQq3dquHW/VcpendixiTK5aGS1jPfoT0uv1YmtrK969e3fvG6vRaNz6kOpqtRrdbjfOzs7ue5oA8CiMf2/etLtFtVqN4XAY7969e9AxuUoF8J6Gw2E0Go3odrvXPtvd3Y1WqzXxuMFgEJ1OJ3744YdFnyIALFypVIpyuRxv376d+Hmn04lGo3Ht/dt+j953TGYnAP7KuKw8bfVRq9WKw8PDqFar1z4bl64PDw+vjb21tRX1ev3GbWIA4Klpt9vR6XSuLW6s1WpRr9cndtRu+z163zGZnRZwXPxLYvzg6ePj4xgOh5FlWXz99dcRcVFq3tvbu3JMr9eLP/7xj7Gzs3N57K91u91ot9txenp6OeabN2/uNPcPAJ6CcUUvy7JYX1+Pfr8flUrlxoLHLL9H7zomsxMAAQAKxkbQj9hwOIz9/f2IiNz/8mm1WtFut6NWq0W5XI4sy2IwGESv14u3b98mXZmc53Vc5Jgpmff1KfL9exe1Wi2q1Wru1pj7ezbzuN7ubR7MiEfp7OxstLGxMTo5Obny/t7e3qher995vIODg1FEXHtlWTZ69+7dvE770Zn3dVzUmClZxPUp6v07i36/P2o2m6NSqTSKiNzXw/19u3lfb/c2D0UL+JGqVCpRKpUmbieztrYW7Xb7Tv/qPDw8jCzLot/vx2AwiJcvX8bW1ta1uY2pmfd1XNSYKVnE9Snq/TtNq9WKd+/eRaVSiY2NjahUKrm2sIpwf99mEdfbvc2DeegEynX9fn8UEaN+vz/x8729vVG5XL7TmAcHB6Ozs7M5nN3TsYjruIgxU7Ko61PE+/euTk5Oclek3N+zm8f1Ho3c2zwc28A8QuPVUDc94mZzczO63e5MD8ouskVcR9+b27k+T5vvHxSHAPgI9Xq9Wx9wPf7hfHx8vKQzepoWcR19b27n+jxtvn9QHALgIzSeB3KT8Q/o8abVd9Xr9aLVal3bXDM1i7iOi/7ePHXLuD5FuX8fgvv7Ybm3WSYB8BE6PT299V/h4x/Qd23DdLvdy6eTjCcYVyqViY/hScEiruOivjepWOT1Kdr9+xDc3w/Dvc1DsA/gIzTrD9cPHz7MPOa4dVOv1y/fK5VK0W63Y21t7cYHbj9li7iOixgzJYu6PkW8fx+C+3v53Ns8FAGwIG7awDXLstje3o5qtRr9fn/JZwWzcf+SKvc2D0ULeA6Gw+G9X5NkWTbTv8TX19fncv6vX7+OwWCQ3LyeRVzHZX9vnpqHuD6p3r8Pwf39uLi3WSQVwJwajcbl3I37Gv1qL+7bJmFHXMzTiYhb5+rcxXicXq934/YPT9EiruOyvzdPzUNcn1Tv34fg/n5c3NsskgpgTgcHBzEajXK9fm1jY+PyB+0k43+hz/oDoVarxebm5r3+fk/ZvK/josZMySKuT1Hv34fg/l4u9zYPSQB8hEql0q1tmHE7YNbHDx0fH8/0Qz21icbzvo6LGjMli7g+Rb1/H4L7e7nc2zwkAfAR2t3djYi4cS+oo6OjO/0ALpfLcXZ2duPnR0dHkWVZcv+qn/d1XNSYKVnE9Snq/fsQ3N/L5d7mQS394XPMpFwuj+r1+sTP4obnT56dnY3q9fq1z05OTkbNZnPiWONnf7bb7fwn/QjN8zrmGbNI5n3Ni3z/3sWsz6Z1f8/HPK63e5uHJAA+UmdnZ6ONjY3RycnJlff39vZu/OF8cHAwiohRlmUTPzs4OLjyXr/fH2VZduN4KZj3dbzvmEWyiGte1Pv3Ltrt9kyBwf09H/O63u5tHsrKaDRhFQKPwnA4jEajEVmWxfr6evT7/ahUKjfuG9Xr9eKPf/xj7OzsXD7U/Ze63W602+04PT2N4XAYWZbFmzdvkp9fMu/reJ8xi2YR17yo9+9tOp3O5fU6Pj6+vC5ff/11RERUq9XLJ0uMub/vb1HX273NQxAAAQAKxiIQAICCEQABAApGAAQAKBgBEACgYARAAICCEQABAApGAAQAKBgBEACgYARAAICCEQABAApGAAQAKBgBEACgYARAAICCEQABAApGAAQAKBgBEACgYARAAICCEQABAApGAAQAKBgBEACgYARAAICCEQABAApGAAQAKJj/D2rX1tLYhWknAAAAAElFTkSuQmCC' width=640.0/>\n",
       "            </div>\n",
       "        "
      ],
      "text/plain": [
       "Canvas(toolbar=Toolbar(toolitems=[('Home', 'Reset original view', 'home', 'home'), ('Back', 'Back to previous …"
      ]
     },
     "metadata": {},
     "output_type": "display_data"
    }
   ],
   "source": [
    "lead_indices = [0 , params.L +1]\n",
    "diag_greens , off_diag_green , H_tildes = rg.RGF_right_sweep(lead_indices , params)\n",
    "transmission , tau = rg.transmission_matrix_right(lead_indices , diag_greens , off_diag_green, 'right' , params)\n",
    "plt.figure()\n",
    "plt.imshow(np.abs(transmission))\n",
    "plt.colorbar()"
   ]
  },
  {
   "cell_type": "code",
   "execution_count": null,
   "metadata": {},
   "outputs": [],
   "source": []
  },
  {
   "cell_type": "markdown",
   "metadata": {},
   "source": [
    "Cross Checking with Kwant"
   ]
  },
  {
   "cell_type": "code",
   "execution_count": null,
   "metadata": {},
   "outputs": [],
   "source": [
    "# Cross-checking with kwant:\n",
    "sym = kwant.TranslationalSymmetry((-1 , 0))\n",
    "lat = kwant.lattice.square(norbs = 2)\n",
    "syst = kwant.Builder(sym)\n",
    "for i in range(params.W):\n",
    "    syst[lat(0 , i)] = 4*params.t*sz - params.mu*sz + params.Delta *sx\n",
    "    if i > 0:\n",
    "        syst[lat(0 , i), lat(0 , i-1)] = -params.t*sz\n",
    "    syst[lat(1 , i) , lat(0 , i)] = -params.t*sz \n",
    "\n",
    "syst = syst.finalized()\n",
    "kwant.plotter.bands(syst);\n",
    "plt.axhline(y = params.energy , color = 'r')\n",
    "plt.tight_layout()"
   ]
  },
  {
   "cell_type": "code",
   "execution_count": null,
   "metadata": {},
   "outputs": [],
   "source": [
    "# Cross-checking with kwant:\n",
    "sym = kwant.TranslationalSymmetry((-1 , 0))\n",
    "lat = kwant.lattice.square(norbs = 1)\n",
    "syst = kwant.Builder(sym)\n",
    "for i in range(params.W):\n",
    "    syst[lat(0 , i)] = 4*params.t - params.mu\n",
    "    if i > 0:\n",
    "        syst[lat(0 , i), lat(0 , i-1)] = -params.t\n",
    "    syst[lat(1 , i) , lat(0 , i)] = -params.t\n",
    "\n",
    "syst = syst.finalized()\n",
    "kwant.plotter.bands(syst);\n",
    "plt.axhline(y = params.energy , color = 'r')\n",
    "plt.tight_layout()"
   ]
  },
  {
   "cell_type": "code",
   "execution_count": 7,
   "metadata": {},
   "outputs": [
    {
     "name": "stdout",
     "output_type": "stream",
     "text": [
      "[ 0.  0.  0.  0.  0.  0.  0.  0.  0.  0.  0. 11.]\n",
      "[ 0.  0.  0.  0.  0.  0.  0.  0.  0.  0. 10. 11.]\n",
      "[ 0.  0.  0.  0.  0.  0.  0.  0.  0.  9. 10. 11.]\n",
      "[ 0.  0.  0.  0.  0.  0.  0.  0.  8.  9. 10. 11.]\n",
      "[ 0.  0.  0.  0.  0.  0.  0.  7.  8.  9. 10. 11.]\n",
      "[ 0.  0.  0.  0.  0.  0.  6.  7.  8.  9. 10. 11.]\n",
      "[ 0.  0.  0.  0.  0.  5.  6.  7.  8.  9. 10. 11.]\n",
      "[ 0.  0.  0.  0.  4.  5.  6.  7.  8.  9. 10. 11.]\n",
      "[ 0.  0.  0.  3.  4.  5.  6.  7.  8.  9. 10. 11.]\n",
      "[ 0.  0.  2.  3.  4.  5.  6.  7.  8.  9. 10. 11.]\n",
      "[ 0.  1.  2.  3.  4.  5.  6.  7.  8.  9. 10. 11.]\n",
      "[ 0.  1.  2.  3.  4.  5.  6.  7.  8.  9. 10. 11.]\n"
     ]
    }
   ],
   "source": [
    "no_steps = params.L + 2\n",
    "array = np.zeros(no_steps)\n",
    "for i in range(no_steps-1 , -1 , -1):\n",
    "    array[i] = i\n",
    "    print(array)"
   ]
  },
  {
   "cell_type": "code",
   "execution_count": null,
   "metadata": {},
   "outputs": [],
   "source": []
  }
 ],
 "metadata": {
  "kernelspec": {
   "display_name": "base",
   "language": "python",
   "name": "python3"
  },
  "language_info": {
   "codemirror_mode": {
    "name": "ipython",
    "version": 3
   },
   "file_extension": ".py",
   "mimetype": "text/x-python",
   "name": "python",
   "nbconvert_exporter": "python",
   "pygments_lexer": "ipython3",
   "version": "3.8.13"
  },
  "orig_nbformat": 4
 },
 "nbformat": 4,
 "nbformat_minor": 2
}
