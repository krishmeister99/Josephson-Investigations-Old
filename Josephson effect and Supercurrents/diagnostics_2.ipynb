{
 "cells": [
  {
   "attachments": {},
   "cell_type": "markdown",
   "metadata": {},
   "source": [
    "Following Khomyakov's trouble-shooting tips in https://arxiv.org/pdf/cond-mat/0501609.pdf"
   ]
  },
  {
   "cell_type": "code",
   "execution_count": 1,
   "metadata": {},
   "outputs": [
    {
     "name": "stderr",
     "output_type": "stream",
     "text": [
      "/Users/krishnanganesh/anaconda3/lib/python3.8/site-packages/kwant/solvers/default.py:16: RuntimeWarning: MUMPS is not available, SciPy built-in solver will be used as a fallback. Performance can be very poor in this case.\n",
      "  warnings.warn(\"MUMPS is not available, \"\n"
     ]
    }
   ],
   "source": [
    "%load_ext autoreload\n",
    "\n",
    "import kwant\n",
    "import numpy as np\n",
    "import matplotlib.pyplot as plt \n",
    "import kwant.continuum\n",
    "import scipy.sparse.linalg as sla\n",
    "import tinyarray as tiny\n",
    "import matplotlib as mpl\n",
    "import warnings\n",
    "warnings.filterwarnings(\"ignore\", category=np.VisibleDeprecationWarning) \n",
    "warnings.filterwarnings(\"ignore\", category=RuntimeWarning) \n",
    "\n",
    "%matplotlib widget\n",
    "mpl.rcParams.update({'font.size': 20, 'text.usetex': True,  'font.family': 'serif', 'font.serif': ['Computer Modern']})\n",
    "\n",
    "sx = tiny.array([[0 , 1] , [1 , 0]])\n",
    "sy = tiny.array([[0 , -1j] , [1j , 0]])\n",
    "sz = tiny.array([[1 , 0] , [0 , -1]])\n",
    "\n",
    "\n",
    "I = tiny.array([[1 , 0] , [0 , 1]])\n",
    "t_plus = 0.5*(np.kron(sx , I) + 1j*np.kron(sy , I))\n",
    "t_minus = t_plus.T\n",
    "phs = np.kron(sy , sy)\n",
    "\n",
    "from dataclasses import dataclass\n",
    "import RGF_single_orbital as so\n",
    "import RGFtools as rg\n",
    "@dataclass\n",
    "class JosephsonParameters:\n",
    "    W : int\n",
    "    L : int\n",
    "    a : float\n",
    "    t: float\n",
    "    flux : float\n",
    "    energy: float\n",
    "    Delta: float\n",
    "    phase: float\n",
    "    mu: float\n",
    "    tol: float\n",
    "from scipy.linalg import orth"
   ]
  },
  {
   "cell_type": "code",
   "execution_count": 2,
   "metadata": {},
   "outputs": [],
   "source": [
    "params = JosephsonParameters(W = 5 , \n",
    "                             L = 10,\n",
    "                             t = 1,\n",
    "                             a = 1 , \n",
    "                             flux = 0,\n",
    "                             energy = 0,\n",
    "                             Delta = 0,\n",
    "                             phase = 0,\n",
    "                             mu = 1.2,\n",
    "                            tol = 1e-4)\n",
    "\n"
   ]
  },
  {
   "cell_type": "code",
   "execution_count": 14,
   "metadata": {},
   "outputs": [],
   "source": [
    "def mode_sorting(eigenvalues , eigenvectors , params , slice):\n",
    "    # each eigenvector is formed of amplitudes (c_{i} , c_{i-1}). We want the lower block:\n",
    "    vectors = eigenvectors[int(eigenvectors.shape[0]/2) : , :]\n",
    "\n",
    "    # We now want a matrix of norms. The column vectors in vectors may not necessarily be orthogonal but this is fine.\n",
    "    norms = np.diagonal(np.conj(vectors.T) @ vectors)\n",
    "    normalisation_factors = 1 / np.sqrt(norms)\n",
    "    normalisation_factor_matrix = np.diag(normalisation_factors)\n",
    "\n",
    "    normalised_vectors = vectors @ normalisation_factor_matrix\n",
    "\n",
    "    # Eigenvalues corresponding to states that decay in the positive x direction:\n",
    "    pos_e_evals = eigenvalues[(np.abs(eigenvalues) - 1) < -params.tol]\n",
    "    # Eigenvalues corresponding to states that evanesce in the negative x direction:\n",
    "    neg_e_evals = eigenvalues[(np.abs(eigenvalues) - 1) > params.tol]\n",
    "\n",
    "    # Compute the group velocity for each state:\n",
    "    group_velocities = np.zeros(vectors.shape[1])\n",
    "    for i in range(vectors.shape[1]):\n",
    "        group_velocities[i] = so.group_vel(normalised_vectors[: , i], eigenvalues[i] , slice , params)\n",
    "\n",
    "    # Sorting propagating modes according to sign of group velocity:\n",
    "    p_conditions = (np.abs((np.abs(eigenvalues) - 1)) <= params.tol) & (group_velocities > 0)\n",
    "    n_conditions =(np.abs((np.abs(eigenvalues) - 1)) <= params.tol) & (group_velocities < 0 )\n",
    "\n",
    "    pos_p_evals = eigenvalues[ p_conditions ]\n",
    "    neg_p_evals = eigenvalues[ n_conditions]\n",
    "\n",
    "    # Sorting normalised eigenvectors in the same way:\n",
    "    pos_prop = normalised_vectors[: , p_conditions]\n",
    "    neg_prop = normalised_vectors[: , n_conditions]\n",
    "\n",
    "    pos_evanesce = normalised_vectors[: , (np.abs(eigenvalues) - 1) < -params.tol]\n",
    "    neg_evanesce = normalised_vectors[: , (np.abs(eigenvalues) - 1) > params.tol]\n",
    "    \n",
    "    list_of_eigenvalues = [pos_p_evals , neg_p_evals , pos_e_evals , neg_e_evals]\n",
    "\n",
    "    return pos_prop , neg_prop , pos_evanesce , neg_evanesce , list_of_eigenvalues , group_velocities\n",
    "    \n",
    "def generalised_eigenvalue_problem(slice , params):\n",
    "    energy = params.energy\n",
    "    M00 = np.linalg.inv(so.T(slice+1 , -1, params))@(energy*np.identity(params.W) -  so.h_0(slice , params)) # <- Calculating the Hamiltonian at slice.\n",
    "    M01 = -np.linalg.inv(so.T(slice+1 , -1, params))@so.T(slice , +1 , params)\n",
    "    M10 = np.identity(params.W)\n",
    "    M11 = np.zeros(shape = (params.W , params.W))\n",
    "\n",
    "    M = np.block([[M00 , M01],[M10 , M11]]) #<- Matrix to diagonalise for propagating modes in lead\n",
    "    evals , evecs = np.linalg.eig(M)\n",
    "\n",
    "    pos_prop , neg_prop , pos_evanesce , neg_evanesce , listofeigs , gv = mode_sorting(evals , evecs ,params , slice)\n",
    "\n",
    "    # Constructing U(±), matrices of right and left going eigenvectors:\n",
    "    U_pos = np.hstack((pos_prop , pos_evanesce))\n",
    "    U_neg = np.hstack((neg_prop , neg_evanesce))    \n",
    "    \n",
    "\n",
    "\n",
    "    "
   ]
  },
  {
   "cell_type": "code",
   "execution_count": 22,
   "metadata": {},
   "outputs": [],
   "source": [
    "pos_prop , neg_prop , pos_evanesce , neg_evanesce , listofeigs , gv = generalised_eigenvalue_problem(-1 , params)"
   ]
  },
  {
   "cell_type": "code",
   "execution_count": 23,
   "metadata": {},
   "outputs": [
    {
     "name": "stdout",
     "output_type": "stream",
     "text": [
      "[1.+0.j 1.+0.j]\n"
     ]
    }
   ],
   "source": [
    "print(norms)"
   ]
  },
  {
   "cell_type": "code",
   "execution_count": 15,
   "metadata": {},
   "outputs": [
    {
     "name": "stdout",
     "output_type": "stream",
     "text": [
      "[ True False False False]\n",
      "[ True  True False False]\n",
      "[ True False False False]\n",
      "[-1.]\n"
     ]
    }
   ],
   "source": [
    "test_e = np.array([-1 , 1 , 0.1 , 2])\n",
    "test_gv = np.array([5 , -5 , 0 , 0])\n",
    "idx_gv_pos = (test_gv > 0 )\n",
    "idx_e_prop = (np.abs(test_e) ==1 )\n",
    "\n",
    "print(idx_gv_pos)\n",
    "\n",
    "print(idx_e_prop)\n",
    "\n",
    "AND = idx_gv_pos & idx_e_prop\n",
    "print(AND)\n",
    "\n",
    "print(test_e[AND])"
   ]
  },
  {
   "cell_type": "code",
   "execution_count": null,
   "metadata": {},
   "outputs": [],
   "source": []
  }
 ],
 "metadata": {
  "kernelspec": {
   "display_name": "base",
   "language": "python",
   "name": "python3"
  },
  "language_info": {
   "codemirror_mode": {
    "name": "ipython",
    "version": 3
   },
   "file_extension": ".py",
   "mimetype": "text/x-python",
   "name": "python",
   "nbconvert_exporter": "python",
   "pygments_lexer": "ipython3",
   "version": "3.8.13"
  },
  "orig_nbformat": 4
 },
 "nbformat": 4,
 "nbformat_minor": 2
}
