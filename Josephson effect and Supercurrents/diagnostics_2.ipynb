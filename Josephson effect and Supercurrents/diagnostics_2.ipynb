{
 "cells": [
  {
   "attachments": {},
   "cell_type": "markdown",
   "metadata": {},
   "source": [
    "Following Khomyakov's trouble-shooting tips in https://arxiv.org/pdf/cond-mat/0501609.pdf"
   ]
  },
  {
   "cell_type": "code",
   "execution_count": 1,
   "metadata": {},
   "outputs": [
    {
     "name": "stderr",
     "output_type": "stream",
     "text": [
      "/Users/krishnanganesh/anaconda3/lib/python3.8/site-packages/kwant/solvers/default.py:16: RuntimeWarning: MUMPS is not available, SciPy built-in solver will be used as a fallback. Performance can be very poor in this case.\n",
      "  warnings.warn(\"MUMPS is not available, \"\n"
     ]
    }
   ],
   "source": [
    "%load_ext autoreload\n",
    "\n",
    "import kwant\n",
    "import numpy as np\n",
    "import matplotlib.pyplot as plt \n",
    "import kwant.continuum\n",
    "import scipy.sparse.linalg as sla\n",
    "import tinyarray as tiny\n",
    "import matplotlib as mpl\n",
    "import warnings\n",
    "warnings.filterwarnings(\"ignore\", category=np.VisibleDeprecationWarning) \n",
    "warnings.filterwarnings(\"ignore\", category=RuntimeWarning) \n",
    "\n",
    "%matplotlib widget\n",
    "mpl.rcParams.update({'font.size': 20, 'text.usetex': True,  'font.family': 'serif', 'font.serif': ['Computer Modern']})\n",
    "\n",
    "sx = tiny.array([[0 , 1] , [1 , 0]])\n",
    "sy = tiny.array([[0 , -1j] , [1j , 0]])\n",
    "sz = tiny.array([[1 , 0] , [0 , -1]])\n",
    "\n",
    "\n",
    "I = tiny.array([[1 , 0] , [0 , 1]])\n",
    "t_plus = 0.5*(np.kron(sx , I) + 1j*np.kron(sy , I))\n",
    "t_minus = t_plus.T\n",
    "phs = np.kron(sy , sy)\n",
    "\n",
    "from dataclasses import dataclass\n",
    "import RGF_single_orbital as so\n",
    "import RGFtools as rg\n",
    "@dataclass\n",
    "class JosephsonParameters:\n",
    "    W : int\n",
    "    L : int\n",
    "    a : float\n",
    "    t: float\n",
    "    flux : float\n",
    "    energy: float\n",
    "    Delta: float\n",
    "    phase: float\n",
    "    mu: float\n",
    "    tol: float\n",
    "from scipy.linalg import orth"
   ]
  },
  {
   "cell_type": "code",
   "execution_count": 2,
   "metadata": {},
   "outputs": [],
   "source": [
    "params = JosephsonParameters(W = 5 , \n",
    "                             L = 10,\n",
    "                             t = 1,\n",
    "                             a = 1 , \n",
    "                             flux = 0,\n",
    "                             energy = 0,\n",
    "                             Delta = 0,\n",
    "                             phase = 0,\n",
    "                             mu = 1.2,\n",
    "                            tol = 1e-4)\n",
    "\n"
   ]
  },
  {
   "cell_type": "code",
   "execution_count": 25,
   "metadata": {},
   "outputs": [],
   "source": [
    "def mode_sorting(eigenvalues , eigenvectors , params , slice):\n",
    "    # each eigenvector is formed of amplitudes (c_{i} , c_{i-1}). We want the lower block:\n",
    "    vectors = eigenvectors[int(eigenvectors.shape[0]/2) : , :]\n",
    "\n",
    "    # We now want a matrix of norms. The column vectors in vectors may not necessarily be orthogonal but this is fine.\n",
    "    norms = np.diagonal(np.conj(vectors.T) @ vectors)\n",
    "    normalisation_factors = 1 / np.sqrt(norms)\n",
    "    normalisation_factor_matrix = np.diag(normalisation_factors)\n",
    "\n",
    "    normalised_vectors = vectors @ normalisation_factor_matrix\n",
    "\n",
    "    # Eigenvalues corresponding to states that decay in the positive x direction:\n",
    "    pos_e_evals = eigenvalues[(np.abs(eigenvalues) - 1) < -params.tol]\n",
    "    # Eigenvalues corresponding to states that evanesce in the negative x direction:\n",
    "    neg_e_evals = eigenvalues[(np.abs(eigenvalues) - 1) > params.tol]\n",
    "\n",
    "    # Compute the group velocity for each state:\n",
    "    group_velocities = np.zeros(vectors.shape[1])\n",
    "    for i in range(vectors.shape[1]):\n",
    "        group_velocities[i] = so.group_vel(normalised_vectors[: , i], eigenvalues[i] , slice , params)\n",
    "\n",
    "    # Sorting propagating modes according to sign of group velocity:\n",
    "    p_conditions = (np.abs((np.abs(eigenvalues) - 1)) <= params.tol) & (group_velocities > 0)\n",
    "    n_conditions =(np.abs((np.abs(eigenvalues) - 1)) <= params.tol) & (group_velocities < 0 )\n",
    "\n",
    "    pos_p_evals = eigenvalues[ p_conditions ]\n",
    "    neg_p_evals = eigenvalues[ n_conditions]\n",
    "\n",
    "    # Sorting normalised eigenvectors in the same way:\n",
    "    pos_prop = normalised_vectors[: , p_conditions]\n",
    "    neg_prop = normalised_vectors[: , n_conditions]\n",
    "\n",
    "    pos_evanesce = normalised_vectors[: , (np.abs(eigenvalues) - 1) < -params.tol]\n",
    "    neg_evanesce = normalised_vectors[: , (np.abs(eigenvalues) - 1) > params.tol]\n",
    "    \n",
    "    list_of_eigenvalues = [pos_p_evals , neg_p_evals , pos_e_evals , neg_e_evals]\n",
    "\n",
    "    return pos_prop , neg_prop , pos_evanesce , neg_evanesce , list_of_eigenvalues , group_velocities\n",
    "    \n",
    "def generalised_eigenvalue_problem(slice , params):\n",
    "    energy = params.energy\n",
    "    M00 = np.linalg.inv(so.T(slice+1 , -1, params))@(energy*np.identity(params.W) -  so.h_0(slice , params)) # <- Calculating the Hamiltonian at slice.\n",
    "    M01 = -np.linalg.inv(so.T(slice+1 , -1, params))@so.T(slice , +1 , params)\n",
    "    M10 = np.identity(params.W)\n",
    "    M11 = np.zeros(shape = (params.W , params.W))\n",
    "\n",
    "    M = np.block([[M00 , M01],[M10 , M11]]) #<- Matrix to diagonalise for propagating modes in lead\n",
    "\n",
    "    # evals are bloch factors, evecs are transverse mode eigenvfunctions for sites: (slice , slice -1)^{T}\n",
    "    evals , evecs = np.linalg.eig(M)\n",
    "\n",
    "    pos_prop , neg_prop , pos_evanesce , neg_evanesce , list_of_eigenvalues , gv = mode_sorting(evals , evecs ,params , slice)\n",
    "\n",
    "    # Constructing U(±), matrices of right and left going eigenvectors:\n",
    "    U_pos = np.hstack((pos_prop , pos_evanesce))\n",
    "    U_neg = np.hstack((neg_prop , neg_evanesce))    \n",
    "    \n",
    "    # Constructing A(±) , diagonal matrix of bloch factors:\n",
    "    Lambda_pos = np.diag(np.hstack((list_of_eigenvalues[0] ,list_of_eigenvalues[2])))\n",
    "    Lambda_neg = np.diag(np.hstack((list_of_eigenvalues[1] , list_of_eigenvalues[3])))\n",
    "\n",
    "    # Construct the F(\\pm) transfer matrices:\n",
    "    F_pos = U_pos @ Lambda_pos @ np.linalg.inv(U_pos)\n",
    "    F_neg = U_neg @ Lambda_neg @ np.linalg.inv(U_neg)\n",
    "\n",
    "        # This is for diagnostic purposes:\n",
    "    debugdict = {'U_pos' : U_pos , 'U_neg' : U_neg , 'Lambda_pos' : Lambda_pos , 'Lambda_neg': Lambda_neg\n",
    "                 , 'pos_prop' : pos_prop , 'neg_prop' : neg_prop , 'pos_evanesce' : pos_evanesce , 'neg_evanesce' : neg_evanesce\n",
    "                 ,'list_of_eigenvalues' : list_of_eigenvalues , 'group_velocities' : gv, 'evals': evals , 'evecs': evecs}\n",
    "\n",
    "    return F_pos , F_neg , debugdict"
   ]
  },
  {
   "cell_type": "code",
   "execution_count": 26,
   "metadata": {},
   "outputs": [],
   "source": [
    "F_pos , F_neg , debug_dict = generalised_eigenvalue_problem(-1 , params)"
   ]
  },
  {
   "cell_type": "code",
   "execution_count": 28,
   "metadata": {},
   "outputs": [
    {
     "data": {
      "text/plain": [
       "<matplotlib.colorbar.Colorbar at 0x7f8a6131e910>"
      ]
     },
     "execution_count": 28,
     "metadata": {},
     "output_type": "execute_result"
    },
    {
     "data": {
      "application/vnd.jupyter.widget-view+json": {
       "model_id": "cb2b5f382cfe433baf7c5bf317d0731c",
       "version_major": 2,
       "version_minor": 0
      },
      "image/png": "[encoded data removed]",
      "text/html": [
       "\n",
       "            <div style=\"display: inline-block;\">\n",
       "                <div class=\"jupyter-widgets widget-label\" style=\"text-align: center;\">\n",
       "                    Figure\n",
       "                </div>\n",
       "                <img src='data:image/png;base64,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' width=640.0/>\n",
       "            </div>\n",
       "        "
      ],
      "text/plain": [
       "Canvas(toolbar=Toolbar(toolitems=[('Home', 'Reset original view', 'home', 'home'), ('Back', 'Back to previous …"
      ]
     },
     "metadata": {},
     "output_type": "display_data"
    }
   ],
   "source": [
    "# Checking F_pos and F_neg satisfy the correct equation of motion:\n",
    "matrix = ((params.energy*np.identity(params.W) - so.h_0(-1 , params)) - so.T(-1 + 1 , -1 , params)@F_neg \n",
    "          - so.T(-1 , +1 , params)@np.linalg.inv(F_neg))\n",
    "\n",
    "plt.figure()\n",
    "plt.imshow(np.abs(matrix))\n",
    "plt.colorbar()"
   ]
  },
  {
   "cell_type": "code",
   "execution_count": null,
   "metadata": {},
   "outputs": [],
   "source": []
  }
 ],
 "metadata": {
  "kernelspec": {
   "display_name": "base",
   "language": "python",
   "name": "python3"
  },
  "language_info": {
   "codemirror_mode": {
    "name": "ipython",
    "version": 3
   },
   "file_extension": ".py",
   "mimetype": "text/x-python",
   "name": "python",
   "nbconvert_exporter": "python",
   "pygments_lexer": "ipython3",
   "version": "3.8.13"
  },
  "orig_nbformat": 4
 },
 "nbformat": 4,
 "nbformat_minor": 2
}
