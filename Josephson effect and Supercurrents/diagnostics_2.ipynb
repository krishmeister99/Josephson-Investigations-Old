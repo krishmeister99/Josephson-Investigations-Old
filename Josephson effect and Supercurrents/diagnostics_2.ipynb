{
 "cells": [
  {
   "attachments": {},
   "cell_type": "markdown",
   "metadata": {},
   "source": [
    "Following Khomyakov's trouble-shooting tips in https://arxiv.org/pdf/cond-mat/0501609.pdf"
   ]
  },
  {
   "cell_type": "code",
   "execution_count": 49,
   "metadata": {},
   "outputs": [
    {
     "name": "stdout",
     "output_type": "stream",
     "text": [
      "The autoreload extension is already loaded. To reload it, use:\n",
      "  %reload_ext autoreload\n"
     ]
    }
   ],
   "source": [
    "%load_ext autoreload\n",
    "\n",
    "import kwant\n",
    "import numpy as np\n",
    "import matplotlib.pyplot as plt \n",
    "import kwant.continuum\n",
    "import scipy.sparse.linalg as sla\n",
    "import tinyarray as tiny\n",
    "import matplotlib as mpl\n",
    "import warnings\n",
    "warnings.filterwarnings(\"ignore\", category=np.VisibleDeprecationWarning) \n",
    "warnings.filterwarnings(\"ignore\", category=RuntimeWarning) \n",
    "\n",
    "%matplotlib widget\n",
    "mpl.rcParams.update({'font.size': 20, 'text.usetex': True,  'font.family': 'serif', 'font.serif': ['Computer Modern']})\n",
    "\n",
    "sx = tiny.array([[0 , 1] , [1 , 0]])\n",
    "sy = tiny.array([[0 , -1j] , [1j , 0]])\n",
    "sz = tiny.array([[1 , 0] , [0 , -1]])\n",
    "\n",
    "\n",
    "I = tiny.array([[1 , 0] , [0 , 1]])\n",
    "t_plus = 0.5*(np.kron(sx , I) + 1j*np.kron(sy , I))\n",
    "t_minus = t_plus.T\n",
    "phs = np.kron(sy , sy)\n",
    "\n",
    "from dataclasses import dataclass\n",
    "import RGF_single_orbital as so\n",
    "import RGFtools as rg\n",
    "@dataclass\n",
    "class JosephsonParameters:\n",
    "    W : int\n",
    "    L : int\n",
    "    a : float\n",
    "    t: float\n",
    "    flux : float\n",
    "    energy: float\n",
    "    Delta: float\n",
    "    phase: float\n",
    "    mu: float\n",
    "    tol: float\n",
    "from scipy.linalg import orth"
   ]
  },
  {
   "cell_type": "code",
   "execution_count": 50,
   "metadata": {},
   "outputs": [],
   "source": [
    "params = JosephsonParameters(W = 10 , \n",
    "                             L = 10,\n",
    "                             t = 1,\n",
    "                             a = 1 , \n",
    "                             flux = 0,\n",
    "                             energy = 0.5,\n",
    "                             Delta = 0,\n",
    "                             phase = 0,\n",
    "                             mu = 1.2,\n",
    "                            tol = 1e-4)\n",
    "\n"
   ]
  },
  {
   "cell_type": "code",
   "execution_count": 68,
   "metadata": {},
   "outputs": [],
   "source": [
    "def mode_sorting(eigenvalues , eigenvectors , params , slice):\n",
    "    # each eigenvector is formed of amplitudes (c_{i} , c_{i-1}). We want the lower block:\n",
    "    vectors = eigenvectors[int(eigenvectors.shape[0]/2) : , :]\n",
    "\n",
    "    # We now want a matrix of norms. The column vectors in vectors may not necessarily be orthogonal but this is fine.\n",
    "    norms = np.diagonal(np.conj(vectors.T) @ vectors)\n",
    "    normalisation_factors = 1 / np.sqrt(norms)\n",
    "    normalisation_factor_matrix = np.diag(normalisation_factors)\n",
    "\n",
    "    normalised_vectors = vectors @ normalisation_factor_matrix\n",
    "\n",
    "    # Eigenvalues corresponding to states that decay in the positive x direction:\n",
    "    pos_e_evals = eigenvalues[(np.abs(eigenvalues) - 1) < -params.tol]\n",
    "    # Eigenvalues corresponding to states that evanesce in the negative x direction:\n",
    "    neg_e_evals = eigenvalues[(np.abs(eigenvalues) - 1) > params.tol]\n",
    "\n",
    "    # Compute the group velocity for each state:\n",
    "    group_velocities = np.zeros(vectors.shape[1])\n",
    "    for i in range(vectors.shape[1]):\n",
    "        group_velocities[i] = so.group_vel(normalised_vectors[: , i], eigenvalues[i] , slice , params)\n",
    "\n",
    "    # Sorting propagating modes according to sign of group velocity:\n",
    "    p_conditions = (np.abs((np.abs(eigenvalues) - 1)) <= params.tol) & (group_velocities > 0)\n",
    "    n_conditions =(np.abs((np.abs(eigenvalues) - 1)) <= params.tol) & (group_velocities < 0 )\n",
    "\n",
    "    pos_p_evals = eigenvalues[ p_conditions ]\n",
    "    neg_p_evals = eigenvalues[ n_conditions]\n",
    "\n",
    "    # Sorting normalised eigenvectors in the same way:\n",
    "    pos_prop = normalised_vectors[: , p_conditions]\n",
    "    neg_prop = normalised_vectors[: , n_conditions]\n",
    "\n",
    "    pos_evanesce = normalised_vectors[: , (np.abs(eigenvalues) - 1) < -params.tol]\n",
    "    neg_evanesce = normalised_vectors[: , (np.abs(eigenvalues) - 1) > params.tol]\n",
    "    \n",
    "    list_of_eigenvalues = [pos_p_evals , neg_p_evals , pos_e_evals , neg_e_evals]\n",
    "\n",
    "    # group_velocities for propgating states only:\n",
    "    g_vel_p = group_velocities[p_conditions]\n",
    "    g_vel_n = group_velocities[n_conditions]\n",
    "     \n",
    "    return pos_prop , neg_prop , pos_evanesce , neg_evanesce , list_of_eigenvalues , [group_velocities , g_vel_p , g_vel_n]\n",
    "    \n",
    "def generalised_eigenvalue_problem(slice , params):\n",
    "    energy = params.energy\n",
    "    M00 = np.linalg.inv(so.T(slice+1 , -1, params))@(energy*np.identity(params.W) -  so.h_0(slice , params)) # <- Calculating the Hamiltonian at slice.\n",
    "    M01 = -np.linalg.inv(so.T(slice+1 , -1, params))@so.T(slice , +1 , params)\n",
    "    M10 = np.identity(params.W)\n",
    "    M11 = np.zeros(shape = (params.W , params.W))\n",
    "\n",
    "    M = np.block([[M00 , M01],[M10 , M11]]) #<- Matrix to diagonalise for propagating modes in lead\n",
    "\n",
    "    # evals are bloch factors, evecs are transverse mode eigenvfunctions for sites: (slice , slice -1)^{T}\n",
    "    evals , evecs = np.linalg.eig(M)\n",
    "\n",
    "    pos_prop , neg_prop , pos_evanesce , neg_evanesce , list_of_eigenvalues , gv = mode_sorting(evals , evecs ,params , slice)\n",
    "\n",
    "    # Constructing U(±), matrices of right and left going eigenvectors:\n",
    "    U_pos = np.hstack((pos_prop , pos_evanesce))\n",
    "    U_neg = np.hstack((neg_prop , neg_evanesce)) \n",
    "\n",
    "    # Constructing A(±) , diagonal matrix of bloch factors:\n",
    "    Lambda_pos = np.diag(np.hstack((list_of_eigenvalues[0] ,list_of_eigenvalues[2])))\n",
    "    Lambda_neg = np.diag(np.hstack((list_of_eigenvalues[1] , list_of_eigenvalues[3])))\n",
    "\n",
    "    # Construct the F(\\pm) transfer matrices:\n",
    "    F_pos = U_pos @ Lambda_pos @ np.linalg.inv(U_pos)\n",
    "    F_neg = U_neg @ Lambda_neg @ np.linalg.inv(U_neg)\n",
    "\n",
    "        # This is for diagnostic purposes:\n",
    "    debugdict = {'U_pos' : U_pos , 'U_neg' : U_neg , 'Lambda_pos' : Lambda_pos , 'Lambda_neg': Lambda_neg\n",
    "                 , 'pos_prop' : pos_prop , 'neg_prop' : neg_prop , 'pos_evanesce' : pos_evanesce , 'neg_evanesce' : neg_evanesce\n",
    "                 ,'list_of_eigenvalues' : list_of_eigenvalues , 'group_velocities' : gv, 'evals': evals , 'evecs': evecs}\n",
    "\n",
    "    return F_pos , F_neg , debugdict\n",
    "\n",
    "def compute_transmission_matrix(lead_indices , params):\n",
    "    \"\"\"\n",
    "    Uses the recursive Greens function algorithm to compute diagonal and off-diagonal Greens functions between the two leads.\n",
    "\n",
    "    Arguments:\n",
    "    lead_indices: list , indices of lead slices that are connected to the scattering region.\n",
    "    params: system parameters \n",
    "\n",
    "    returns:\n",
    "    [GF_diagonal , GF_off_diagonal] : list , diagonal and off-diagonal greens functions for the system.\n",
    "    \"\"\"\n",
    "\n",
    "    # Indices of site in left and right lead that are connected to the scattering region:\n",
    "    #  Lead  *  Scattering  * Lead\n",
    "    # -L-L-L-L-S-S-S...-S-S-R-R-R-R-\n",
    "    #       -0-1-2-3.....-L-L+1\n",
    "\n",
    "    slice_left = lead_indices[0]\n",
    "    slice_right = lead_indices[1]\n",
    "\n",
    "    F_pos_left , F_neg_left , debug_left = generalised_eigenvalue_problem(slice_left - 1 , params)\n",
    "    F_pos_right , F_neg_right , debug_right = generalised_eigenvalue_problem(slice_right + 1 , params)\n",
    "\n",
    "    H_start_tilde = so.h_0(slice_left , params) - so.T(slice_left , +1 , params)@np.linalg.inv(F_neg_left)\n",
    "    H_end_tilde = so.h_0(slice_right , params) - so.T(slice_right+1 , -1 , params)@F_pos_right\n",
    "\n",
    "    # Number of slices in the scattering region + adjacent slices in lead:\n",
    "    no_steps = params.L + 2\n",
    "    \n",
    "     # Storing tilde Hamiltonians in an array:\n",
    "    H_tildes = np.zeros(shape = ( H_start_tilde.shape[0] , H_start_tilde.shape[0] , no_steps))\n",
    "    H_tildes[: , : , 0] = H_start_tilde\n",
    "    H_tildes[: , : ,-1] = H_end_tilde\n",
    "    for j in range(1,params.L + 1):\n",
    "        H_tildes[: , : , j] = so.h_0(j , params)\n",
    "\n",
    "    # Source term at the left lead:\n",
    "    source_term = so.T(slice_left , +1 , params) @(np.linalg.inv(F_pos_left) - np.linalg.inv(F_neg_left))\n",
    "    \n",
    "    # Recursive step:\n",
    "    G_start = np.linalg.inv(params.energy*np.identity(params.W) - H_start_tilde)    \n",
    "    \n",
    "    diag_greensfunctions = np.zeros(shape = (params.W , params.W , no_steps))\n",
    "    off_diag_greensfunctions = np.zeros(shape = (params.W , params.W , no_steps))\n",
    "    # Initial condition:\n",
    "    diag_greensfunctions[: , : , 0] = G_start\n",
    "    off_diag_greensfunctions[: , : , 0] = G_start\n",
    "\n",
    "    for i in range(no_steps):\n",
    "        if i > 0:\n",
    "            matrix = (params.energy*np.identity(params.W)  - H_tildes[: , : , i] -\n",
    "                                                        so.T(i , +1 , params) @ diag_greensfunctions[: , : , i-1] @ so.T(i , -1 , params) )\n",
    "            diag_greensfunctions[: , : , i] = np.linalg.inv(matrix)\n",
    "            off_diag_greensfunctions[: , : , i] = diag_greensfunctions[: , : , i]@ so.T(i , +1 , params) @ off_diag_greensfunctions[: , : , i-1]\n",
    "        \n",
    "    U_pos_left = debug_left['U_pos']\n",
    "    U_pos_right = debug_right['U_neg']\n",
    "    \n",
    "    # Non-physical transmission matrix (inludes matrix elements between evanescent waves too, so not physical):  \n",
    "    tau = np.linalg.inv(U_pos_right)@off_diag_greensfunctions[: , : , -1]@source_term@U_pos_left\n",
    "\n",
    "    # For the physical transmission matrix, we must compute matrix-elements only between propagating states:\n",
    "    U_pos_prop_left = debug_left['pos_prop']\n",
    "    U_pos_prop_right = debug_right['neg_prop']\n",
    "\n",
    "    transmission = np.linalg.pinv(U_pos_prop_right)@off_diag_greensfunctions[: , : , -1]@source_term@U_pos_prop_left\n",
    "\n",
    "    # Normalise with respect to group_velocities of propagating modes in each lead:\n",
    "    g_vel_left = debug_left['group_velocities'][1]\n",
    "    g_vel_right = debug_right['group_velocities'][1]\n",
    "\n",
    "    normalisation_matrix = np.sqrt(np.outer(g_vel_right , 1/g_vel_left))\n",
    "\n",
    "    transmission_normalized = normalisation_matrix * transmission\n",
    "    return transmission , transmission_normalized\n"
   ]
  },
  {
   "cell_type": "code",
   "execution_count": 69,
   "metadata": {},
   "outputs": [],
   "source": [
    "lead_indices = [0 , params.L + 1]\n",
    "\n",
    "transmission, norm_trans = compute_transmission_matrix(lead_indices , params)"
   ]
  },
  {
   "cell_type": "code",
   "execution_count": 70,
   "metadata": {},
   "outputs": [
    {
     "data": {
      "text/plain": [
       "<matplotlib.colorbar.Colorbar at 0x7f8a4827da00>"
      ]
     },
     "execution_count": 70,
     "metadata": {},
     "output_type": "execute_result"
    },
    {
     "data": {
      "application/vnd.jupyter.widget-view+json": {
       "model_id": "8e03edae132941c8b82c58500ebb1391",
       "version_major": 2,
       "version_minor": 0
      },
      "image/png": "[encoded data removed]",
      "text/html": [
       "\n",
       "            <div style=\"display: inline-block;\">\n",
       "                <div class=\"jupyter-widgets widget-label\" style=\"text-align: center;\">\n",
       "                    Figure\n",
       "                </div>\n",
       "                <img src='data:image/png;base64,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' width=640.0/>\n",
       "            </div>\n",
       "        "
      ],
      "text/plain": [
       "Canvas(toolbar=Toolbar(toolitems=[('Home', 'Reset original view', 'home', 'home'), ('Back', 'Back to previous …"
      ]
     },
     "metadata": {},
     "output_type": "display_data"
    }
   ],
   "source": [
    "plt.figure()\n",
    "plt.imshow(np.abs(transmission))\n",
    "plt.colorbar()"
   ]
  },
  {
   "cell_type": "code",
   "execution_count": 71,
   "metadata": {},
   "outputs": [
    {
     "data": {
      "text/plain": [
       "<matplotlib.colorbar.Colorbar at 0x7f8a4929a5e0>"
      ]
     },
     "execution_count": 71,
     "metadata": {},
     "output_type": "execute_result"
    },
    {
     "data": {
      "application/vnd.jupyter.widget-view+json": {
       "model_id": "d712a5aba2734bbc993ac7e23f8acc53",
       "version_major": 2,
       "version_minor": 0
      },
      "image/png": "[encoded data removed]",
      "text/html": [
       "\n",
       "            <div style=\"display: inline-block;\">\n",
       "                <div class=\"jupyter-widgets widget-label\" style=\"text-align: center;\">\n",
       "                    Figure\n",
       "                </div>\n",
       "                <img src='data:image/png;base64,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' width=640.0/>\n",
       "            </div>\n",
       "        "
      ],
      "text/plain": [
       "Canvas(toolbar=Toolbar(toolitems=[('Home', 'Reset original view', 'home', 'home'), ('Back', 'Back to previous …"
      ]
     },
     "metadata": {},
     "output_type": "display_data"
    }
   ],
   "source": [
    "plt.figure()\n",
    "plt.imshow(np.abs(norm_trans))\n",
    "plt.colorbar()\n"
   ]
  },
  {
   "cell_type": "code",
   "execution_count": null,
   "metadata": {},
   "outputs": [],
   "source": []
  }
 ],
 "metadata": {
  "kernelspec": {
   "display_name": "base",
   "language": "python",
   "name": "python3"
  },
  "language_info": {
   "codemirror_mode": {
    "name": "ipython",
    "version": 3
   },
   "file_extension": ".py",
   "mimetype": "text/x-python",
   "name": "python",
   "nbconvert_exporter": "python",
   "pygments_lexer": "ipython3",
   "version": "3.8.13"
  },
  "orig_nbformat": 4
 },
 "nbformat": 4,
 "nbformat_minor": 2
}
