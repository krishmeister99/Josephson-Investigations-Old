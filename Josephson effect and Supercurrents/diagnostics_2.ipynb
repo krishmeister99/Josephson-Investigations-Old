{
 "cells": [
  {
   "attachments": {},
   "cell_type": "markdown",
   "metadata": {},
   "source": [
    "Following Khomyakov's trouble-shooting tips in https://arxiv.org/pdf/cond-mat/0501609.pdf"
   ]
  },
  {
   "cell_type": "code",
   "execution_count": 2,
   "metadata": {},
   "outputs": [
    {
     "name": "stdout",
     "output_type": "stream",
     "text": [
      "The autoreload extension is already loaded. To reload it, use:\n",
      "  %reload_ext autoreload\n"
     ]
    }
   ],
   "source": [
    "%load_ext autoreload\n",
    "\n",
    "import kwant\n",
    "import numpy as np\n",
    "import matplotlib.pyplot as plt \n",
    "import kwant.continuum\n",
    "import scipy.sparse.linalg as sla\n",
    "import tinyarray as tiny\n",
    "import matplotlib as mpl\n",
    "import warnings\n",
    "warnings.filterwarnings(\"ignore\", category=np.VisibleDeprecationWarning) \n",
    "warnings.filterwarnings(\"ignore\", category=RuntimeWarning) \n",
    "\n",
    "%matplotlib widget\n",
    "mpl.rcParams.update({'font.size': 20, 'text.usetex': True,  'font.family': 'serif', 'font.serif': ['Computer Modern']})\n",
    "\n",
    "sx = tiny.array([[0 , 1] , [1 , 0]])\n",
    "sy = tiny.array([[0 , -1j] , [1j , 0]])\n",
    "sz = tiny.array([[1 , 0] , [0 , -1]])\n",
    "\n",
    "\n",
    "I = tiny.array([[1 , 0] , [0 , 1]])\n",
    "t_plus = 0.5*(np.kron(sx , I) + 1j*np.kron(sy , I))\n",
    "t_minus = t_plus.T\n",
    "phs = np.kron(sy , sy)\n",
    "\n",
    "from dataclasses import dataclass\n",
    "import RGF_single_orbital as so\n",
    "import RGFtools as rg\n",
    "@dataclass\n",
    "class JosephsonParameters:\n",
    "    W : int\n",
    "    L : int\n",
    "    t: float\n",
    "    flux : float\n",
    "    energy: float\n",
    "    Delta: float\n",
    "    phase: float\n",
    "    mu: float\n",
    "    tol: float\n",
    "from scipy.linalg import orth"
   ]
  },
  {
   "cell_type": "code",
   "execution_count": 3,
   "metadata": {},
   "outputs": [],
   "source": [
    "params = JosephsonParameters(W = 5 , \n",
    "                             L = 10,\n",
    "                             t = 1,\n",
    "                             flux = 0,\n",
    "                             energy = 0,\n",
    "                             Delta = 0,\n",
    "                             phase = 0,\n",
    "                             mu = 0.5,\n",
    "                            tol = 1e-4)\n",
    "\n"
   ]
  },
  {
   "cell_type": "code",
   "execution_count": null,
   "metadata": {},
   "outputs": [],
   "source": []
  }
 ],
 "metadata": {
  "kernelspec": {
   "display_name": "base",
   "language": "python",
   "name": "python3"
  },
  "language_info": {
   "codemirror_mode": {
    "name": "ipython",
    "version": 3
   },
   "file_extension": ".py",
   "mimetype": "text/x-python",
   "name": "python",
   "nbconvert_exporter": "python",
   "pygments_lexer": "ipython3",
   "version": "3.8.13"
  },
  "orig_nbformat": 4
 },
 "nbformat": 4,
 "nbformat_minor": 2
}
