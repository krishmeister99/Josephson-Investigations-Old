{
 "cells": [
  {
   "cell_type": "code",
   "execution_count": 111,
   "metadata": {},
   "outputs": [
    {
     "name": "stdout",
     "output_type": "stream",
     "text": [
      "The autoreload extension is already loaded. To reload it, use:\n",
      "  %reload_ext autoreload\n"
     ]
    }
   ],
   "source": [
    "%load_ext autoreload\n",
    "\n",
    "import kwant\n",
    "import numpy as np\n",
    "import matplotlib.pyplot as plt \n",
    "import kwant.continuum\n",
    "import scipy.sparse.linalg as sla\n",
    "import tinyarray as tiny\n",
    "import matplotlib as mpl\n",
    "import warnings\n",
    "warnings.filterwarnings(\"ignore\", category=np.VisibleDeprecationWarning) \n",
    "warnings.filterwarnings(\"ignore\", category=RuntimeWarning) \n",
    "\n",
    "%matplotlib widget\n",
    "mpl.rcParams.update({'font.size': 20, 'text.usetex': True,  'font.family': 'serif', 'font.serif': ['Computer Modern']})\n",
    "\n",
    "sx = tiny.array([[0 , 1] , [1 , 0]])\n",
    "sy = tiny.array([[0 , -1j] , [1j , 0]])\n",
    "sz = tiny.array([[1 , 0] , [0 , -1]])\n",
    "\n",
    "\n",
    "I = tiny.array([[1 , 0] , [0 , 1]])\n",
    "t_plus = 0.5*(np.kron(sx , I) + 1j*np.kron(sy , I))\n",
    "t_minus = t_plus.T\n",
    "phs = np.kron(sy , sy)"
   ]
  },
  {
   "attachments": {},
   "cell_type": "markdown",
   "metadata": {},
   "source": [
    "The recursive Green's function method relies on these two equations:\n",
    "$$ \\check{G}^{L}_{j} = \\left[ i\\omega_{p} \\check{1} - \\check{H}^{0}_{j} - \\check{T}^{+}_{j}\\check{G}^{L}_{j-1} \\check{T}^{-}_{j} \\right]^{-1} $$\n",
    "starting at $j = j_{L}$, which is some slice in the left lead,\n",
    "$$ \\check{G}^{R}_{j} = \\left[ i\\omega_{p} \\check{1} - \\check{H}^{0}_{j} - \\check{T}^{-}_{j+1}\\check{G}^{R}_{j+1} \\check{T}^{+}_{j + 1} \\right]^{-1} $$\n",
    "starting at $j = j_{R}$ which is some slice in the right lead,\n",
    "and finally:\n",
    "$$\\check{G}_{\\omega_{p}}(j , j) = \\left[ i\\omega_{p} \\check{1} -  \\check{H}^{0}_{j} - \\check{T}^{-}_{j+1}\\check{G}^{R}_{j+1} \\check{T}^{+}_{j + 1}  - \\check{T}^{+}_{j}\\check{G}^{L}_{j-1} \\check{T}^{-}_{j} \\right] $$\n",
    "An upside down hat means its a $(2W \\times 2W)$ matrix. $\\check{T}^{+}_{j}$ is the matrix that shifts you to the right from site $j$, whilst $\\check{T}^{-}_{j}$ shifts you to the left from site $j$. Also $\\check{G}^{L/R}_{j} = \\check{G}_{\\omega_{P}}(j , j)$ which is the Green's function of the system in which all alttice site $j'\\geq j+1$ and $j' \\leq j - 1$ are deleted.\n",
    "These means we will first have to evaluate $\\check{G}^{L}_{j_{L}-1}$ and $\\check{G}^{R}_{j_{R} + 1}$, which this paper tells me how to do numerically: https://journals.aps.org/prb/pdf/10.1103/PhysRevB.44.8017. Probably best to evaluate this numerically since these Green's functions are only analytically soluble in the simplest of cases (i.e. s-wave disorderless superconductors).\n"
   ]
  },
  {
   "attachments": {},
   "cell_type": "markdown",
   "metadata": {},
   "source": [
    "From the Ando paper I learned that I should first calculate all modes in the ideal superconducting leads. This should give me a matrix of eigenvectors $U(\\pm)$ (where $+$ corresponds to right moving and $-$ corresponds to left-moving) and a diagonal matrix of eigenvalues $\\Lambda(\\pm)$. We can determine whether they are rightr movers or left movers by studying $arg(\\Lambda_{ii})$. The important matrix to calculate is:\n",
    "$$ F(-) = U(-)\\Lambda(-)U^{-1}(-)$$ "
   ]
  },
  {
   "attachments": {},
   "cell_type": "markdown",
   "metadata": {},
   "source": [
    "To compute all the modes in the lead, I need to solve the following eigenvalue problem:\n",
    "$$ \\underbrace{\\begin{pmatrix} - [\\check{T}^{-}]^{-1}(\\check{H}^{j}_0 - E) & -[\\check{T}^{-}]^{-1}\\check{T}^{+} \\\\ \\check{1} & \\check{0} \\end{pmatrix}}_{\\mathbb{M}}\\begin{pmatrix}\\vec{c}_{j} \\\\ \\vec{c}_{j-1} \\end{pmatrix} = \\lambda \\begin{pmatrix}\\vec{c}_{j} \\\\ \\vec{c}_{j-1} \\end{pmatrix} $$\n",
    "where $\\check{H}^{j}_{0}$ is the onsite Hamiltonian of slice $j$ and $\\vec{c}_{j}$ is the vector of amplitudes on slice $j$. The argument of $\\lambda$ will give the direction of current between slice $j -1$ and slice $j$."
   ]
  },
  {
   "cell_type": "code",
   "execution_count": 112,
   "metadata": {},
   "outputs": [],
   "source": [
    "from dataclasses import dataclass\n",
    "from RGFtools import *\n",
    "@dataclass\n",
    "class JosephsonParameters:\n",
    "    W : int\n",
    "    L : int\n",
    "    t: float\n",
    "    flux : float\n",
    "    energy: float\n",
    "    Delta: float\n",
    "    phase: float\n",
    "    mu: float\n",
    "\n",
    "# params = JosephsonParameters(W = 10 , \n",
    "#                              L = 10,\n",
    "#                              t = 1,\n",
    "#                              flux = 0,\n",
    "#                              energy = 0.0,\n",
    "#                              Delta = 0,\n",
    "#                              phase = 0,\n",
    "#                              mu = 0.5)\n",
    "    "
   ]
  },
  {
   "cell_type": "code",
   "execution_count": 113,
   "metadata": {},
   "outputs": [
    {
     "name": "stdout",
     "output_type": "stream",
     "text": [
      "0.0\n",
      "0.01\n",
      "0.02\n",
      "0.03\n",
      "0.04\n",
      "0.05\n",
      "0.06\n",
      "0.07\n",
      "0.08\n",
      "0.09\n",
      "0.1\n",
      "0.11\n",
      "0.12\n",
      "0.13\n",
      "0.14\n",
      "0.15\n",
      "0.16\n",
      "0.17\n",
      "0.18\n",
      "0.19\n",
      "0.2\n",
      "0.21\n",
      "0.22\n",
      "0.23\n",
      "0.24\n",
      "0.25\n",
      "0.26\n",
      "0.27\n",
      "0.28\n",
      "0.29\n",
      "0.3\n",
      "0.31\n",
      "0.32\n",
      "0.33\n",
      "0.34\n",
      "0.35000000000000003\n",
      "0.36\n",
      "0.37\n",
      "0.38\n",
      "0.39\n",
      "0.4\n",
      "0.41000000000000003\n",
      "0.42\n",
      "0.43\n",
      "0.44\n",
      "0.45\n",
      "0.46\n",
      "0.47000000000000003\n",
      "0.48\n",
      "0.49\n",
      "0.5\n",
      "0.51\n",
      "0.52\n",
      "0.53\n",
      "0.54\n",
      "0.55\n",
      "0.56\n",
      "0.5700000000000001\n",
      "0.58\n",
      "0.59\n",
      "0.6\n",
      "0.61\n",
      "0.62\n",
      "0.63\n",
      "0.64\n",
      "0.65\n",
      "0.66\n",
      "0.67\n",
      "0.68\n",
      "0.6900000000000001\n",
      "0.7000000000000001\n",
      "0.71\n",
      "0.72\n",
      "0.73\n",
      "0.74\n",
      "0.75\n",
      "0.76\n",
      "0.77\n",
      "0.78\n",
      "0.79\n",
      "0.8\n",
      "0.81\n",
      "0.8200000000000001\n",
      "0.8300000000000001\n",
      "0.84\n",
      "0.85\n",
      "0.86\n",
      "0.87\n",
      "0.88\n",
      "0.89\n",
      "0.9\n",
      "0.91\n",
      "0.92\n",
      "0.93\n",
      "0.9400000000000001\n",
      "0.9500000000000001\n",
      "0.96\n",
      "0.97\n",
      "0.98\n",
      "0.99\n",
      "1.0\n"
     ]
    }
   ],
   "source": [
    "def compute_conductance(params , eta = 1e-5):\n",
    "    E = params.energy + 1j*eta\n",
    "    F_pos_0 , F_neg_0 , debug0 = calculate_transfer_matrices(0 , params)\n",
    "    F_pos_Lplusone , F_neg_Lplusone , debug_Lplusone = calculate_transfer_matrices(params.L+1 , params)\n",
    "\n",
    "    # Initial diagonal Green's function in the left-lead at slice 0:\n",
    "    H_0_tilde = h_0(0 , params) + T(0 , +1 , params)@np.linalg.inv(F_neg_0)\n",
    "    G_0 = np.linalg.inv(E*np.identity(2*params.W) - (H_0_tilde))\n",
    "\n",
    "    H_Lplusone_tilde = h_0(params.L+1 , params) + T(params.L+2 , -1 , params)@F_pos_Lplusone\n",
    "    G_Lplusone = np.linalg.inv(E*np.identity(2*params.W) - (H_Lplusone_tilde))\n",
    "\n",
    "    # Recursion:\n",
    "\n",
    "    no_steps = params.L + 2\n",
    "    diag_greensfunctions = np.zeros(shape = (2*params.W , 2*params.W , no_steps))\n",
    "    off_diag_greensfunctions = np.zeros(shape = (2*params.W , 2*params.W , no_steps))\n",
    "    # Initial condition:\n",
    "    diag_greensfunctions[: , : , 0] = G_0\n",
    "    off_diag_greensfunctions[: , : , 0] = G_0\n",
    "\n",
    "    # Storing tilde Hamiltonians in a list:\n",
    "    H_tildes = np.zeros(shape = ( H_0_tilde.shape[0] , H_0_tilde.shape[0] , no_steps))\n",
    "    H_tildes[: , : , 0] = H_0_tilde\n",
    "    H_tildes[: , : ,-1] = H_Lplusone_tilde\n",
    "    for j in range(1,params.L + 1):\n",
    "        H_tildes[: , : , j] = h_0(j , params)\n",
    "\n",
    "\n",
    "    for i in range(no_steps):\n",
    "        if i > 0:\n",
    "            diag_greensfunctions[: , : , i] = np.linalg.inv(E*np.identity(2*params.W)  - H_tildes[: , : , i] -\n",
    "                                                        T(i , +1 , params) @ diag_greensfunctions[: , : , i-1] @ T(i , -1 , params))\n",
    "            off_diag_greensfunctions[: , : , i] = diag_greensfunctions[: , : , i]@ T(i , +1 , params) @ off_diag_greensfunctions[: , : , i-1]\n",
    "\n",
    "    # U_matrices:\n",
    "    U_pos_0 = debug0['U_pos']\n",
    "    U_neg_0 = debug0['U_neg']\n",
    "    U_pos_Lplusone = debug_Lplusone['U_pos']\n",
    "    U_neg_Lplusone = debug_Lplusone['U_neg']\n",
    "     \n",
    "    ## Transmission matrix:\n",
    "    transmissionmatrix = np.linalg.inv(U_pos_Lplusone)@off_diag_greensfunctions[: , : , -1]@T(0 , +1 , params)@(np.linalg.inv(F_pos_0) - \n",
    "                                                                                                       np.linalg.inv(F_neg_0))@U_pos_0\n",
    "\n",
    "    reflectionmatrix = np.linalg.inv(U_neg_0)@(diag_greensfunctions[: , : , 0]@T(0 , +1 , params)@(np.linalg.inv(F_pos_0) - \n",
    "                                                                                                       np.linalg.inv(F_neg_0)) - np.identity(U_neg_Lplusone.shape[0]))@U_pos_0\n",
    "\n",
    "    conductance = (np.linalg.norm(transmissionmatrix))**2\n",
    "    return conductance , transmissionmatrix\n",
    "\n",
    "energy_values = np.linspace(0 , 1 , 101)\n",
    "conductance_values = np.zeros(energy_values.shape[0])\n",
    "for i in range(len(energy_values)):\n",
    "    params_new = JosephsonParameters(W = 5 , \n",
    "                             L = 10,\n",
    "                             t = 1,\n",
    "                             flux = 0,\n",
    "                             energy = energy_values[i],\n",
    "                             Delta = 0,\n",
    "                             phase = 0,\n",
    "                             mu = 0.5)\n",
    "    print(params_new.energy)\n",
    "    conductance_values[i] , transmissionmatrix= compute_conductance(params_new , eta = 0)"
   ]
  },
  {
   "cell_type": "code",
   "execution_count": 114,
   "metadata": {},
   "outputs": [
    {
     "data": {
      "text/plain": [
       "177.37779255856867"
      ]
     },
     "execution_count": 114,
     "metadata": {},
     "output_type": "execute_result"
    }
   ],
   "source": [
    "conductance_values[0]"
   ]
  },
  {
   "cell_type": "code",
   "execution_count": 116,
   "metadata": {},
   "outputs": [
    {
     "data": {
      "text/plain": [
       "[<matplotlib.lines.Line2D at 0x7fb220117070>]"
      ]
     },
     "execution_count": 116,
     "metadata": {},
     "output_type": "execute_result"
    },
    {
     "data": {
      "application/vnd.jupyter.widget-view+json": {
       "model_id": "741701c5d58e4df4a9d764f33c8254db",
       "version_major": 2,
       "version_minor": 0
      },
      "image/png": "[encoded data removed]",
      "text/html": [
       "\n",
       "            <div style=\"display: inline-block;\">\n",
       "                <div class=\"jupyter-widgets widget-label\" style=\"text-align: center;\">\n",
       "                    Figure\n",
       "                </div>\n",
       "                <img src='data:image/png;base64,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' width=640.0/>\n",
       "            </div>\n",
       "        "
      ],
      "text/plain": [
       "Canvas(toolbar=Toolbar(toolitems=[('Home', 'Reset original view', 'home', 'home'), ('Back', 'Back to previous …"
      ]
     },
     "metadata": {},
     "output_type": "display_data"
    }
   ],
   "source": [
    "plt.figure()\n",
    "plt.plot(conductance_values)"
   ]
  },
  {
   "cell_type": "code",
   "execution_count": 106,
   "metadata": {},
   "outputs": [
    {
     "data": {
      "text/plain": [
       "array([[1., 2., 5., 6.],\n",
       "       [3., 4., 7., 8.],\n",
       "       [0., 0., 0., 0.],\n",
       "       [0., 0., 0., 0.]])"
      ]
     },
     "execution_count": 106,
     "metadata": {},
     "output_type": "execute_result"
    }
   ],
   "source": [
    "T00 = np.array([[1 , 2 ],[3 , 4]])\n",
    "T01 = np.array([[5 , 6 ],[7 , 8]])\n",
    "np.block([[T00 , T01] , [np.zeros((2,2)) , np.zeros((2 , 2))] ])"
   ]
  },
  {
   "cell_type": "code",
   "execution_count": 110,
   "metadata": {},
   "outputs": [
    {
     "data": {
      "text/plain": [
       "array([1.        , 0.5       , 0.33333333, 0.25      ])"
      ]
     },
     "execution_count": 110,
     "metadata": {},
     "output_type": "execute_result"
    }
   ],
   "source": [
    "1/np.sqrt(np.array([1 , 4 , 9 , 16]))"
   ]
  },
  {
   "cell_type": "code",
   "execution_count": null,
   "metadata": {},
   "outputs": [],
   "source": []
  }
 ],
 "metadata": {
  "kernelspec": {
   "display_name": "base",
   "language": "python",
   "name": "python3"
  },
  "language_info": {
   "codemirror_mode": {
    "name": "ipython",
    "version": 3
   },
   "file_extension": ".py",
   "mimetype": "text/x-python",
   "name": "python",
   "nbconvert_exporter": "python",
   "pygments_lexer": "ipython3",
   "version": "3.8.13"
  },
  "orig_nbformat": 4
 },
 "nbformat": 4,
 "nbformat_minor": 2
}
