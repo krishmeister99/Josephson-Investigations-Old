{
 "cells": [
  {
   "cell_type": "code",
   "execution_count": 2,
   "metadata": {},
   "outputs": [
    {
     "name": "stderr",
     "output_type": "stream",
     "text": [
      "/Users/krishnanganesh/anaconda3/lib/python3.8/site-packages/kwant/solvers/default.py:16: RuntimeWarning: MUMPS is not available, SciPy built-in solver will be used as a fallback. Performance can be very poor in this case.\n",
      "  warnings.warn(\"MUMPS is not available, \"\n"
     ]
    }
   ],
   "source": [
    "%load_ext autoreload\n",
    "\n",
    "import kwant\n",
    "import numpy as np\n",
    "import matplotlib.pyplot as plt \n",
    "import kwant.continuum\n",
    "import scipy.sparse.linalg as sla\n",
    "import tinyarray as tiny\n",
    "import matplotlib as mpl\n",
    "import warnings\n",
    "warnings.filterwarnings(\"ignore\", category=np.VisibleDeprecationWarning) \n",
    "warnings.filterwarnings(\"ignore\", category=RuntimeWarning) \n",
    "\n",
    "%matplotlib widget\n",
    "mpl.rcParams.update({'font.size': 20, 'text.usetex': True,  'font.family': 'serif', 'font.serif': ['Computer Modern']})\n",
    "\n",
    "sx = tiny.array([[0 , 1] , [1 , 0]])\n",
    "sy = tiny.array([[0 , -1j] , [1j , 0]])\n",
    "sz = tiny.array([[1 , 0] , [0 , -1]])\n",
    "\n",
    "\n",
    "I = tiny.array([[1 , 0] , [0 , 1]])\n",
    "t_plus = 0.5*(np.kron(sx , I) + 1j*np.kron(sy , I))\n",
    "t_minus = t_plus.T\n",
    "phs = np.kron(sy , sy)"
   ]
  },
  {
   "attachments": {},
   "cell_type": "markdown",
   "metadata": {},
   "source": [
    "The recursive Green's function method relies on these two equations:\n",
    "$$ \\check{G}^{L}_{j} = \\left[ i\\omega_{p} \\check{1} - \\check{H}^{0}_{j} - \\check{T}^{+}_{j}\\check{G}^{L}_{j-1} \\check{T}^{-}_{j} \\right]^{-1} $$\n",
    "starting at $j = j_{L}$, which is some slice in the left lead,\n",
    "$$ \\check{G}^{R}_{j} = \\left[ i\\omega_{p} \\check{1} - \\check{H}^{0}_{j} - \\check{T}^{-}_{j+1}\\check{G}^{R}_{j+1} \\check{T}^{+}_{j + 1} \\right]^{-1} $$\n",
    "starting at $j = j_{R}$ which is some slice in the right lead,\n",
    "and finally:\n",
    "$$\\check{G}_{\\omega_{p}}(j , j) = \\left[ i\\omega_{p} \\check{1} -  \\check{H}^{0}_{j} - \\check{T}^{-}_{j+1}\\check{G}^{R}_{j+1} \\check{T}^{+}_{j + 1}  - \\check{T}^{+}_{j}\\check{G}^{L}_{j-1} \\check{T}^{-}_{j} \\right] $$\n",
    "An upside down hat means its a $(2W \\times 2W)$ matrix. $\\check{T}^{+}_{j}$ is the matrix that shifts you to the right from site $j$, whilst $\\check{T}^{-}_{j}$ shifts you to the left from site $j$. Also $\\check{G}^{L/R}_{j} = \\check{G}_{\\omega_{P}}(j , j)$ which is the Green's function of the system in which all alttice site $j'\\geq j+1$ and $j' \\leq j - 1$ are deleted.\n",
    "These means we will first have to evaluate $\\check{G}^{L}_{j_{L}-1}$ and $\\check{G}^{R}_{j_{R} + 1}$, which this paper tells me how to do numerically: https://journals.aps.org/prb/pdf/10.1103/PhysRevB.44.8017. Probably best to evaluate this numerically since these Green's functions are only analytically soluble in the simplest of cases (i.e. s-wave disorderless superconductors).\n"
   ]
  },
  {
   "attachments": {},
   "cell_type": "markdown",
   "metadata": {},
   "source": [
    "From the Ando paper I learned that I should first calculate all modes in the ideal superconducting leads. This should give me a matrix of eigenvectors $U(\\pm)$ (where $+$ corresponds to right moving and $-$ corresponds to left-moving) and a diagonal matrix of eigenvalues $\\Lambda(\\pm)$. We can determine whether they are rightr movers or left movers by studying $arg(\\Lambda_{ii})$. The important matrix to calculate is:\n",
    "$$ F(-) = U(-)\\Lambda(-)U^{-1}(-)$$ "
   ]
  },
  {
   "attachments": {},
   "cell_type": "markdown",
   "metadata": {},
   "source": [
    "To compute all the modes in the lead, I need to solve the following eigenvalue problem:\n",
    "$$ \\underbrace{\\begin{pmatrix} - [\\check{T}^{-}]^{-1}(\\check{H}^{j}_0 - E) & -[\\check{T}^{-}]^{-1}\\check{T}^{+} \\\\ \\check{1} & \\check{0} \\end{pmatrix}}_{\\mathbb{M}}\\begin{pmatrix}\\vec{c}_{j} \\\\ \\vec{c}_{j-1} \\end{pmatrix} = \\lambda \\begin{pmatrix}\\vec{c}_{j} \\\\ \\vec{c}_{j-1} \\end{pmatrix} $$\n",
    "where $\\check{H}^{j}_{0}$ is the onsite Hamiltonian of slice $j$ and $\\vec{c}_{j}$ is the vector of amplitudes on slice $j$. The argument of $\\lambda$ will give the direction of current between slice $j -1$ and slice $j$."
   ]
  },
  {
   "cell_type": "code",
   "execution_count": 3,
   "metadata": {},
   "outputs": [],
   "source": [
    "from dataclasses import dataclass\n",
    "from RGFtools import *\n",
    "@dataclass\n",
    "class JosephsonParameters:\n",
    "    W : int\n",
    "    L : int\n",
    "    t: float\n",
    "    flux : float\n",
    "    energy: float\n",
    "    Delta: float\n",
    "    phase: float\n",
    "    mu: float\n",
    "    tol: float\n",
    "\n",
    "# params = JosephsonParameters(W = 10 , \n",
    "#                              L = 10,\n",
    "#                              t = 1,\n",
    "#                              flux = 0,\n",
    "#                              energy = 0.0,\n",
    "#                              Delta = 0,\n",
    "#                              phase = 0,\n",
    "#                              mu = 0.5)\n",
    "    "
   ]
  },
  {
   "cell_type": "code",
   "execution_count": 11,
   "metadata": {},
   "outputs": [],
   "source": [
    "def compute_greens_functions(params):\n",
    "    F_pos_0 , F_neg_0 , debug0 = calculate_transfer_matrices(0 , params)\n",
    "    F_pos_Lplusone , F_neg_Lplusone , debug_Lplusone = calculate_transfer_matrices(params.L+1 , params)\n",
    "\n",
    "    # Initial diagonal Green's function in the left-lead at slice 0:\n",
    "    H_0_tilde = h_0(0 , params) + T(0 , +1 , params)@np.linalg.inv(F_neg_0)\n",
    "    G_0 = np.linalg.inv(params.energy*np.identity(2*params.W) - (H_0_tilde))\n",
    "\n",
    "    H_Lplusone_tilde = h_0(params.L+1 , params) + T(params.L+2 , -1 , params)@F_pos_Lplusone\n",
    "    G_Lplusone = np.linalg.inv(params.energy*np.identity(2*params.W) - (H_Lplusone_tilde))\n",
    "\n",
    "    # Recursion:\n",
    "\n",
    "    no_steps = params.L + 2\n",
    "    diag_greensfunctions = np.zeros(shape = (2*params.W , 2*params.W , no_steps))\n",
    "    off_diag_greensfunctions = np.zeros(shape = (2*params.W , 2*params.W , no_steps))\n",
    "    # Initial condition:\n",
    "    diag_greensfunctions[: , : , 0] = G_0\n",
    "    off_diag_greensfunctions[: , : , 0] = G_0\n",
    "    print(np.abs(np.linalg.det(G_0)))\n",
    "    # Storing tilde Hamiltonians in a list:\n",
    "    H_tildes = np.zeros(shape = ( H_0_tilde.shape[0] , H_0_tilde.shape[0] , no_steps))\n",
    "    H_tildes[: , : , 0] = H_0_tilde\n",
    "    H_tildes[: , : ,-1] = H_Lplusone_tilde\n",
    "    for j in range(1,params.L + 1):\n",
    "        H_tildes[: , : , j] = h_0(j , params)\n",
    "\n",
    "\n",
    "    for i in range(no_steps):\n",
    "        if i > 0:\n",
    "            diag_greensfunctions[: , : , i] = np.linalg.inv(params.energy*np.identity(2*params.W)  - H_tildes[: , : , i] -\n",
    "                                                        T(i , +1 , params) @ diag_greensfunctions[: , : , i-1] @ T(i , -1 , params))\n",
    "            off_diag_greensfunctions[: , : , i] = diag_greensfunctions[: , : , i]@ T(i , +1 , params) @ off_diag_greensfunctions[: , : , i-1]\n",
    "\n",
    "    # ## Transmission matrix:\n",
    "    # U_pos_0 = debug0['U_pos']\n",
    "    # U_neg_0 = debug0['U_neg']\n",
    "    # U_pos_Lplusone = debug_Lplusone['U_pos']\n",
    "    # U_neg_Lplusone = debug_Lplusone['U_neg']\n",
    "    # transmissionmatrix = np.linalg.pinv(U_pos_0)@off_diag_greensfunctions[: , : , -1]@T(0 , +1 , params)@(np.linalg.inv(F_pos_0) - \n",
    "    #                                                                                                    np.linalg.inv(F_neg_0))@U_pos_0\n",
    "\n",
    "    # reflectionmatrix = np.linalg.pinv(U_neg_0)@(diag_greensfunctions[: , : , 0]@T(0 , +1 , params)@(np.linalg.inv(F_pos_0) - \n",
    "    #                                                                                                    np.linalg.inv(F_neg_0)) - np.identity(U_neg_Lplusone.shape[0]))@U_pos_0\n",
    "\n",
    "    # conductance = (np.linalg.norm(transmissionmatrix))**2\n",
    "    return diag_greensfunctions , off_diag_greensfunctions, F_pos_0 , F_neg_0 , F_pos_Lplusone , F_neg_Lplusone\n",
    "\n",
    "# energy_values = np.linspace(0 , 0.5 , 101)\n",
    "# conductance_values = np.zeros(energy_values.shape[0])\n",
    "# for i in range(len(energy_values)):\n",
    "#     params_new = JosephsonParameters(W = 10 , \n",
    "#                              L = 10,\n",
    "#                              t = 1,\n",
    "#                              flux = 0,\n",
    "#                              energy = energy_values[i],\n",
    "#                              Delta = 0,\n",
    "#                              phase = 0,\n",
    "#                              mu = 0.0,\n",
    "#                              tol = 1e-4)\n",
    "#     conductance_values[i] , transmissionmatrix= compute_conductance(params_new , eta = 1e-5)"
   ]
  },
  {
   "attachments": {},
   "cell_type": "markdown",
   "metadata": {},
   "source": [
    "Simpler tests involving computing the outgoing mode for different incoming eigenvectors:\n"
   ]
  },
  {
   "cell_type": "code",
   "execution_count": 12,
   "metadata": {},
   "outputs": [
    {
     "name": "stdout",
     "output_type": "stream",
     "text": [
      "(20, 4)\n",
      "(20, 4)\n",
      "8.650974509339729e-271\n"
     ]
    },
    {
     "data": {
      "text/plain": [
       "(20, 20)"
      ]
     },
     "execution_count": 12,
     "metadata": {},
     "output_type": "execute_result"
    }
   ],
   "source": [
    "parameters = JosephsonParameters(W = 10 , \n",
    "                             L = 10,\n",
    "                             t = 1,\n",
    "                             flux = 0,\n",
    "                             energy = 1 + 1j*1e-6,\n",
    "                             Delta = 0,\n",
    "                             phase = 0,\n",
    "                             mu = 0.5,\n",
    "                             tol = 1e-4)\n",
    "\n",
    "diag_greensfunctions , off_diag_greensfunctions, F_pos_0 , F_neg_0 , F_pos_Lplusone , F_neg_Lplusone = compute_greens_functions(parameters)\n",
    "\n",
    "# Matrix for computing outgoing amplitude\n",
    "matrix =  off_diag_greensfunctions[: , : , -1]@T(0 , +1 , parameters)@(np.linalg.inv(F_pos_0) - np.linalg.inv(F_neg_0))\n",
    "\n",
    "matrix.shape"
   ]
  },
  {
   "cell_type": "code",
   "execution_count": 43,
   "metadata": {},
   "outputs": [
    {
     "data": {
      "text/plain": [
       "<matplotlib.colorbar.Colorbar at 0x7fb8a04750d0>"
      ]
     },
     "execution_count": 43,
     "metadata": {},
     "output_type": "execute_result"
    },
    {
     "data": {
      "application/vnd.jupyter.widget-view+json": {
       "model_id": "a7cc064462c243e28280f95af75e7dde",
       "version_major": 2,
       "version_minor": 0
      },
      "image/png": "[encoded data removed]",
      "text/html": [
       "\n",
       "            <div style=\"display: inline-block;\">\n",
       "                <div class=\"jupyter-widgets widget-label\" style=\"text-align: center;\">\n",
       "                    Figure\n",
       "                </div>\n",
       "                <img src='data:image/png;base64,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' width=640.0/>\n",
       "            </div>\n",
       "        "
      ],
      "text/plain": [
       "Canvas(toolbar=Toolbar(toolitems=[('Home', 'Reset original view', 'home', 'home'), ('Back', 'Back to previous …"
      ]
     },
     "metadata": {},
     "output_type": "display_data"
    }
   ],
   "source": [
    "plt.figure()\n",
    "plt.imshow(np.abs(matrix))\n",
    "plt.colorbar()"
   ]
  },
  {
   "cell_type": "code",
   "execution_count": null,
   "metadata": {},
   "outputs": [],
   "source": [
    "incoming = np.zeros(matrix.shape[0])\n",
    "incoming[0] = 1\n",
    "\n",
    "outgoing = matrix @ incoming "
   ]
  }
 ],
 "metadata": {
  "kernelspec": {
   "display_name": "base",
   "language": "python",
   "name": "python3"
  },
  "language_info": {
   "codemirror_mode": {
    "name": "ipython",
    "version": 3
   },
   "file_extension": ".py",
   "mimetype": "text/x-python",
   "name": "python",
   "nbconvert_exporter": "python",
   "pygments_lexer": "ipython3",
   "version": "3.8.13"
  },
  "orig_nbformat": 4
 },
 "nbformat": 4,
 "nbformat_minor": 2
}
