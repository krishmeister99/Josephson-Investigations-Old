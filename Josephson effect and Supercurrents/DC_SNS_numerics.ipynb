{
 "cells": [
  {
   "cell_type": "code",
   "execution_count": 201,
   "metadata": {},
   "outputs": [],
   "source": [
    "%load_ext autoreload\n",
    "%autoreload 2\n",
    "\n",
    "import kwant\n",
    "import numpy as np\n",
    "import matplotlib.pyplot as plt \n",
    "import kwant.continuum\n",
    "import scipy.sparse.linalg as sla\n",
    "import tinyarray as tiny\n",
    "import matplotlib as mpl\n",
    "import warnings\n",
    "warnings.filterwarnings(\"ignore\", category=np.VisibleDeprecationWarning) \n",
    "warnings.filterwarnings(\"ignore\", category=RuntimeWarning) \n",
    "\n",
    "%matplotlib widget\n",
    "mpl.rcParams.update({'font.size': 20, 'text.usetex': True,  'font.family': 'serif', 'font.serif': ['Computer Modern']})\n",
    "\n",
    "sx = tiny.array([[0 , 1] , [1 , 0]])\n",
    "sy = tiny.array([[0 , -1j] , [1j , 0]])\n",
    "sz = tiny.array([[1 , 0] , [0 , -1]])\n",
    "\n",
    "\n",
    "I = tiny.array([[1 , 0] , [0 , 1]])\n",
    "t_plus = 0.5*(np.kron(sx , I) + 1j*np.kron(sy , I))\n",
    "t_minus = t_plus.T\n",
    "phs = np.kron(sy , sy)"
   ]
  },
  {
   "attachments": {},
   "cell_type": "markdown",
   "metadata": {},
   "source": [
    "The recursive Green's function method relies on these two equations:\n",
    "$$ \\check{G}^{L}_{j} = \\left[ i\\omega_{p} \\check{1} - \\check{H}^{0}_{j} - \\check{T}^{+}_{j}\\check{G}^{L}_{j-1} \\check{T}^{-}_{j} \\right]^{-1} $$\n",
    "starting at $j = j_{L}$, which is some slice in the left lead,\n",
    "$$ \\check{G}^{R}_{j} = \\left[ i\\omega_{p} \\check{1} - \\check{H}^{0}_{j} - \\check{T}^{-}_{j+1}\\check{G}^{R}_{j+1} \\check{T}^{+}_{j + 1} \\right]^{-1} $$\n",
    "starting at $j = j_{R}$ which is some slice in the right lead,\n",
    "and finally:\n",
    "$$\\check{G}_{\\omega_{p}}(j , j) = \\left[ i\\omega_{p} \\check{1} -  \\check{H}^{0}_{j} - \\check{T}^{-}_{j+1}\\check{G}^{R}_{j+1} \\check{T}^{+}_{j + 1}  - \\check{T}^{+}_{j}\\check{G}^{L}_{j-1} \\check{T}^{-}_{j} \\right] $$\n",
    "An upside down hat means its a $(2W \\times 2W)$ matrix. $\\check{T}^{+}_{j}$ is the matrix that shifts you to the right from site $j$, whilst $\\check{T}^{-}_{j}$ shifts you to the left from site $j$. Also $\\check{G}^{L/R}_{j} = \\check{G}_{\\omega_{P}}(j , j)$ which is the Green's function of the system in which all alttice site $j'\\geq j+1$ and $j' \\leq j - 1$ are deleted.\n",
    "These means we will first have to evaluate $\\check{G}^{L}_{j_{L}-1}$ and $\\check{G}^{R}_{j_{R} + 1}$, which this paper tells me how to do numerically: https://journals.aps.org/prb/pdf/10.1103/PhysRevB.44.8017. Probably best to evaluate this numerically since these Green's functions are only analytically soluble in the simplest of cases (i.e. s-wave disorderless superconductors).\n"
   ]
  },
  {
   "attachments": {},
   "cell_type": "markdown",
   "metadata": {},
   "source": [
    "From the Ando paper I learned that I should first calculate all modes in the ideal superconducting leads. This should give me a matrix of eigenvectors $U(\\pm)$ (where $+$ corresponds to right moving and $-$ corresponds to left-moving) and a diagonal matrix of eigenvalues $\\Lambda(\\pm)$. We can determine whether they are rightr movers or left movers by studying $arg(\\Lambda_{ii})$. The important matrix to calculate is:\n",
    "$$ F(-) = U(-)\\Lambda(-)U^{-1}(-)$$ "
   ]
  },
  {
   "attachments": {},
   "cell_type": "markdown",
   "metadata": {},
   "source": [
    "To compute all the modes in the lead, I need to solve the following eigenvalue problem:\n",
    "$$ \\underbrace{\\begin{pmatrix} - [\\check{T}^{-}]^{-1}(\\check{H}^{j}_0 - E) & -[\\check{T}^{-}]^{-1}\\check{T}^{+} \\\\ \\check{1} & \\check{0} \\end{pmatrix}}_{\\mathbb{M}}\\begin{pmatrix}\\vec{c}_{j} \\\\ \\vec{c}_{j-1} \\end{pmatrix} = \\lambda \\begin{pmatrix}\\vec{c}_{j} \\\\ \\vec{c}_{j-1} \\end{pmatrix} $$\n",
    "where $\\check{H}^{j}_{0}$ is the onsite Hamiltonian of slice $j$ and $\\vec{c}_{j}$ is the vector of amplitudes on slice $j$. The argument of $\\lambda$ will give the direction of current between slice $j -1$ and slice $j$."
   ]
  },
  {
   "cell_type": "code",
   "execution_count": 208,
   "metadata": {},
   "outputs": [],
   "source": [
    "from dataclasses import dataclass\n",
    "from RGFtools import *\n",
    "\n",
    "@dataclass\n",
    "class JosephsonParameters:\n",
    "    W: float\n",
    "    L: float\n",
    "    t: float\n",
    "    mu: float\n",
    "    Delta: float\n",
    "    phase: float\n",
    "    flux: float\n",
    "    T: float\n",
    "    n: int\n",
    "\n",
    "params = JosephsonParameters(W=10, L=10, t=1, mu=0.5, Delta=2, phase=0.0*2*np.pi, flux=0, T=1, n=10)\n"
   ]
  },
  {
   "cell_type": "code",
   "execution_count": 209,
   "metadata": {},
   "outputs": [
    {
     "name": "stdout",
     "output_type": "stream",
     "text": [
      "(-2.2729818027755755e-11+1.8676615809454233e-11j)\n"
     ]
    }
   ],
   "source": [
    "E = 1j*np.pi*(2*(params.n) + 1)*params.T\n",
    "\n",
    "F_pos_0 , F_neg_0 = calculate_transfer_matrices(0 , params)\n",
    "F_pos_Lplusone , F_neg_Lplusone = calculate_transfer_matrices(params.L+1 , params)\n",
    "\n",
    "# Initial diagonal Green's function in the left-lead at slice 0:\n",
    "H_0_tilde = h_0(slice , params) - T(slice , -1 , params)@np.linalg.inv(F_neg_0)\n",
    "G_0 = np.linalg.inv(E - (H_0_tilde))\n",
    "\n",
    "H_Lplusone_tilde = h_0(params.L+1 , params) - T(params.L+2 , -1 , params)@F_pos_Lplusone\n",
    "G_Lplusone = np.linalg.inv(E - (H_Lplusone_tilde))\n",
    "\n",
    "# RECURSION:          \n",
    "recursion_length = params.L\n",
    "left_recursion_gfs = np.zeros(shape = (2*params.W , 2*params.W , params.L))\n",
    "left_recursion_gfs[: , : , 0] = G_0\n",
    "for i in range(recursion_length):\n",
    "    if i > 0:\n",
    "        left_recursion_gfs[: , : , i] = np.linalg.inv(E - h_0(i , params) - T(i , +1 , params)@ left_recursion_gfs[: , : , i-1] @T(i , -1 , params))\n",
    "\n",
    "right_recursion_gfs = np.zeros(shape = (2*params.W , 2*params.W , params.L))\n",
    "right_recursion_gfs[: , : , 0] = G_Lplusone\n",
    "for i in range(params.L):\n",
    "    if i > 0:\n",
    "        right_recursion_gfs[: , : , i] = np.linalg.inv(E - h_0(i-1 , params) - T(i , -1 , params)@ right_recursion_gfs[: , : , i] @T(i , +1 , params))\n",
    "\n",
    "\n",
    "# Evaluate Green function at coordinate eval_point:\n",
    "eval_point = 5\n",
    "\n",
    "G_evalpoint = np.linalg.inv(E - h_0(eval_point , params) - T(eval_point , +1 , params)@ left_recursion_gfs[: , : , eval_point-1] @ T(eval_point , -1  , params) -\n",
    "                            - T(eval_point + 1 , -1 , params) @ right_recursion_gfs[: , : , eval_point + 1] @ T(eval_point + 1 , +1 , params))\n",
    "\n",
    "# Off diagonal green's functions:\n",
    "G_plusx = right_recursion_gfs[: , : , eval_point + 1]@T(eval_point + 1 , +1 , params)@G_evalpoint\n",
    "G_minusx = G_evalpoint@T(eval_point + 1 , -1 , params)@right_recursion_gfs[: , : , eval_point + 1 ]\n",
    "\n",
    "# Contribution to current:\n",
    "I_n = np.trace(G_plusx - G_minusx)\n",
    "print(I_n)"
   ]
  },
  {
   "cell_type": "code",
   "execution_count": 172,
   "metadata": {},
   "outputs": [],
   "source": [
    "# slice = 0\n",
    "# M00 = np.linalg.inv(T(slice + 1 , -1))@(E -  h_0(slice)) # <- Calculating the Hamiltonian at slice j = 0 , which is in the left lead.\n",
    "# M01 = -np.linalg.inv(T(slice + 1 , -1))@T(slice , +1)\n",
    "# M10 = np.identity(2*W)\n",
    "# M11 = np.zeros(shape = (2*W , 2*W))\n",
    "\n",
    "\n",
    "# M = np.block([[M00 , M01],[M10 , M11]]) #<- Matrix to diagonalise for propagating modes in lead\n",
    "# evals , evecs = np.linalg.eig(M)\n",
    "\n",
    "\n",
    "# pos_prop , neg_prop , pos_evanesce , neg_evanesce , list_of_eigenvalues = sorting_modes(evals , evecs  , tol = 1e-4)\n",
    "\n",
    "\n",
    "# # First I am going to glue together all modes that evanesce/propagate in the positive x-direction:\n",
    "# pos_modes = np.hstack((pos_prop , pos_evanesce))\n",
    "# neg_modes = np.hstack((neg_prop , neg_evanesce))\n",
    "\n",
    "# # The U(\\pm)-matrices consisten of amplitudes on the j = 0 slice. So we take only the first half rows:\n",
    "# U_pos = pos_modes[0:int(pos_modes.shape[0]/2) , :]\n",
    "# U_neg = neg_modes[0:int(neg_modes.shape[0]/2) , :]\n",
    "\n",
    "# # The \\Lambda(\\pm) matrix comprises of all the corresponding eigenvalues:\n",
    "# Lambda_pos = np.diag(np.hstack((list_of_eigenvalues[0] ,list_of_eigenvalues[2])))\n",
    "# Lambda_neg = np.diag(np.hstack((list_of_eigenvalues[1] , list_of_eigenvalues[3])))\n",
    "\n",
    "# # Construct the F(\\pm) transfer matrices:\n",
    "# F_pos = U_pos @ Lambda_pos @ np.linalg.inv(U_pos)\n",
    "# F_neg = U_neg @ Lambda_neg @ np.linalg.inv(U_neg)\n",
    "\n",
    "\n",
    "    \n",
    "# def T(matrix_element):\n",
    "#     '''\n",
    "#     Constructs hopping Hamiltonian between neghbouring slices (this is hopping in the x-direction).\n",
    "\n",
    "#     Inputs:\n",
    "#     matrix_element: tuple of slice indices (j , J) to construct the hopping that goes from site J -> j\n",
    "#     pm: Signs of Peierl phases.\n",
    "\n",
    "#     Returns:\n",
    "#     T_jJ : ndarray, hopping matrix Hamiltonian.\n",
    "#     '''\n",
    "#     j , J = matrix_element[0] , matrix_element[1]\n",
    "\n",
    "#     # Calculate if j < J in the lattice:\n",
    "#     sign= np.sign(j - J)\n",
    "#     index = int(0.5*(1 + sign)) #<- If j > J, then the all the conditionals below must depend on the position of the J coordinate.\n",
    "#     if matrix_element[index] <= -1 or  matrix_element[index] >= (L+1):\n",
    "#         return np.kron(np.identity(W) , -t*sz)\n",
    "    \n",
    "#     if matrix_element[index]>=0 and matrix_element[index] <= L:\n",
    "#         peierls_e = -sign*(B/2)*np.arange(W) # array of peierl phases for electrons\n",
    "#         peierls_h = -peierls_e # array of peierl phases for holes.\n",
    "#         peierls_interweaved = np.exp(1j*np.vstack((peierls_e , peierls_h)).reshape((-1 , ) , order = 'F')) #<- talking elementwise exponential.\n",
    "#         peierls_bdg = np.diag(peierls_interweaved) # Peierls phases as the appear in the BdG matrix\n",
    "#         return np.kron(np.identity(W) , -t*sz)@peierls_bdg"
   ]
  },
  {
   "cell_type": "code",
   "execution_count": null,
   "metadata": {},
   "outputs": [],
   "source": []
  }
 ],
 "metadata": {
  "kernelspec": {
   "display_name": "base",
   "language": "python",
   "name": "python3"
  },
  "language_info": {
   "codemirror_mode": {
    "name": "ipython",
    "version": 3
   },
   "file_extension": ".py",
   "mimetype": "text/x-python",
   "name": "python",
   "nbconvert_exporter": "python",
   "pygments_lexer": "ipython3",
   "version": "3.8.13"
  },
  "orig_nbformat": 4
 },
 "nbformat": 4,
 "nbformat_minor": 2
}
