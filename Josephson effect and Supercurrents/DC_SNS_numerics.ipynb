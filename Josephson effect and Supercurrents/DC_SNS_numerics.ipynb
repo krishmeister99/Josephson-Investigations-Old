{
 "cells": [
  {
   "cell_type": "code",
   "execution_count": 1,
   "metadata": {},
   "outputs": [
    {
     "name": "stderr",
     "output_type": "stream",
     "text": [
      "/Users/krishnanganesh/anaconda3/lib/python3.8/site-packages/kwant/solvers/default.py:16: RuntimeWarning: MUMPS is not available, SciPy built-in solver will be used as a fallback. Performance can be very poor in this case.\n",
      "  warnings.warn(\"MUMPS is not available, \"\n"
     ]
    }
   ],
   "source": [
    "%load_ext autoreload\n",
    "\n",
    "import kwant\n",
    "import numpy as np\n",
    "import matplotlib.pyplot as plt \n",
    "import kwant.continuum\n",
    "import scipy.sparse.linalg as sla\n",
    "import tinyarray as tiny\n",
    "import matplotlib as mpl\n",
    "import warnings\n",
    "warnings.filterwarnings(\"ignore\", category=np.VisibleDeprecationWarning) \n",
    "warnings.filterwarnings(\"ignore\", category=RuntimeWarning) \n",
    "\n",
    "%matplotlib widget\n",
    "mpl.rcParams.update({'font.size': 20, 'text.usetex': True,  'font.family': 'serif', 'font.serif': ['Computer Modern']})\n",
    "\n",
    "sx = tiny.array([[0 , 1] , [1 , 0]])\n",
    "sy = tiny.array([[0 , -1j] , [1j , 0]])\n",
    "sz = tiny.array([[1 , 0] , [0 , -1]])\n",
    "\n",
    "\n",
    "I = tiny.array([[1 , 0] , [0 , 1]])\n",
    "t_plus = 0.5*(np.kron(sx , I) + 1j*np.kron(sy , I))\n",
    "t_minus = t_plus.T\n",
    "phs = np.kron(sy , sy)"
   ]
  },
  {
   "attachments": {},
   "cell_type": "markdown",
   "metadata": {},
   "source": [
    "The recursive Green's function method relies on these two equations:\n",
    "$$ \\check{G}^{L}_{j} = \\left[ i\\omega_{p} \\check{1} - \\check{H}^{0}_{j} - \\check{T}^{+}_{j}\\check{G}^{L}_{j-1} \\check{T}^{-}_{j} \\right]^{-1} $$\n",
    "starting at $j = j_{L}$, which is some slice in the left lead,\n",
    "$$ \\check{G}^{R}_{j} = \\left[ i\\omega_{p} \\check{1} - \\check{H}^{0}_{j} - \\check{T}^{-}_{j+1}\\check{G}^{R}_{j+1} \\check{T}^{+}_{j + 1} \\right]^{-1} $$\n",
    "starting at $j = j_{R}$ which is some slice in the right lead,\n",
    "and finally:\n",
    "$$\\check{G}_{\\omega_{p}}(j , j) = \\left[ i\\omega_{p} \\check{1} -  \\check{H}^{0}_{j} - \\check{T}^{-}_{j+1}\\check{G}^{R}_{j+1} \\check{T}^{+}_{j + 1}  - \\check{T}^{+}_{j}\\check{G}^{L}_{j-1} \\check{T}^{-}_{j} \\right] $$\n",
    "An upside down hat means its a $(2W \\times 2W)$ matrix. $\\check{T}^{+}_{j}$ is the matrix that shifts you to the right from site $j$, whilst $\\check{T}^{-}_{j}$ shifts you to the left from site $j$. Also $\\check{G}^{L/R}_{j} = \\check{G}_{\\omega_{P}}(j , j)$ which is the Green's function of the system in which all alttice site $j'\\geq j+1$ and $j' \\leq j - 1$ are deleted.\n",
    "These means we will first have to evaluate $\\check{G}^{L}_{j_{L}-1}$ and $\\check{G}^{R}_{j_{R} + 1}$, which this paper tells me how to do numerically: https://journals.aps.org/prb/pdf/10.1103/PhysRevB.44.8017. Probably best to evaluate this numerically since these Green's functions are only analytically soluble in the simplest of cases (i.e. s-wave disorderless superconductors).\n"
   ]
  },
  {
   "attachments": {},
   "cell_type": "markdown",
   "metadata": {},
   "source": [
    "From the Ando paper I learned that I should first calculate all modes in the ideal superconducting leads. This should give me a matrix of eigenvectors $U(\\pm)$ (where $+$ corresponds to right moving and $-$ corresponds to left-moving) and a diagonal matrix of eigenvalues $\\Lambda(\\pm)$. We can determine whether they are rightr movers or left movers by studying $arg(\\Lambda_{ii})$. The important matrix to calculate is:\n",
    "$$ F(-) = U(-)\\Lambda(-)U^{-1}(-)$$ "
   ]
  },
  {
   "attachments": {},
   "cell_type": "markdown",
   "metadata": {},
   "source": [
    "To compute all the modes in the lead, I need to solve the following eigenvalue problem:\n",
    "$$ \\underbrace{\\begin{pmatrix} - [\\check{T}^{-}]^{-1}(\\check{H}^{j}_0 - E) & -[\\check{T}^{-}]^{-1}\\check{T}^{+} \\\\ \\check{1} & \\check{0} \\end{pmatrix}}_{\\mathbb{M}}\\begin{pmatrix}\\vec{c}_{j} \\\\ \\vec{c}_{j-1} \\end{pmatrix} = \\lambda \\begin{pmatrix}\\vec{c}_{j} \\\\ \\vec{c}_{j-1} \\end{pmatrix} $$\n",
    "where $\\check{H}^{j}_{0}$ is the onsite Hamiltonian of slice $j$ and $\\vec{c}_{j}$ is the vector of amplitudes on slice $j$. The argument of $\\lambda$ will give the direction of current between slice $j -1$ and slice $j$."
   ]
  },
  {
   "cell_type": "code",
   "execution_count": 2,
   "metadata": {},
   "outputs": [],
   "source": [
    "from dataclasses import dataclass\n",
    "from RGFtools import *\n",
    "@dataclass\n",
    "class JosephsonParameters:\n",
    "    W : int\n",
    "    L : int\n",
    "    t: float\n",
    "    flux : float\n",
    "    energy: float\n",
    "    Delta: float\n",
    "    phase: float\n",
    "    mu: float\n",
    "\n",
    "# params = JosephsonParameters(W = 10 , \n",
    "#                              L = 10,\n",
    "#                              t = 1,\n",
    "#                              flux = 0,\n",
    "#                              energy = 0.0,\n",
    "#                              Delta = 0,\n",
    "#                              phase = 0,\n",
    "#                              mu = 0.5)\n",
    "    "
   ]
  },
  {
   "cell_type": "code",
   "execution_count": 8,
   "metadata": {},
   "outputs": [
    {
     "name": "stdout",
     "output_type": "stream",
     "text": [
      "0.0\n",
      "0.01\n",
      "0.02\n",
      "0.03\n",
      "0.04\n",
      "0.05\n",
      "0.06\n",
      "0.07\n",
      "0.08\n",
      "0.09\n",
      "0.1\n",
      "0.11\n",
      "0.12\n",
      "0.13\n",
      "0.14\n",
      "0.15\n",
      "0.16\n",
      "0.17\n",
      "0.18\n",
      "0.19\n",
      "0.2\n",
      "0.21\n",
      "0.22\n",
      "0.23\n",
      "0.24\n",
      "0.25\n",
      "0.26\n",
      "0.27\n",
      "0.28\n",
      "0.29\n",
      "0.3\n",
      "0.31\n",
      "0.32\n",
      "0.33\n",
      "0.34\n",
      "0.35000000000000003\n",
      "0.36\n",
      "0.37\n",
      "0.38\n",
      "0.39\n",
      "0.4\n",
      "0.41000000000000003\n",
      "0.42\n",
      "0.43\n",
      "0.44\n",
      "0.45\n",
      "0.46\n",
      "0.47000000000000003\n",
      "0.48\n",
      "0.49\n",
      "0.5\n",
      "0.51\n",
      "0.52\n",
      "0.53\n",
      "0.54\n",
      "0.55\n",
      "0.56\n",
      "0.5700000000000001\n",
      "0.58\n",
      "0.59\n",
      "0.6\n",
      "0.61\n",
      "0.62\n",
      "0.63\n",
      "0.64\n",
      "0.65\n",
      "0.66\n",
      "0.67\n",
      "0.68\n",
      "0.6900000000000001\n",
      "0.7000000000000001\n",
      "0.71\n",
      "0.72\n",
      "0.73\n",
      "0.74\n",
      "0.75\n",
      "0.76\n",
      "0.77\n",
      "0.78\n",
      "0.79\n",
      "0.8\n",
      "0.81\n",
      "0.8200000000000001\n",
      "0.8300000000000001\n",
      "0.84\n",
      "0.85\n",
      "0.86\n",
      "0.87\n",
      "0.88\n",
      "0.89\n",
      "0.9\n",
      "0.91\n",
      "0.92\n",
      "0.93\n",
      "0.9400000000000001\n",
      "0.9500000000000001\n",
      "0.96\n",
      "0.97\n",
      "0.98\n",
      "0.99\n",
      "1.0\n"
     ]
    }
   ],
   "source": [
    "def compute_conductance(params , eta = 1e-5):\n",
    "    E = params.energy + 1j*eta\n",
    "    F_pos_0 , F_neg_0 , debug0 = calculate_transfer_matrices(0 , params)\n",
    "    F_pos_Lplusone , F_neg_Lplusone , debug_Lplusone = calculate_transfer_matrices(params.L+1 , params)\n",
    "\n",
    "    # Initial diagonal Green's function in the left-lead at slice 0:\n",
    "    H_0_tilde = h_0(0 , params) + T(0 , +1 , params)@np.linalg.inv(F_neg_0)\n",
    "    G_0 = np.linalg.inv(E*np.identity(2*params.W) - (H_0_tilde))\n",
    "\n",
    "    H_Lplusone_tilde = h_0(params.L+1 , params) + T(params.L+2 , -1 , params)@F_pos_Lplusone\n",
    "    G_Lplusone = np.linalg.inv(E*np.identity(2*params.W) - (H_Lplusone_tilde))\n",
    "\n",
    "    # Recursion:\n",
    "\n",
    "    no_steps = params.L + 2\n",
    "    diag_greensfunctions = np.zeros(shape = (2*params.W , 2*params.W , no_steps))\n",
    "    off_diag_greensfunctions = np.zeros(shape = (2*params.W , 2*params.W , no_steps))\n",
    "    # Initial condition:\n",
    "    diag_greensfunctions[: , : , 0] = G_0\n",
    "    off_diag_greensfunctions[: , : , 0] = G_0\n",
    "\n",
    "    # Storing tilde Hamiltonians in a list:\n",
    "    H_tildes = np.zeros(shape = ( H_0_tilde.shape[0] , H_0_tilde.shape[0] , no_steps))\n",
    "    H_tildes[: , : , 0] = H_0_tilde\n",
    "    H_tildes[: , : ,-1] = H_Lplusone_tilde\n",
    "    for j in range(1,params.L + 1):\n",
    "        H_tildes[: , : , j] = h_0(j , params)\n",
    "\n",
    "\n",
    "    for i in range(no_steps):\n",
    "        if i > 0:\n",
    "            diag_greensfunctions[: , : , i] = np.linalg.inv(E*np.identity(2*params.W)  - H_tildes[: , : , i] -\n",
    "                                                        T(i , +1 , params) @ diag_greensfunctions[: , : , i-1] @ T(i , -1 , params))\n",
    "            off_diag_greensfunctions[: , : , i] = diag_greensfunctions[: , : , i]@ T(i , +1 , params) @ off_diag_greensfunctions[: , : , i-1]\n",
    "\n",
    "    # U_matrices:\n",
    "    U_pos_0 = debug0['U_pos']\n",
    "    U_neg_0 = debug0['U_neg']\n",
    "    U_pos_Lplusone = debug_Lplusone['U_pos']\n",
    "    U_neg_Lplusone = debug_Lplusone['U_neg']\n",
    "     \n",
    "    ## Transmission matrix:\n",
    "    transmissionmatrix = np.linalg.inv(U_pos_Lplusone)@off_diag_greensfunctions[: , : , -1]@T(0 , +1 , params)@(np.linalg.inv(F_pos_0) - \n",
    "                                                                                                       np.linalg.inv(F_neg_0))@U_pos_0\n",
    "\n",
    "    reflectionmatrix = np.linalg.inv(U_neg_0)@(diag_greensfunctions[: , : , 0]@T(0 , +1 , params)@(np.linalg.inv(F_pos_0) - \n",
    "                                                                                                       np.linalg.inv(F_neg_0)) - np.identity(U_neg_Lplusone.shape[0]))@U_pos_0\n",
    "\n",
    "    conductance = (np.linalg.norm(transmissionmatrix))**2\n",
    "    return conductance , transmissionmatrix\n",
    "\n",
    "energy_values = np.linspace(0 , 1 , 101)\n",
    "width = 5\n",
    "conductance_values = np.zeros(energy_values.shape[0])\n",
    "transmission_matrices = np.zeros(shape = (2*width , 2*width , energy_values.shape[0]))\n",
    "for i in range(len(energy_values)):\n",
    "    params_new = JosephsonParameters(W = width , \n",
    "                             L = 10,\n",
    "                             t = 1,\n",
    "                             flux = 0,\n",
    "                             energy = energy_values[i],\n",
    "                             Delta = 0,\n",
    "                             phase = 0,\n",
    "                             mu = 0.5)\n",
    "    print(params_new.energy)\n",
    "    conductance_values[i] , transmission_matrices[: , : , i]= compute_conductance(params_new , eta = 0)"
   ]
  },
  {
   "cell_type": "code",
   "execution_count": 4,
   "metadata": {},
   "outputs": [
    {
     "data": {
      "text/plain": [
       "192.26669503282406"
      ]
     },
     "execution_count": 4,
     "metadata": {},
     "output_type": "execute_result"
    }
   ],
   "source": [
    "conductance_values[0]"
   ]
  },
  {
   "cell_type": "code",
   "execution_count": 11,
   "metadata": {},
   "outputs": [
    {
     "data": {
      "text/plain": [
       "<matplotlib.image.AxesImage at 0x7f8ea8c8d6a0>"
      ]
     },
     "execution_count": 11,
     "metadata": {},
     "output_type": "execute_result"
    },
    {
     "data": {
      "application/vnd.jupyter.widget-view+json": {
       "model_id": "32ff0dce025a4ed3942eebad65115630",
       "version_major": 2,
       "version_minor": 0
      },
      "image/png": "[encoded data removed]",
      "text/html": [
       "\n",
       "            <div style=\"display: inline-block;\">\n",
       "                <div class=\"jupyter-widgets widget-label\" style=\"text-align: center;\">\n",
       "                    Figure\n",
       "                </div>\n",
       "                <img src='data:image/png;base64,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' width=640.0/>\n",
       "            </div>\n",
       "        "
      ],
      "text/plain": [
       "Canvas(toolbar=Toolbar(toolitems=[('Home', 'Reset original view', 'home', 'home'), ('Back', 'Back to previous …"
      ]
     },
     "metadata": {},
     "output_type": "display_data"
    }
   ],
   "source": [
    "plt.figure()\n",
    "plt.imshow(transmission_matrices[: , : , 1])"
   ]
  },
  {
   "cell_type": "code",
   "execution_count": 106,
   "metadata": {},
   "outputs": [
    {
     "data": {
      "text/plain": [
       "array([[1., 2., 5., 6.],\n",
       "       [3., 4., 7., 8.],\n",
       "       [0., 0., 0., 0.],\n",
       "       [0., 0., 0., 0.]])"
      ]
     },
     "execution_count": 106,
     "metadata": {},
     "output_type": "execute_result"
    }
   ],
   "source": [
    "T00 = np.array([[1 , 2 ],[3 , 4]])\n",
    "T01 = np.array([[5 , 6 ],[7 , 8]])\n",
    "np.block([[T00 , T01] , [np.zeros((2,2)) , np.zeros((2 , 2))] ])"
   ]
  },
  {
   "cell_type": "code",
   "execution_count": 110,
   "metadata": {},
   "outputs": [
    {
     "data": {
      "text/plain": [
       "array([1.        , 0.5       , 0.33333333, 0.25      ])"
      ]
     },
     "execution_count": 110,
     "metadata": {},
     "output_type": "execute_result"
    }
   ],
   "source": [
    "1/np.sqrt(np.array([1 , 4 , 9 , 16]))"
   ]
  },
  {
   "cell_type": "code",
   "execution_count": null,
   "metadata": {},
   "outputs": [],
   "source": []
  }
 ],
 "metadata": {
  "kernelspec": {
   "display_name": "base",
   "language": "python",
   "name": "python3"
  },
  "language_info": {
   "codemirror_mode": {
    "name": "ipython",
    "version": 3
   },
   "file_extension": ".py",
   "mimetype": "text/x-python",
   "name": "python",
   "nbconvert_exporter": "python",
   "pygments_lexer": "ipython3",
   "version": "3.8.13"
  },
  "orig_nbformat": 4
 },
 "nbformat": 4,
 "nbformat_minor": 2
}
