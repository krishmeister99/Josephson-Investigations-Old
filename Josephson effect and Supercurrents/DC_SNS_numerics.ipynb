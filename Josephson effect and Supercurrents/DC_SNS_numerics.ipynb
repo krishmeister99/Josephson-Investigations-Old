{
 "cells": [
  {
   "cell_type": "code",
   "execution_count": 2,
   "metadata": {},
   "outputs": [
    {
     "name": "stderr",
     "output_type": "stream",
     "text": [
      "/Users/krishnanganesh/anaconda3/lib/python3.8/site-packages/kwant/solvers/default.py:16: RuntimeWarning: MUMPS is not available, SciPy built-in solver will be used as a fallback. Performance can be very poor in this case.\n",
      "  warnings.warn(\"MUMPS is not available, \"\n"
     ]
    }
   ],
   "source": [
    "import kwant\n",
    "import numpy as np\n",
    "import matplotlib.pyplot as plt \n",
    "import kwant.continuum\n",
    "import scipy.sparse.linalg as sla\n",
    "import tinyarray as tiny\n",
    "import matplotlib as mpl\n",
    "import warnings\n",
    "warnings.filterwarnings(\"ignore\", category=np.VisibleDeprecationWarning) \n",
    "warnings.filterwarnings(\"ignore\", category=RuntimeWarning) \n",
    "\n",
    "%matplotlib widget\n",
    "mpl.rcParams.update({'font.size': 20, 'text.usetex': True,  'font.family': 'serif', 'font.serif': ['Computer Modern']})\n",
    "\n",
    "sx = tiny.array([[0 , 1] , [1 , 0]])\n",
    "sy = tiny.array([[0 , -1j] , [1j , 0]])\n",
    "sz = tiny.array([[1 , 0] , [0 , -1]])\n",
    "\n",
    "\n",
    "I = tiny.array([[1 , 0] , [0 , 1]])\n",
    "t_plus = 0.5*(np.kron(sx , I) + 1j*np.kron(sy , I))\n",
    "t_minus = t_plus.T\n",
    "phs = np.kron(sy , sy)"
   ]
  },
  {
   "cell_type": "code",
   "execution_count": 22,
   "metadata": {},
   "outputs": [
    {
     "ename": "SyntaxError",
     "evalue": "unexpected EOF while parsing (3971638014.py, line 26)",
     "output_type": "error",
     "traceback": [
      "\u001b[0;36m  Input \u001b[0;32mIn [22]\u001b[0;36m\u001b[0m\n\u001b[0;31m    def T(j):\u001b[0m\n\u001b[0m             ^\u001b[0m\n\u001b[0;31mSyntaxError\u001b[0m\u001b[0;31m:\u001b[0m unexpected EOF while parsing\n"
     ]
    }
   ],
   "source": [
    "W = 10 # Width of strip\n",
    "L = 10 # Length of normal region\n",
    "t = 1\n",
    "Delta = 2\n",
    "phase = 0.1*2*np.pi\n",
    "flux = \n",
    "# This function constructs the Hamiltonian for sites along the jth slice. It does not include hoppings between neighbouring slices.\n",
    "def h_0(j):\n",
    "    if j < 1:\n",
    "        onsitematrix = -4*t*sz + Delta*sx\n",
    "\n",
    "    if j >= 1:\n",
    "        onsitematrix = -4*t*sz \n",
    "    \n",
    "    if j > L:\n",
    "        onsitematrix = -4*t*sz + Delta*np.exp(1j*phase)*np.array([[0 , 1] ,[0 , 0]]) + Delta*np.exp(-1j*phase)*np.array([[0 , 0] ,[1 , 0]])\n",
    "    \n",
    "    off_diagonal_elements = np.diag( np.ones(W-1) , k = 1) + np.diag( np.ones(W-1) , k = -1)\n",
    "    h_hops = np.kron(off_diagonal_elements , -t*sz)\n",
    "\n",
    "    h_onsites = np.kron(np.identity(W) , onsitematrix)\n",
    "    h_0 = h_onsites + h_hops\n",
    "    return h_0\n",
    "\n",
    "# Construct hopping between neghbouring slices (this hopping in the x-direction):\n",
    "def T(j):\n",
    "    \n",
    "    return np.kron(np.identity(W) , -t*sz)\n"
   ]
  },
  {
   "cell_type": "code",
   "execution_count": 13,
   "metadata": {},
   "outputs": [
    {
     "data": {
      "text/plain": [
       "array([[0, 1, 0, 0],\n",
       "       [0, 0, 2, 0],\n",
       "       [0, 0, 0, 3],\n",
       "       [0, 0, 0, 0]])"
      ]
     },
     "execution_count": 13,
     "metadata": {},
     "output_type": "execute_result"
    }
   ],
   "source": [
    "np.diag([1 , 2 , 3] , k = 1)"
   ]
  },
  {
   "cell_type": "code",
   "execution_count": null,
   "metadata": {},
   "outputs": [],
   "source": []
  }
 ],
 "metadata": {
  "kernelspec": {
   "display_name": "base",
   "language": "python",
   "name": "python3"
  },
  "language_info": {
   "codemirror_mode": {
    "name": "ipython",
    "version": 3
   },
   "file_extension": ".py",
   "mimetype": "text/x-python",
   "name": "python",
   "nbconvert_exporter": "python",
   "pygments_lexer": "ipython3",
   "version": "3.8.13"
  },
  "orig_nbformat": 4
 },
 "nbformat": 4,
 "nbformat_minor": 2
}
