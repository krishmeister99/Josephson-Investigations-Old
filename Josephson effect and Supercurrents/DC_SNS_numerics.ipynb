{
 "cells": [
  {
   "cell_type": "code",
   "execution_count": 101,
   "metadata": {},
   "outputs": [
    {
     "name": "stdout",
     "output_type": "stream",
     "text": [
      "The autoreload extension is already loaded. To reload it, use:\n",
      "  %reload_ext autoreload\n"
     ]
    }
   ],
   "source": [
    "%load_ext autoreload\n",
    "\n",
    "import kwant\n",
    "import numpy as np\n",
    "import matplotlib.pyplot as plt \n",
    "import kwant.continuum\n",
    "import scipy.sparse.linalg as sla\n",
    "import tinyarray as tiny\n",
    "import matplotlib as mpl\n",
    "import warnings\n",
    "warnings.filterwarnings(\"ignore\", category=np.VisibleDeprecationWarning) \n",
    "warnings.filterwarnings(\"ignore\", category=RuntimeWarning) \n",
    "\n",
    "%matplotlib widget\n",
    "mpl.rcParams.update({'font.size': 20, 'text.usetex': True,  'font.family': 'serif', 'font.serif': ['Computer Modern']})\n",
    "\n",
    "sx = tiny.array([[0 , 1] , [1 , 0]])\n",
    "sy = tiny.array([[0 , -1j] , [1j , 0]])\n",
    "sz = tiny.array([[1 , 0] , [0 , -1]])\n",
    "\n",
    "\n",
    "I = tiny.array([[1 , 0] , [0 , 1]])\n",
    "t_plus = 0.5*(np.kron(sx , I) + 1j*np.kron(sy , I))\n",
    "t_minus = t_plus.T\n",
    "phs = np.kron(sy , sy)"
   ]
  },
  {
   "attachments": {},
   "cell_type": "markdown",
   "metadata": {},
   "source": [
    "The recursive Green's function method relies on these two equations:\n",
    "$$ \\check{G}^{L}_{j} = \\left[ i\\omega_{p} \\check{1} - \\check{H}^{0}_{j} - \\check{T}^{+}_{j}\\check{G}^{L}_{j-1} \\check{T}^{-}_{j} \\right]^{-1} $$\n",
    "starting at $j = j_{L}$, which is some slice in the left lead,\n",
    "$$ \\check{G}^{R}_{j} = \\left[ i\\omega_{p} \\check{1} - \\check{H}^{0}_{j} - \\check{T}^{-}_{j+1}\\check{G}^{R}_{j+1} \\check{T}^{+}_{j + 1} \\right]^{-1} $$\n",
    "starting at $j = j_{R}$ which is some slice in the right lead,\n",
    "and finally:\n",
    "$$\\check{G}_{\\omega_{p}}(j , j) = \\left[ i\\omega_{p} \\check{1} -  \\check{H}^{0}_{j} - \\check{T}^{-}_{j+1}\\check{G}^{R}_{j+1} \\check{T}^{+}_{j + 1}  - \\check{T}^{+}_{j}\\check{G}^{L}_{j-1} \\check{T}^{-}_{j} \\right] $$\n",
    "An upside down hat means its a $(2W \\times 2W)$ matrix. $\\check{T}^{+}_{j}$ is the matrix that shifts you to the right from site $j$, whilst $\\check{T}^{-}_{j}$ shifts you to the left from site $j$. Also $\\check{G}^{L/R}_{j} = \\check{G}_{\\omega_{P}}(j , j)$ which is the Green's function of the system in which all alttice site $j'\\geq j+1$ and $j' \\leq j - 1$ are deleted.\n",
    "These means we will first have to evaluate $\\check{G}^{L}_{j_{L}-1}$ and $\\check{G}^{R}_{j_{R} + 1}$, which this paper tells me how to do numerically: https://journals.aps.org/prb/pdf/10.1103/PhysRevB.44.8017. Probably best to evaluate this numerically since these Green's functions are only analytically soluble in the simplest of cases (i.e. s-wave disorderless superconductors).\n"
   ]
  },
  {
   "attachments": {},
   "cell_type": "markdown",
   "metadata": {},
   "source": [
    "From the Ando paper I learned that I should first calculate all modes in the ideal superconducting leads. This should give me a matrix of eigenvectors $U(\\pm)$ (where $+$ corresponds to right moving and $-$ corresponds to left-moving) and a diagonal matrix of eigenvalues $\\Lambda(\\pm)$. We can determine whether they are rightr movers or left movers by studying $arg(\\Lambda_{ii})$. The important matrix to calculate is:\n",
    "$$ F(-) = U(-)\\Lambda(-)U^{-1}(-)$$ "
   ]
  },
  {
   "attachments": {},
   "cell_type": "markdown",
   "metadata": {},
   "source": [
    "To compute all the modes in the lead, I need to solve the following eigenvalue problem:\n",
    "$$ \\underbrace{\\begin{pmatrix} - [\\check{T}^{-}]^{-1}(\\check{H}^{j}_0 - E) & -[\\check{T}^{-}]^{-1}\\check{T}^{+} \\\\ \\check{1} & \\check{0} \\end{pmatrix}}_{\\mathbb{M}}\\begin{pmatrix}\\vec{c}_{j} \\\\ \\vec{c}_{j-1} \\end{pmatrix} = \\lambda \\begin{pmatrix}\\vec{c}_{j} \\\\ \\vec{c}_{j-1} \\end{pmatrix} $$\n",
    "where $\\check{H}^{j}_{0}$ is the onsite Hamiltonian of slice $j$ and $\\vec{c}_{j}$ is the vector of amplitudes on slice $j$. The argument of $\\lambda$ will give the direction of current between slice $j -1$ and slice $j$."
   ]
  },
  {
   "cell_type": "code",
   "execution_count": 102,
   "metadata": {},
   "outputs": [],
   "source": [
    "from dataclasses import dataclass\n",
    "from RGFtools import *\n",
    "@dataclass\n",
    "class JosephsonParameters:\n",
    "    W : int\n",
    "    L : int\n",
    "    t: float\n",
    "    flux : float\n",
    "    energy: float\n",
    "    Delta: float\n",
    "    phase: float\n",
    "    mu: float\n",
    "\n",
    "# params = JosephsonParameters(W = 10 , \n",
    "#                              L = 10,\n",
    "#                              t = 1,\n",
    "#                              flux = 0,\n",
    "#                              energy = 0.0,\n",
    "#                              Delta = 0,\n",
    "#                              phase = 0,\n",
    "#                              mu = 0.5)\n",
    "    "
   ]
  },
  {
   "cell_type": "code",
   "execution_count": 103,
   "metadata": {},
   "outputs": [
    {
     "name": "stdout",
     "output_type": "stream",
     "text": [
      "0.0\n",
      "0.01\n",
      "0.02\n",
      "0.03\n",
      "0.04\n",
      "0.05\n",
      "0.06\n",
      "0.07\n",
      "0.08\n",
      "0.09\n",
      "0.1\n",
      "0.11\n",
      "0.12\n",
      "0.13\n",
      "0.14\n",
      "0.15\n",
      "0.16\n",
      "0.17\n",
      "0.18\n",
      "0.19\n",
      "0.2\n",
      "0.21\n",
      "0.22\n",
      "0.23\n",
      "0.24\n",
      "0.25\n",
      "0.26\n",
      "0.27\n",
      "0.28\n",
      "0.29\n",
      "0.3\n",
      "0.31\n",
      "0.32\n",
      "0.33\n",
      "0.34\n",
      "0.35000000000000003\n",
      "0.36\n",
      "0.37\n",
      "0.38\n",
      "0.39\n",
      "0.4\n",
      "0.41000000000000003\n",
      "0.42\n",
      "0.43\n",
      "0.44\n",
      "0.45\n",
      "0.46\n",
      "0.47000000000000003\n",
      "0.48\n",
      "0.49\n",
      "0.5\n",
      "0.51\n",
      "0.52\n",
      "0.53\n",
      "0.54\n",
      "0.55\n",
      "0.56\n",
      "0.5700000000000001\n",
      "0.58\n",
      "0.59\n",
      "0.6\n",
      "0.61\n",
      "0.62\n",
      "0.63\n",
      "0.64\n",
      "0.65\n",
      "0.66\n",
      "0.67\n",
      "0.68\n",
      "0.6900000000000001\n",
      "0.7000000000000001\n",
      "0.71\n",
      "0.72\n",
      "0.73\n",
      "0.74\n",
      "0.75\n",
      "0.76\n",
      "0.77\n",
      "0.78\n",
      "0.79\n",
      "0.8\n",
      "0.81\n",
      "0.8200000000000001\n",
      "0.8300000000000001\n",
      "0.84\n",
      "0.85\n",
      "0.86\n",
      "0.87\n",
      "0.88\n",
      "0.89\n",
      "0.9\n",
      "0.91\n",
      "0.92\n",
      "0.93\n",
      "0.9400000000000001\n",
      "0.9500000000000001\n",
      "0.96\n",
      "0.97\n",
      "0.98\n",
      "0.99\n",
      "1.0\n"
     ]
    }
   ],
   "source": [
    "def compute_conductance(params , eta = 1e-5):\n",
    "    E = params.energy + 1j*eta\n",
    "    F_pos_0 , F_neg_0 , debug0 = calculate_transfer_matrices(0 , params)\n",
    "    F_pos_Lplusone , F_neg_Lplusone , debug_Lplusone = calculate_transfer_matrices(params.L+1 , params)\n",
    "\n",
    "    # Initial diagonal Green's function in the left-lead at slice 0:\n",
    "    H_0_tilde = h_0(0 , params) + T(0 , +1 , params)@np.linalg.inv(F_neg_0)\n",
    "    G_0 = np.linalg.inv(E*np.identity(2*params.W) - (H_0_tilde))\n",
    "\n",
    "    H_Lplusone_tilde = h_0(params.L+1 , params) + T(params.L+2 , -1 , params)@F_pos_Lplusone\n",
    "    G_Lplusone = np.linalg.inv(E*np.identity(2*params.W) - (H_Lplusone_tilde))\n",
    "\n",
    "    # Recursion:\n",
    "\n",
    "    no_steps = params.L + 2\n",
    "    diag_greensfunctions = np.zeros(shape = (2*params.W , 2*params.W , no_steps))\n",
    "    off_diag_greensfunctions = np.zeros(shape = (2*params.W , 2*params.W , no_steps))\n",
    "    # Initial condition:\n",
    "    diag_greensfunctions[: , : , 0] = G_0\n",
    "    off_diag_greensfunctions[: , : , 0] = G_0\n",
    "\n",
    "    # Storing tilde Hamiltonians in a list:\n",
    "    H_tildes = np.zeros(shape = ( H_0_tilde.shape[0] , H_0_tilde.shape[0] , no_steps))\n",
    "    H_tildes[: , : , 0] = H_0_tilde\n",
    "    H_tildes[: , : ,-1] = H_Lplusone_tilde\n",
    "    for j in range(1,params.L + 1):\n",
    "        H_tildes[: , : , j] = h_0(j , params)\n",
    "\n",
    "\n",
    "    for i in range(no_steps):\n",
    "        if i > 0:\n",
    "            diag_greensfunctions[: , : , i] = np.linalg.inv(E*np.identity(2*params.W)  - H_tildes[: , : , i] -\n",
    "                                                        T(i , +1 , params) @ diag_greensfunctions[: , : , i-1] @ T(i , -1 , params))\n",
    "            off_diag_greensfunctions[: , : , i] = diag_greensfunctions[: , : , i]@ T(i , +1 , params) @ off_diag_greensfunctions[: , : , i-1]\n",
    "\n",
    "    # U_matrices:\n",
    "    U_pos_0 = debug0['U_pos']\n",
    "    U_neg_0 = debug0['U_neg']\n",
    "    U_pos_Lplusone = debug_Lplusone['U_pos']\n",
    "    U_neg_Lplusone = debug_Lplusone['U_neg']\n",
    "     \n",
    "    ## Transmission matrix:\n",
    "    transmissionmatrix = np.linalg.inv(U_pos_Lplusone)@off_diag_greensfunctions[: , : , -1]@T(0 , +1 , params)@(np.linalg.inv(F_pos_0) - \n",
    "                                                                                                       np.linalg.inv(F_neg_0))@U_pos_0\n",
    "\n",
    "    reflectionmatrix = np.linalg.inv(U_neg_0)@(diag_greensfunctions[: , : , 0]@T(0 , +1 , params)@(np.linalg.inv(F_pos_0) - \n",
    "                                                                                                       np.linalg.inv(F_neg_0)) - np.identity(U_neg_Lplusone.shape[0]))@U_pos_0\n",
    "\n",
    "    conductance = (np.linalg.norm(transmissionmatrix))**2\n",
    "    return conductance , transmissionmatrix\n",
    "\n",
    "energy_values = np.linspace(0 , 1 , 101)\n",
    "conductance_values = np.zeros(energy_values.shape[0])\n",
    "for i in range(len(energy_values)):\n",
    "    params_new = JosephsonParameters(W = 5 , \n",
    "                             L = 10,\n",
    "                             t = 1,\n",
    "                             flux = 0,\n",
    "                             energy = energy_values[i],\n",
    "                             Delta = 0,\n",
    "                             phase = 0,\n",
    "                             mu = 0.5)\n",
    "    print(params_new.energy)\n",
    "    conductance_values[i] , transmissionmatrix= compute_conductance(params_new , eta = 0)"
   ]
  },
  {
   "cell_type": "code",
   "execution_count": 104,
   "metadata": {},
   "outputs": [
    {
     "data": {
      "text/plain": [
       "177.37779255856867"
      ]
     },
     "execution_count": 104,
     "metadata": {},
     "output_type": "execute_result"
    }
   ],
   "source": [
    "conductance_values[0]"
   ]
  },
  {
   "cell_type": "code",
   "execution_count": 105,
   "metadata": {},
   "outputs": [
    {
     "data": {
      "text/plain": [
       "[<matplotlib.lines.Line2D at 0x7fb21f71f190>]"
      ]
     },
     "execution_count": 105,
     "metadata": {},
     "output_type": "execute_result"
    },
    {
     "data": {
      "application/vnd.jupyter.widget-view+json": {
       "model_id": "e0118d61ed084f5cba11b20eb4a3b335",
       "version_major": 2,
       "version_minor": 0
      },
      "image/png": "[encoded data removed]",
      "text/html": [
       "\n",
       "            <div style=\"display: inline-block;\">\n",
       "                <div class=\"jupyter-widgets widget-label\" style=\"text-align: center;\">\n",
       "                    Figure\n",
       "                </div>\n",
       "                <img src='data:image/png;base64,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' width=640.0/>\n",
       "            </div>\n",
       "        "
      ],
      "text/plain": [
       "Canvas(toolbar=Toolbar(toolitems=[('Home', 'Reset original view', 'home', 'home'), ('Back', 'Back to previous …"
      ]
     },
     "metadata": {},
     "output_type": "display_data"
    }
   ],
   "source": [
    "plt.figure()\n",
    "plt.plot(conductance_values[0:20])"
   ]
  },
  {
   "cell_type": "code",
   "execution_count": 106,
   "metadata": {},
   "outputs": [
    {
     "data": {
      "text/plain": [
       "array([[1., 2., 5., 6.],\n",
       "       [3., 4., 7., 8.],\n",
       "       [0., 0., 0., 0.],\n",
       "       [0., 0., 0., 0.]])"
      ]
     },
     "execution_count": 106,
     "metadata": {},
     "output_type": "execute_result"
    }
   ],
   "source": [
    "T00 = np.array([[1 , 2 ],[3 , 4]])\n",
    "T01 = np.array([[5 , 6 ],[7 , 8]])\n",
    "np.block([[T00 , T01] , [np.zeros((2,2)) , np.zeros((2 , 2))] ])"
   ]
  },
  {
   "cell_type": "code",
   "execution_count": 110,
   "metadata": {},
   "outputs": [
    {
     "data": {
      "text/plain": [
       "array([1.        , 0.5       , 0.33333333, 0.25      ])"
      ]
     },
     "execution_count": 110,
     "metadata": {},
     "output_type": "execute_result"
    }
   ],
   "source": [
    "1/np.sqrt(np.array([1 , 4 , 9 , 16]))"
   ]
  },
  {
   "cell_type": "code",
   "execution_count": null,
   "metadata": {},
   "outputs": [],
   "source": []
  }
 ],
 "metadata": {
  "kernelspec": {
   "display_name": "base",
   "language": "python",
   "name": "python3"
  },
  "language_info": {
   "codemirror_mode": {
    "name": "ipython",
    "version": 3
   },
   "file_extension": ".py",
   "mimetype": "text/x-python",
   "name": "python",
   "nbconvert_exporter": "python",
   "pygments_lexer": "ipython3",
   "version": "3.8.13"
  },
  "orig_nbformat": 4
 },
 "nbformat": 4,
 "nbformat_minor": 2
}
