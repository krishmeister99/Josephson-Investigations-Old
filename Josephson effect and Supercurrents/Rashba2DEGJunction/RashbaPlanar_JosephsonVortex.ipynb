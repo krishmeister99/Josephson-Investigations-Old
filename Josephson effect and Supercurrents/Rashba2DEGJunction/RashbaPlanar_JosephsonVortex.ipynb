{
 "cells": [
  {
   "cell_type": "code",
   "execution_count": 1,
   "metadata": {},
   "outputs": [
    {
     "name": "stderr",
     "output_type": "stream",
     "text": [
      "/Users/krishnanganesh/anaconda3/lib/python3.8/site-packages/kwant/solvers/default.py:16: RuntimeWarning: MUMPS is not available, SciPy built-in solver will be used as a fallback. Performance can be very poor in this case.\n",
      "  warnings.warn(\"MUMPS is not available, \"\n"
     ]
    }
   ],
   "source": [
    "import kwant \n",
    "import matplotlib.pyplot as plt\n",
    "import numpy as np\n",
    "from dataclasses import dataclass, asdict\n",
    "from kwant.continuum import discretize  \n",
    "sx = np.array([[0 , 1] , [1 , 0]])\n",
    "sy = np.array([[0 , -1j] , [1j , 0]])\n",
    "sz = np.array([[1 , 0] , [0 , -1]])\n",
    "id = np.array([[1 , 0] , [0 , 1]])\n",
    "\n",
    "%matplotlib widget"
   ]
  },
  {
   "cell_type": "code",
   "execution_count": 17,
   "metadata": {},
   "outputs": [],
   "source": [
    "from scipy import constants\n",
    "from sympy import exp\n",
    "from josephson_current_tools import constants\n",
    "@dataclass\n",
    "class parameters:\n",
    "    a : float # Lattice constant\n",
    "    L_x : float # Dimension of planar system in x direction\n",
    "    L_y : float # Dimension of planar system in y direction\n",
    "    W : float # Width of the normal region in y direction\n",
    "    m_eff : float # Effective mass\n",
    "    mu : float # Chemical potential  \n",
    "    alpha : float # Rashba coupling\n",
    "    E_z : float # In plane Zeeman\n",
    "    Delta : float # Superconducting gap\n",
    "    phase : float # Phase bias of Josephson junction\n",
    "    flux : float\n",
    "    k : float # Boltzmann constant\n",
    "    T : float # Temperature\n",
    "    current_unit: float # Current unit\n",
    "\n",
    "def make_junction_with_vortices(params):\n",
    "    # Make a Rashba josephson junction with Josephson vortices.\n",
    "    \n",
    "    # Scaled Parameters:\n",
    "    lx = int(params.L_x // params.a)\n",
    "    ly = int(params.L_y // params.a)\n",
    "    w = int(params.W // params.a)\n",
    "    halfly = ly // 2\n",
    "    halfw = w // 2\n",
    "\n",
    "    lat = kwant.lattice.square(a = params.a, norbs = 4)\n",
    "    syst = kwant.Builder(particle_hole = np.kron(sy , sy)) \n",
    "    \n",
    "    m = halfly\n",
    "    # Phase profile due to magnetic field:\n",
    "    def phases(i , j):\n",
    "        if (m + halfw)<= j < ly and 0<= i < lx:\n",
    "            return (2*np.pi)*(params.flux)*(1/lx)*i + (2*np.pi*params.phase)\n",
    "        else:\n",
    "            return 0\n",
    "\n",
    "    t = 0.5*(1 / (params.m_eff *(params.a**2)))\n",
    "    alph = params.alpha / params.a\n",
    "    # Defining lattice hoppings:\n",
    "    for i in range(lx):\n",
    "        for j in range(ly):\n",
    "            if 0 <= j <= (m-halfw):\n",
    "                syst[lat(i , j)] = 4*t*np.kron(sz , id) - params.mu*np.kron(sz , id) + 0.5*(params.m_eff*(params.alpha**2))*np.kron(sz , id) + params.Delta*np.kron(sx , id)\n",
    "\n",
    "            if (m-halfw)< j < (m+halfw):\n",
    "                syst[lat(i , j)] = 4*t*np.kron(sz , id) - params.mu*np.kron(sz , id) + 0.5*(params.m_eff*(params.alpha**2))*np.kron(sz , id) + params.E_z*np.kron(id , sx)\n",
    "\n",
    "            if (m+halfw)<= j < ly:\n",
    "                syst[lat(i , j)] = (4*t*np.kron(sz , id) - params.mu*np.kron(sz , id) + 0.5*(params.m_eff*(params.alpha**2))*np.kron(sz , id) + 0.5*params.Delta*np.exp(1j*phases(i,j))*np.kron(sx + 1j*sy , id)\n",
    "                                    + 0.5*params.Delta*np.exp(-1j*phases(i,j))*np.kron(sx - 1j*sy , id))\n",
    "\n",
    "\n",
    "            if j > 0:\n",
    "                    syst[lat(i , j) , lat(i , j-1)] = -1j*0.5*(alph)*np.kron(sz , sx) - (t)*np.kron(sz , id)\n",
    "\n",
    "            if i > 0:\n",
    "                syst[lat(i , j) , lat(i-1 , j)] = +1j*0.5*(alph)*np.kron(sz , sy) - (t)*np.kron(sz , id)\n",
    "    \n",
    "    syst = syst.finalized()\n",
    "\n",
    "    return syst"
   ]
  },
  {
   "cell_type": "code",
   "execution_count": 2,
   "metadata": {},
   "outputs": [
    {
     "ename": "NameError",
     "evalue": "name 'parameters' is not defined",
     "output_type": "error",
     "traceback": [
      "\u001b[0;31m---------------------------------------------------------------------------\u001b[0m",
      "\u001b[0;31mNameError\u001b[0m                                 Traceback (most recent call last)",
      "\u001b[1;32m/Users/krishnanganesh/Desktop/Josephson Investigations/Josephson effect and Supercurrents/Rashba2DEGJunction/RashbaPlanar_JosephsonVortex.ipynb Cell 3\u001b[0m in \u001b[0;36m<cell line: 1>\u001b[0;34m()\u001b[0m\n\u001b[0;32m----> <a href='vscode-notebook-cell:/Users/krishnanganesh/Desktop/Josephson%20Investigations/Josephson%20effect%20and%20Supercurrents/Rashba2DEGJunction/RashbaPlanar_JosephsonVortex.ipynb#W2sZmlsZQ%3D%3D?line=0'>1</a>\u001b[0m params \u001b[39m=\u001b[39m parameters(a \u001b[39m=\u001b[39m \u001b[39m0.5\u001b[39m , L_x \u001b[39m=\u001b[39m \u001b[39m100\u001b[39m, L_y \u001b[39m=\u001b[39m \u001b[39m21\u001b[39m , W  \u001b[39m=\u001b[39m \u001b[39m2\u001b[39m , m_eff \u001b[39m=\u001b[39m \u001b[39m0.5\u001b[39m , mu \u001b[39m=\u001b[39m \u001b[39m2.0\u001b[39m , alpha \u001b[39m=\u001b[39m \u001b[39m1\u001b[39m , E_z\u001b[39m=\u001b[39m \u001b[39m0.68\u001b[39m , Delta \u001b[39m=\u001b[39m \u001b[39m4.0\u001b[39m , phase \u001b[39m=\u001b[39m \u001b[39m0.76\u001b[39m , flux \u001b[39m=\u001b[39m \u001b[39m1\u001b[39m, k \u001b[39m=\u001b[39m constants\u001b[39m.\u001b[39mk , T \u001b[39m=\u001b[39m \u001b[39m0.05\u001b[39m , current_unit \u001b[39m=\u001b[39m constants\u001b[39m.\u001b[39mcurrent_unit)\n\u001b[1;32m      <a href='vscode-notebook-cell:/Users/krishnanganesh/Desktop/Josephson%20Investigations/Josephson%20effect%20and%20Supercurrents/Rashba2DEGJunction/RashbaPlanar_JosephsonVortex.ipynb#W2sZmlsZQ%3D%3D?line=1'>2</a>\u001b[0m syst \u001b[39m=\u001b[39m make_junction_with_vortices(params)\n\u001b[1;32m      <a href='vscode-notebook-cell:/Users/krishnanganesh/Desktop/Josephson%20Investigations/Josephson%20effect%20and%20Supercurrents/Rashba2DEGJunction/RashbaPlanar_JosephsonVortex.ipynb#W2sZmlsZQ%3D%3D?line=2'>3</a>\u001b[0m \u001b[39mimport\u001b[39;00m \u001b[39mscipy\u001b[39;00m\u001b[39m.\u001b[39;00m\u001b[39msparse\u001b[39;00m\u001b[39m.\u001b[39;00m\u001b[39mlinalg\u001b[39;00m \u001b[39mas\u001b[39;00m \u001b[39msla\u001b[39;00m\n",
      "\u001b[0;31mNameError\u001b[0m: name 'parameters' is not defined"
     ]
    }
   ],
   "source": [
    "params = parameters(a = 0.5 , L_x = 100, L_y = 21 , W  = 2 , m_eff = 0.5 , mu = 2.0 , alpha = 1 , E_z= 0.68 , Delta = 4.0 , phase = 0.76 , flux = 1, k = constants.k , T = 0.05 , current_unit = constants.current_unit)\n",
    "syst = make_junction_with_vortices(params)\n",
    "import scipy.sparse.linalg as sla\n",
    "ham = syst.hamiltonian_submatrix(params = asdict(params) , sparse = True)\n",
    "# These are various solving and plotting functions:\n",
    "def solve_me(ham, number):\n",
    "    eigenvalues , eigenvectors = sla.eigsh(ham , k = number , sigma = 0.0 , which = 'LM')\n",
    "\n",
    "    idx = np.argsort(np.abs(eigenvalues))\n",
    "    eigenvalues = eigenvalues[idx]\n",
    "    eigenvectors = eigenvectors[: , idx]\n",
    "\n",
    "    return eigenvalues , eigenvectors\n",
    "\n",
    "evals , evecs = solve_me(ham , 40)\n",
    "\n",
    "plt.figure()\n",
    "plt.scatter(np.arange(len(evals)),evals[np.argsort(evals)])\n",
    "print(evals)"
   ]
  },
  {
   "cell_type": "code",
   "execution_count": 1,
   "metadata": {},
   "outputs": [
    {
     "ename": "NameError",
     "evalue": "name 'evecs' is not defined",
     "output_type": "error",
     "traceback": [
      "\u001b[0;31m---------------------------------------------------------------------------\u001b[0m",
      "\u001b[0;31mNameError\u001b[0m                                 Traceback (most recent call last)",
      "\u001b[1;32m/Users/krishnanganesh/Desktop/Josephson Investigations/Josephson effect and Supercurrents/Rashba2DEGJunction/RashbaPlanar_JosephsonVortex.ipynb Cell 4\u001b[0m in \u001b[0;36m<cell line: 8>\u001b[0;34m()\u001b[0m\n\u001b[1;32m      <a href='vscode-notebook-cell:/Users/krishnanganesh/Desktop/Josephson%20Investigations/Josephson%20effect%20and%20Supercurrents/Rashba2DEGJunction/RashbaPlanar_JosephsonVortex.ipynb#W3sZmlsZQ%3D%3D?line=4'>5</a>\u001b[0m     wavefunc \u001b[39m=\u001b[39m np\u001b[39m.\u001b[39mreshape(prob_density , ((\u001b[39mint\u001b[39m(params\u001b[39m.\u001b[39mL_x\u001b[39m/\u001b[39mparams\u001b[39m.\u001b[39ma)) , \u001b[39mint\u001b[39m(params\u001b[39m.\u001b[39mL_y\u001b[39m/\u001b[39mparams\u001b[39m.\u001b[39ma)))\n\u001b[1;32m      <a href='vscode-notebook-cell:/Users/krishnanganesh/Desktop/Josephson%20Investigations/Josephson%20effect%20and%20Supercurrents/Rashba2DEGJunction/RashbaPlanar_JosephsonVortex.ipynb#W3sZmlsZQ%3D%3D?line=5'>6</a>\u001b[0m     \u001b[39mreturn\u001b[39;00m np\u001b[39m.\u001b[39mreal(wavefunc\u001b[39m.\u001b[39mT)\n\u001b[0;32m----> <a href='vscode-notebook-cell:/Users/krishnanganesh/Desktop/Josephson%20Investigations/Josephson%20effect%20and%20Supercurrents/Rashba2DEGJunction/RashbaPlanar_JosephsonVortex.ipynb#W3sZmlsZQ%3D%3D?line=7'>8</a>\u001b[0m wf \u001b[39m=\u001b[39m see_the_funk(\u001b[39m0\u001b[39m , evecs , params)\n\u001b[1;32m      <a href='vscode-notebook-cell:/Users/krishnanganesh/Desktop/Josephson%20Investigations/Josephson%20effect%20and%20Supercurrents/Rashba2DEGJunction/RashbaPlanar_JosephsonVortex.ipynb#W3sZmlsZQ%3D%3D?line=8'>9</a>\u001b[0m fig , ax \u001b[39m=\u001b[39m plt\u001b[39m.\u001b[39msubplots(nrows \u001b[39m=\u001b[39m \u001b[39m1\u001b[39m , ncols \u001b[39m=\u001b[39m \u001b[39m2\u001b[39m)\n\u001b[1;32m     <a href='vscode-notebook-cell:/Users/krishnanganesh/Desktop/Josephson%20Investigations/Josephson%20effect%20and%20Supercurrents/Rashba2DEGJunction/RashbaPlanar_JosephsonVortex.ipynb#W3sZmlsZQ%3D%3D?line=9'>10</a>\u001b[0m fig\u001b[39m.\u001b[39mset_figwidth(\u001b[39m10\u001b[39m)\n",
      "\u001b[0;31mNameError\u001b[0m: name 'evecs' is not defined"
     ]
    }
   ],
   "source": [
    "def see_the_funk(k , ev , params):\n",
    "    psi = ev[: , k]\n",
    "    innerprod = np.conjugate(psi) * psi\n",
    "    prob_density = np.array([sum(innerprod[i : i + 4]) for i in range(0 , len(innerprod), 4)])\n",
    "    wavefunc = np.reshape(prob_density , ((int(params.L_x/params.a)) , int(params.L_y/params.a)))\n",
    "    return np.real(wavefunc.T)\n",
    "\n",
    "wf = see_the_funk(0 , evecs , params)\n",
    "fig , ax = plt.subplots(nrows = 1 , ncols = 2)\n",
    "fig.set_figwidth(10)\n",
    "fig.set_figheight(5)\n",
    "ax[0].imshow(wf , cmap = 'inferno')\n",
    "ax[1].plot(wf[wf.shape[0]//2 , :])\n",
    "plt.tight_layout()"
   ]
  },
  {
   "cell_type": "code",
   "execution_count": 202,
   "metadata": {},
   "outputs": [
    {
     "name": "stdout",
     "output_type": "stream",
     "text": [
      "(0.9616493742724749-0.010987684608193982j)\n"
     ]
    }
   ],
   "source": [
    "from scipy.special import erf \n",
    "\n",
    "print(erf(10 + 10j))\n",
    "\n"
   ]
  },
  {
   "cell_type": "code",
   "execution_count": null,
   "metadata": {},
   "outputs": [],
   "source": []
  }
 ],
 "metadata": {
  "kernelspec": {
   "display_name": "base",
   "language": "python",
   "name": "python3"
  },
  "language_info": {
   "codemirror_mode": {
    "name": "ipython",
    "version": 3
   },
   "file_extension": ".py",
   "mimetype": "text/x-python",
   "name": "python",
   "nbconvert_exporter": "python",
   "pygments_lexer": "ipython3",
   "version": "3.8.13"
  },
  "orig_nbformat": 4
 },
 "nbformat": 4,
 "nbformat_minor": 2
}
