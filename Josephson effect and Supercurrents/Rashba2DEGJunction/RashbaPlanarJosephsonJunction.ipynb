{
 "cells": [
  {
   "cell_type": "code",
   "execution_count": 2,
   "metadata": {},
   "outputs": [],
   "source": [
    "import kwant \n",
    "import matplotlib.pyplot as plt\n",
    "import numpy as np\n",
    "from dataclasses import dataclass\n",
    "from kwant.continuum import discretize  \n",
    "sx = np.array([[0 , 1] , [1 , 0]])\n",
    "sy = np.array([[0 , -1j] , [1j , 0]])\n",
    "sz = np.array([[1 , 0] , [0 , -1]])\n",
    "I = np.array([[1 , 0] , [0 , 1]])"
   ]
  },
  {
   "cell_type": "code",
   "execution_count": 13,
   "metadata": {},
   "outputs": [
    {
     "ename": "KeyboardInterrupt",
     "evalue": "",
     "output_type": "error",
     "traceback": [
      "\u001b[0;31m---------------------------------------------------------------------------\u001b[0m",
      "\u001b[0;31mKeyboardInterrupt\u001b[0m                         Traceback (most recent call last)",
      "\u001b[1;32m/Users/krishnanganesh/Desktop/Josephson Investigations/Josephson effect and Supercurrents/Rashba2DEGJunction/RashbaPlanarJosephsonJunction.ipynb Cell 2\u001b[0m in \u001b[0;36m<cell line: 40>\u001b[0;34m()\u001b[0m\n\u001b[1;32m     <a href='vscode-notebook-cell:/Users/krishnanganesh/Desktop/Josephson%20Investigations/Josephson%20effect%20and%20Supercurrents/Rashba2DEGJunction/RashbaPlanarJosephsonJunction.ipynb#W1sZmlsZQ%3D%3D?line=37'>38</a>\u001b[0m     syst\u001b[39m.\u001b[39mfill(template_sc , bottom_super_region , (\u001b[39m0\u001b[39m , \u001b[39m0\u001b[39m) )\n\u001b[1;32m     <a href='vscode-notebook-cell:/Users/krishnanganesh/Desktop/Josephson%20Investigations/Josephson%20effect%20and%20Supercurrents/Rashba2DEGJunction/RashbaPlanarJosephsonJunction.ipynb#W1sZmlsZQ%3D%3D?line=38'>39</a>\u001b[0m params \u001b[39m=\u001b[39m parameters(a \u001b[39m=\u001b[39m \u001b[39m1\u001b[39m , L_x \u001b[39m=\u001b[39m \u001b[39m20\u001b[39m , L_y \u001b[39m=\u001b[39m \u001b[39m21\u001b[39m , W  \u001b[39m=\u001b[39m \u001b[39m3\u001b[39m , m_eff \u001b[39m=\u001b[39m \u001b[39m1\u001b[39m , mu \u001b[39m=\u001b[39m \u001b[39m5\u001b[39m , alpha \u001b[39m=\u001b[39m \u001b[39m0.1\u001b[39m , E_z\u001b[39m=\u001b[39m \u001b[39m1\u001b[39m , Delta \u001b[39m=\u001b[39m \u001b[39m1\u001b[39m , phase \u001b[39m=\u001b[39m \u001b[39m0\u001b[39m)\n\u001b[0;32m---> <a href='vscode-notebook-cell:/Users/krishnanganesh/Desktop/Josephson%20Investigations/Josephson%20effect%20and%20Supercurrents/Rashba2DEGJunction/RashbaPlanarJosephsonJunction.ipynb#W1sZmlsZQ%3D%3D?line=39'>40</a>\u001b[0m make_system(params)\n",
      "\u001b[1;32m/Users/krishnanganesh/Desktop/Josephson Investigations/Josephson effect and Supercurrents/Rashba2DEGJunction/RashbaPlanarJosephsonJunction.ipynb Cell 2\u001b[0m in \u001b[0;36mmake_system\u001b[0;34m(params)\u001b[0m\n\u001b[1;32m     <a href='vscode-notebook-cell:/Users/krishnanganesh/Desktop/Josephson%20Investigations/Josephson%20effect%20and%20Supercurrents/Rashba2DEGJunction/RashbaPlanarJosephsonJunction.ipynb#W1sZmlsZQ%3D%3D?line=34'>35</a>\u001b[0m     \u001b[39mreturn\u001b[39;00m y \u001b[39m>\u001b[39m\u001b[39m=\u001b[39m (half_L_y \u001b[39m+\u001b[39m half_w)\n\u001b[1;32m     <a href='vscode-notebook-cell:/Users/krishnanganesh/Desktop/Josephson%20Investigations/Josephson%20effect%20and%20Supercurrents/Rashba2DEGJunction/RashbaPlanarJosephsonJunction.ipynb#W1sZmlsZQ%3D%3D?line=36'>37</a>\u001b[0m syst \u001b[39m=\u001b[39m kwant\u001b[39m.\u001b[39mBuilder()\n\u001b[0;32m---> <a href='vscode-notebook-cell:/Users/krishnanganesh/Desktop/Josephson%20Investigations/Josephson%20effect%20and%20Supercurrents/Rashba2DEGJunction/RashbaPlanarJosephsonJunction.ipynb#W1sZmlsZQ%3D%3D?line=37'>38</a>\u001b[0m syst\u001b[39m.\u001b[39;49mfill(template_sc , bottom_super_region , (\u001b[39m0\u001b[39;49m , \u001b[39m0\u001b[39;49m) )\n",
      "File \u001b[0;32m~/anaconda3/lib/python3.8/site-packages/kwant/builder.py:1559\u001b[0m, in \u001b[0;36mBuilder.fill\u001b[0;34m(self, template, shape, start, max_sites)\u001b[0m\n\u001b[1;32m   1556\u001b[0m head \u001b[39m=\u001b[39m templ_sym\u001b[39m.\u001b[39mact(shift, head)\n\u001b[1;32m   1557\u001b[0m head_fd \u001b[39m=\u001b[39m to_fd(head)\n\u001b[0;32m-> 1559\u001b[0m \u001b[39mif\u001b[39;00m (head_fd \u001b[39mnot\u001b[39;49;00m \u001b[39min\u001b[39;49;00m old_active\n\u001b[1;32m   1560\u001b[0m     \u001b[39mand\u001b[39;00m head_fd \u001b[39mnot\u001b[39;00m \u001b[39min\u001b[39;00m new_active):\n\u001b[1;32m   1561\u001b[0m     \u001b[39m# The 'head' site has not been filled yet.\u001b[39;00m\n\u001b[1;32m   1562\u001b[0m     \u001b[39mif\u001b[39;00m head_fd \u001b[39min\u001b[39;00m H:\n\u001b[1;32m   1563\u001b[0m         \u001b[39m# The 'head' site exists.  (It doesn't matter\u001b[39;00m\n\u001b[1;32m   1564\u001b[0m         \u001b[39m# whether it's in the shape or not.)  Fill the\u001b[39;00m\n\u001b[1;32m   1565\u001b[0m         \u001b[39m# incoming edge as well to balance the hopping.\u001b[39;00m\n\u001b[1;32m   1566\u001b[0m         other_value \u001b[39m=\u001b[39m template\u001b[39m.\u001b[39m_get_edge(\n\u001b[1;32m   1567\u001b[0m             \u001b[39m*\u001b[39mtempl_sym\u001b[39m.\u001b[39mto_fd(head, tail))\n",
      "File \u001b[0;32m~/anaconda3/lib/python3.8/site-packages/kwant/builder.py:158\u001b[0m, in \u001b[0;36mSiteFamily.__hash__\u001b[0;34m(self)\u001b[0m\n\u001b[1;32m    155\u001b[0m     orbs \u001b[39m=\u001b[39m \u001b[39m'\u001b[39m\u001b[39m with \u001b[39m\u001b[39m{0}\u001b[39;00m\u001b[39m orbitals\u001b[39m\u001b[39m'\u001b[39m\u001b[39m.\u001b[39mformat(\u001b[39mself\u001b[39m\u001b[39m.\u001b[39mnorbs) \u001b[39mif\u001b[39;00m \u001b[39mself\u001b[39m\u001b[39m.\u001b[39mnorbs \u001b[39melse\u001b[39;00m \u001b[39m'\u001b[39m\u001b[39m'\u001b[39m\n\u001b[1;32m    156\u001b[0m     \u001b[39mreturn\u001b[39;00m msg\u001b[39m.\u001b[39mformat(\u001b[39mself\u001b[39m\u001b[39m.\u001b[39m\u001b[39m__class__\u001b[39m\u001b[39m.\u001b[39m\u001b[39m__name__\u001b[39m, \u001b[39mself\u001b[39m\u001b[39m.\u001b[39mname, orbs)\n\u001b[0;32m--> 158\u001b[0m \u001b[39mdef\u001b[39;00m \u001b[39m__hash__\u001b[39m(\u001b[39mself\u001b[39m):\n\u001b[1;32m    159\u001b[0m     \u001b[39mreturn\u001b[39;00m \u001b[39mself\u001b[39m\u001b[39m.\u001b[39mhash\n\u001b[1;32m    161\u001b[0m \u001b[39mdef\u001b[39;00m \u001b[39m__eq__\u001b[39m(\u001b[39mself\u001b[39m, other):\n",
      "\u001b[0;31mKeyboardInterrupt\u001b[0m: "
     ]
    }
   ],
   "source": [
    "@dataclass\n",
    "class parameters:\n",
    "    a : float # Lattice constant\n",
    "    L_x : float # Dimension of planar system in x direction\n",
    "    L_y : float # Dimension of planar system in y direction\n",
    "    W : float # Width of the normal region in y direction\n",
    "    m_eff : float # Effective mass\n",
    "    mu : float # Chemical potential  \n",
    "    alpha : float # Rashba coupling\n",
    "    E_z : float # In plane Zeeman\n",
    "    Delta : float # Superconducting gap\n",
    "    phase : float # Phase bias of Josephson junction\n",
    "\n",
    "def make_system(params):\n",
    "    \n",
    "    # Continuum model:\n",
    "    hamiltonian = \"\"\" (1/(2*m_eff))*(k_x^2 + k_y^2)*kron(sigma_z , sigma_0) - mu*kron(sigma_z , sigma_0) + 0.5*(m_eff*(alpha^2))*kron(sigma_z, sigma_0) \n",
    "    + alpha*k_x*kron(sigma_z , sigma_y) + alpha*kron(sigma_z , sigma_x) + E_z*kron(sigma_0 , sigma_x) + Delta*kron(sigma_x , sigma_0)\"\"\"\n",
    "\n",
    "    template_sc = discretize(hamiltonian , grid = params.a)\n",
    "    template_normal = discretize(hamiltonian , locals =  {'Delta' : 0 } , grid = params.a)\n",
    "\n",
    "    half_w = params.W // 2\n",
    "    half_L_y = params.L_y // 2\n",
    "    def normal_region(site):\n",
    "        x , y = site.pos\n",
    "        return (half_L_y - half_w) < y  and y > (half_L_y + half_w)\n",
    "    \n",
    "    def bottom_super_region(site):\n",
    "        x , y = site.pos\n",
    "        return y <= (half_L_y - half_w)\n",
    "    \n",
    "    def top_super_region(site):\n",
    "        x , y = site.pos\n",
    "        return y >= (half_L_y + half_w)\n",
    "\n",
    "    syst = kwant.Builder()\n",
    "    syst.fill(template_sc , bottom_super_region , (0 , 0) )\n",
    "params = parameters(a = 1 , L_x = 20 , L_y = 21 , W  = 3 , m_eff = 1 , mu = 5 , alpha = 0.1 , E_z= 1 , Delta = 1 , phase = 0)\n",
    "make_system(params)\n",
    "\n",
    "\n",
    "\n",
    "\n"
   ]
  },
  {
   "cell_type": "code",
   "execution_count": 10,
   "metadata": {},
   "outputs": [
    {
     "name": "stdout",
     "output_type": "stream",
     "text": [
      "[ 0  1  2  3  4  5  6  7  8  9 10 11 12 13 14 15 16 17 18 19 20]\n",
      "10\n"
     ]
    }
   ],
   "source": [
    "print(np.arange(params.L_y))\n"
   ]
  },
  {
   "cell_type": "code",
   "execution_count": null,
   "metadata": {},
   "outputs": [],
   "source": []
  }
 ],
 "metadata": {
  "kernelspec": {
   "display_name": "base",
   "language": "python",
   "name": "python3"
  },
  "language_info": {
   "codemirror_mode": {
    "name": "ipython",
    "version": 3
   },
   "file_extension": ".py",
   "mimetype": "text/x-python",
   "name": "python",
   "nbconvert_exporter": "python",
   "pygments_lexer": "ipython3",
   "version": "3.8.13"
  },
  "orig_nbformat": 4
 },
 "nbformat": 4,
 "nbformat_minor": 2
}
