{
 "cells": [
  {
   "cell_type": "code",
   "execution_count": 2,
   "metadata": {},
   "outputs": [],
   "source": [
    "import numpy as np\n",
    "import matplotlib.pyplot as plt\n",
    "import kwant \n",
    "from dataclasses import dataclass\n",
    "%matplotlib widget\n",
    "\n",
    "import RGF_single_orbital as rg"
   ]
  },
  {
   "cell_type": "code",
   "execution_count": 5,
   "metadata": {},
   "outputs": [],
   "source": [
    "@dataclass\n",
    "class system_parameters:\n",
    "    W: float\n",
    "    L: float\n",
    "    t: float\n",
    "    a: float\n",
    "    mu : float\n",
    "\n",
    "params = system_parameters(W = 10 , L = 10 , a = 1, t = 1 , mu = 0.5)"
   ]
  },
  {
   "cell_type": "markdown",
   "metadata": {},
   "source": [
    "Testing using `kwant.physics.modes` for mode sorting and building the Greens function in the scattering region..."
   ]
  },
  {
   "cell_type": "code",
   "execution_count": 17,
   "metadata": {},
   "outputs": [
    {
     "name": "stdout",
     "output_type": "stream",
     "text": [
      "<kwant.physics.leads.PropagatingModes object at 0x7f90e7f2af10>\n"
     ]
    }
   ],
   "source": [
    "# Hamiltonian of a single slice in the lead:\n",
    "h_cell = rg.h_0(0 , params)\n",
    "h_hop = rg.T(0 , -1 , params)\n",
    "\n",
    "propagating , stabilized = kwant.physics.modes(h_cell , h_hop)\n",
    "\n",
    "print(propagating)"
   ]
  },
  {
   "cell_type": "code",
   "execution_count": 16,
   "metadata": {},
   "outputs": [
    {
     "name": "stdout",
     "output_type": "stream",
     "text": [
      "[-1.22490594 -0.83469721  1.22490594  0.83469721]\n",
      "[2]\n"
     ]
    }
   ],
   "source": [
    "momenta = propagating.momenta\n",
    "wavefunctions = propagating.wave_functions\n",
    "velocities = propagating.velocities\n",
    "block_nmodes = propagating.block_nmodes\n",
    "\n",
    "print(velocities)\n",
    "\n",
    "print(block_nmodes)\n"
   ]
  },
  {
   "cell_type": "code",
   "execution_count": null,
   "metadata": {},
   "outputs": [],
   "source": []
  }
 ],
 "metadata": {
  "kernelspec": {
   "display_name": "base",
   "language": "python",
   "name": "python3"
  },
  "language_info": {
   "codemirror_mode": {
    "name": "ipython",
    "version": 3
   },
   "file_extension": ".py",
   "mimetype": "text/x-python",
   "name": "python",
   "nbconvert_exporter": "python",
   "pygments_lexer": "ipython3",
   "version": "3.8.13"
  },
  "orig_nbformat": 4
 },
 "nbformat": 4,
 "nbformat_minor": 2
}
